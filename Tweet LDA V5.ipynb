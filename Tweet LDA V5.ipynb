{
 "cells": [
  {
   "cell_type": "markdown",
   "metadata": {},
   "source": [
    "# Latent Dirichlet Allocation of Tweets"
   ]
  },
  {
   "cell_type": "markdown",
   "metadata": {},
   "source": [
    "## 1. Introduction\n",
    "In natural language processing, the Latent Dirichlet Allocation (LDA) is a generative statistical model that allows sets of observations to be explained by unobserved groups that explain why some parts of the data are similar.\n",
    "We would like to determine the number of topics on tweets from Singapore collected in April 2021."
   ]
  },
  {
   "cell_type": "markdown",
   "metadata": {},
   "source": [
    "## 2. Exploratory data analysis"
   ]
  },
  {
   "cell_type": "markdown",
   "metadata": {},
   "source": [
    "### 2.1 Load the data"
   ]
  },
  {
   "cell_type": "code",
   "execution_count": 1,
   "metadata": {},
   "outputs": [],
   "source": [
    "import json"
   ]
  },
  {
   "cell_type": "code",
   "execution_count": 2,
   "metadata": {},
   "outputs": [],
   "source": [
    "#import findspark\n",
    "#findspark.init()"
   ]
  },
  {
   "cell_type": "code",
   "execution_count": 3,
   "metadata": {
    "scrolled": true
   },
   "outputs": [],
   "source": [
    "from pyspark.sql import SparkSession\n",
    "from pyspark.sql.functions import split, explode, udf, lit\n",
    "\n",
    "spark = SparkSession.builder.appName('read JSON files').getOrCreate()"
   ]
  },
  {
   "cell_type": "code",
   "execution_count": 4,
   "metadata": {},
   "outputs": [],
   "source": [
    "# json_df=spark.read.option(\"inferSchema\",\"true\") \\\n",
    "#                 .option(\"header\",\"true\") \\\n",
    "#                 .option(\"sep\",\",\") \\\n",
    "#                 .json(\"Mar*.json\")"
   ]
  },
  {
   "cell_type": "code",
   "execution_count": 5,
   "metadata": {},
   "outputs": [],
   "source": [
    "#json_df=spark.read.json(\"tweets.txt\")"
   ]
  },
  {
   "cell_type": "code",
   "execution_count": 9,
   "metadata": {},
   "outputs": [],
   "source": [
    "# sudo -u hdfs hdfs dfsadmin -safemode leave\n",
    "# turn off safemode\n",
    "# json_df=spark.read.json(\"hdfs://localhost:8020/user/cloudera/twitter_Extract\")"
   ]
  },
  {
   "cell_type": "code",
   "execution_count": 8,
   "metadata": {},
   "outputs": [],
   "source": [
    "json_df=spark.read.json(\"Apr_tweets*.json\")"
   ]
  },
  {
   "cell_type": "code",
   "execution_count": 15,
   "metadata": {},
   "outputs": [],
   "source": [
    "data_df=spark.read.json(\"data.json\")"
   ]
  },
  {
   "cell_type": "code",
   "execution_count": 7,
   "metadata": {},
   "outputs": [
    {
     "data": {
      "text/plain": [
       "1"
      ]
     },
     "execution_count": 7,
     "metadata": {},
     "output_type": "execute_result"
    }
   ],
   "source": [
    "# number of files\n",
    "json_df.count()"
   ]
  },
  {
   "cell_type": "code",
   "execution_count": 8,
   "metadata": {},
   "outputs": [
    {
     "name": "stdout",
     "output_type": "stream",
     "text": [
      "root\n",
      " |-- author_id: string (nullable = true)\n",
      " |-- created_at: string (nullable = true)\n",
      " |-- geo: struct (nullable = true)\n",
      " |    |-- place_id: string (nullable = true)\n",
      " |-- id: string (nullable = true)\n",
      " |-- public_metrics: struct (nullable = true)\n",
      " |    |-- like_count: long (nullable = true)\n",
      " |    |-- quote_count: long (nullable = true)\n",
      " |    |-- reply_count: long (nullable = true)\n",
      " |    |-- retweet_count: long (nullable = true)\n",
      " |-- text: string (nullable = true)\n",
      "\n"
     ]
    }
   ],
   "source": [
    "# show the schema\n",
    "json_df.printSchema()"
   ]
  },
  {
   "cell_type": "markdown",
   "metadata": {},
   "source": [
    "### 2.2 Select the json data"
   ]
  },
  {
   "cell_type": "markdown",
   "metadata": {},
   "source": [
    "#### 2.2.1 Select tweet text json"
   ]
  },
  {
   "cell_type": "code",
   "execution_count": 11,
   "metadata": {},
   "outputs": [
    {
     "name": "stdout",
     "output_type": "stream",
     "text": [
      "root\n",
      " |-- data: array (nullable = true)\n",
      " |    |-- element: struct (containsNull = true)\n",
      " |    |    |-- author_id: string (nullable = true)\n",
      " |    |    |-- created_at: string (nullable = true)\n",
      " |    |    |-- geo: struct (nullable = true)\n",
      " |    |    |    |-- coordinates: struct (nullable = true)\n",
      " |    |    |    |    |-- coordinates: array (nullable = true)\n",
      " |    |    |    |    |    |-- element: double (containsNull = true)\n",
      " |    |    |    |    |-- type: string (nullable = true)\n",
      " |    |    |    |-- place_id: string (nullable = true)\n",
      " |    |    |-- id: string (nullable = true)\n",
      " |    |    |-- public_metrics: struct (nullable = true)\n",
      " |    |    |    |-- like_count: long (nullable = true)\n",
      " |    |    |    |-- quote_count: long (nullable = true)\n",
      " |    |    |    |-- reply_count: long (nullable = true)\n",
      " |    |    |    |-- retweet_count: long (nullable = true)\n",
      " |    |    |-- text: string (nullable = true)\n",
      "\n"
     ]
    }
   ],
   "source": [
    "# show the schema for tweets\n",
    "json_df.select('data').printSchema()"
   ]
  },
  {
   "cell_type": "code",
   "execution_count": 12,
   "metadata": {},
   "outputs": [],
   "source": [
    "# convert array to dict\n",
    "data_df=json_df.select('data').withColumn('data', explode('data').alias('data'))"
   ]
  },
  {
   "cell_type": "code",
   "execution_count": 10,
   "metadata": {},
   "outputs": [
    {
     "name": "stdout",
     "output_type": "stream",
     "text": [
      "root\n",
      " |-- author_id: string (nullable = true)\n",
      " |-- created_at: string (nullable = true)\n",
      " |-- geo: struct (nullable = true)\n",
      " |    |-- place_id: string (nullable = true)\n",
      " |-- id: string (nullable = true)\n",
      " |-- public_metrics: struct (nullable = true)\n",
      " |    |-- like_count: long (nullable = true)\n",
      " |    |-- quote_count: long (nullable = true)\n",
      " |    |-- reply_count: long (nullable = true)\n",
      " |    |-- retweet_count: long (nullable = true)\n",
      " |-- text: string (nullable = true)\n",
      "\n"
     ]
    }
   ],
   "source": [
    "# print the schema after conversion\n",
    "data_df.printSchema()"
   ]
  },
  {
   "cell_type": "code",
   "execution_count": 16,
   "metadata": {},
   "outputs": [
    {
     "data": {
      "text/plain": [
       "1"
      ]
     },
     "execution_count": 16,
     "metadata": {},
     "output_type": "execute_result"
    }
   ],
   "source": [
    "# number of records\n",
    "data_df.count()"
   ]
  },
  {
   "cell_type": "code",
   "execution_count": null,
   "metadata": {},
   "outputs": [],
   "source": [
    "# select the attributes to flatten\n",
    "data_df=data_df.select('data.author_id',\n",
    "                       'data.created_at',\n",
    "                       'data.geo.place_id',\n",
    "                       'data.id',\n",
    "                       'data.public_metrics',\n",
    "                       'data.text')"
   ]
  },
  {
   "cell_type": "code",
   "execution_count": 17,
   "metadata": {},
   "outputs": [
    {
     "name": "stdout",
     "output_type": "stream",
     "text": [
      "root\n",
      " |-- author_id: string (nullable = true)\n",
      " |-- created_at: string (nullable = true)\n",
      " |-- geo: struct (nullable = true)\n",
      " |    |-- place_id: string (nullable = true)\n",
      " |-- id: string (nullable = true)\n",
      " |-- public_metrics: struct (nullable = true)\n",
      " |    |-- like_count: long (nullable = true)\n",
      " |    |-- quote_count: long (nullable = true)\n",
      " |    |-- reply_count: long (nullable = true)\n",
      " |    |-- retweet_count: long (nullable = true)\n",
      " |-- text: string (nullable = true)\n",
      "\n"
     ]
    }
   ],
   "source": [
    "# the schema after selection\n",
    "data_df.printSchema()"
   ]
  },
  {
   "cell_type": "markdown",
   "metadata": {},
   "source": [
    "#### 2.2.2 Select tweet place json"
   ]
  },
  {
   "cell_type": "code",
   "execution_count": 29,
   "metadata": {},
   "outputs": [],
   "source": [
    "# select the place content\n",
    "place_df=json_df.select('includes.places')"
   ]
  },
  {
   "cell_type": "code",
   "execution_count": 30,
   "metadata": {},
   "outputs": [
    {
     "name": "stdout",
     "output_type": "stream",
     "text": [
      "root\n",
      " |-- places: array (nullable = true)\n",
      " |    |-- element: struct (containsNull = true)\n",
      " |    |    |-- country: string (nullable = true)\n",
      " |    |    |-- country_code: string (nullable = true)\n",
      " |    |    |-- full_name: string (nullable = true)\n",
      " |    |    |-- id: string (nullable = true)\n",
      "\n"
     ]
    }
   ],
   "source": [
    "# show the schema fo place\n",
    "place_df.printSchema()"
   ]
  },
  {
   "cell_type": "markdown",
   "metadata": {},
   "source": [
    "#### 2.2.3 Select tweet user json"
   ]
  },
  {
   "cell_type": "code",
   "execution_count": 31,
   "metadata": {},
   "outputs": [],
   "source": [
    "# select the user content\n",
    "user_df=json_df.select('includes.users')"
   ]
  },
  {
   "cell_type": "code",
   "execution_count": 32,
   "metadata": {},
   "outputs": [
    {
     "name": "stdout",
     "output_type": "stream",
     "text": [
      "root\n",
      " |-- users: array (nullable = true)\n",
      " |    |-- element: struct (containsNull = true)\n",
      " |    |    |-- id: string (nullable = true)\n",
      " |    |    |-- location: string (nullable = true)\n",
      " |    |    |-- name: string (nullable = true)\n",
      " |    |    |-- username: string (nullable = true)\n",
      "\n"
     ]
    }
   ],
   "source": [
    "# show the schema fo user\n",
    "user_df.printSchema()"
   ]
  },
  {
   "cell_type": "markdown",
   "metadata": {},
   "source": [
    "### 2.3 Unravel the nested json"
   ]
  },
  {
   "cell_type": "code",
   "execution_count": 18,
   "metadata": {},
   "outputs": [],
   "source": [
    "import pyspark.sql.types as T\n",
    "from pyspark.sql.functions import col"
   ]
  },
  {
   "cell_type": "code",
   "execution_count": 19,
   "metadata": {},
   "outputs": [],
   "source": [
    "def read_nested_json(df):\n",
    "    column_list = []\n",
    "\n",
    "    for column_name in df.schema.names:\n",
    "        print(\"Outside isinstance loop: \" + column_name)\n",
    "        # Checking column type is ArrayType\n",
    "        if isinstance(df.schema[column_name].dataType, T.ArrayType):\n",
    "            print(\"Inside isinstance loop of ArrayType: \" + column_name)\n",
    "            df = df.withColumn(column_name, explode(column_name).alias(column_name))\n",
    "            column_list.append(column_name)\n",
    "\n",
    "        elif isinstance(df.schema[column_name].dataType, T.StructType):\n",
    "            print(\"Inside isinstance loop of StructType: \" + column_name)\n",
    "            for field in df.schema[column_name].dataType.fields:\n",
    "                column_list.append(col(column_name + \".\" + field.name).alias(column_name + \"_\" + field.name))\n",
    "        else:\n",
    "            column_list.append(column_name)\n",
    "\n",
    "    # Selecting columns using column_list from dataframe: df\n",
    "    df = df.select(column_list)\n",
    "    return df"
   ]
  },
  {
   "cell_type": "code",
   "execution_count": 20,
   "metadata": {},
   "outputs": [],
   "source": [
    "def flatten_nested_json(df):\n",
    "    read_nested_json_flag = True\n",
    "    while read_nested_json_flag:\n",
    "        print(\"Reading Nested JSON File ... \")\n",
    "        df = read_nested_json(df)\n",
    "        #df.show(100, False)\n",
    "        read_nested_json_flag = False\n",
    "\n",
    "        for column_name in df.schema.names:\n",
    "            if isinstance(df.schema[column_name].dataType, T.ArrayType):\n",
    "              read_nested_json_flag = True\n",
    "            elif isinstance(df.schema[column_name].dataType, T.StructType):\n",
    "              read_nested_json_flag = True\n",
    "    return df"
   ]
  },
  {
   "cell_type": "code",
   "execution_count": 21,
   "metadata": {
    "scrolled": false
   },
   "outputs": [
    {
     "name": "stdout",
     "output_type": "stream",
     "text": [
      "Reading Nested JSON File ... \n",
      "Outside isinstance loop: author_id\n",
      "Outside isinstance loop: created_at\n",
      "Outside isinstance loop: place_id\n",
      "Outside isinstance loop: id\n",
      "Outside isinstance loop: public_metrics\n",
      "Inside isinstance loop of StructType: public_metrics\n",
      "Outside isinstance loop: text\n"
     ]
    }
   ],
   "source": [
    "# flatten the tweet content\n",
    "data_df=flatten_nested_json(data_df)"
   ]
  },
  {
   "cell_type": "code",
   "execution_count": 24,
   "metadata": {},
   "outputs": [
    {
     "name": "stdout",
     "output_type": "stream",
     "text": [
      "+-------------------+--------------------+----------------+-------------------+-------------------------+--------------------------+--------------------------+----------------------------+--------------------+\n",
      "|          author_id|          created_at|        place_id|                 id|public_metrics_like_count|public_metrics_quote_count|public_metrics_reply_count|public_metrics_retweet_count|                text|\n",
      "+-------------------+--------------------+----------------+-------------------+-------------------------+--------------------------+--------------------------+----------------------------+--------------------+\n",
      "|1278250537972985856|2021-04-19T08:41:...|5f1f473ed6455f55|1384064534600507392|                        1|                         0|                         1|                           0|@hhjflrts im sorr...|\n",
      "|           63608631|2021-04-19T08:41:...|58a4c3a0d54e1400|1384064515759693830|                        1|                         0|                         1|                           0|@yogezlor By now ...|\n",
      "|          125625919|2021-04-19T08:40:...|6635b2fcebd13c64|1384064394011709446|                        0|                         0|                         0|                           0|Forgot about the ...|\n",
      "|1357206521407434752|2021-04-19T08:40:...|2509b9adc1fedfd2|1384064393017626635|                        2|                         0|                         0|                           1|Massive protester...|\n",
      "|           24787145|2021-04-19T08:38:...|58a4c3a0d54e1400|1384063860852678657|                        0|                         0|                         0|                           0|Just posted a pho...|\n",
      "|           74392791|2021-04-19T08:37:...|58a4c3a0d54e1400|1384063582938140673|                        2|                         0|                         1|                           0|@Ibraheema_Ykb Ok...|\n",
      "|            6988732|2021-04-19T08:37:...|58a4c3a0d54e1400|1384063508652851200|                        1|                         0|                         0|                           0|@mintea AND KIDS....|\n",
      "|         4814996200|2021-04-19T08:35:...|58a4c3a0d54e1400|1384063029076127747|                        0|                         0|                         0|                           0|Just posted a pho...|\n",
      "|         1186314151|2021-04-19T08:32:...|58a4c3a0d54e1400|1384062369492389892|                        1|                         0|                         0|                           0|@SheaSonia I am s...|\n",
      "|1356948730046537736|2021-04-19T08:32:...|6635b2fcebd13c64|1384062319781502977|                        1|                         0|                         0|                           1|In MyinGyan, terr...|\n",
      "+-------------------+--------------------+----------------+-------------------+-------------------------+--------------------------+--------------------------+----------------------------+--------------------+\n",
      "only showing top 10 rows\n",
      "\n"
     ]
    }
   ],
   "source": [
    "# show the first 10 records\n",
    "data_df.show(10)"
   ]
  },
  {
   "cell_type": "code",
   "execution_count": 25,
   "metadata": {},
   "outputs": [
    {
     "name": "stdout",
     "output_type": "stream",
     "text": [
      "+--------+\n",
      "|count(1)|\n",
      "+--------+\n",
      "|   47978|\n",
      "+--------+\n",
      "\n"
     ]
    }
   ],
   "source": [
    "# check the number of record in data_df dataframe\n",
    "data_df.createOrReplaceTempView(\"df_data\")\n",
    "spark.sql(\"SELECT count(*) FROM df_data\").show()"
   ]
  },
  {
   "cell_type": "code",
   "execution_count": 26,
   "metadata": {},
   "outputs": [
    {
     "name": "stdout",
     "output_type": "stream",
     "text": [
      "+------------------+\n",
      "|count(DISTINCT id)|\n",
      "+------------------+\n",
      "|             47978|\n",
      "+------------------+\n",
      "\n"
     ]
    }
   ],
   "source": [
    "# check that the id is the primary key\n",
    "spark.sql(\"SELECT count(DISTINCT id) FROM df_data\").show()"
   ]
  },
  {
   "cell_type": "code",
   "execution_count": 33,
   "metadata": {},
   "outputs": [
    {
     "name": "stdout",
     "output_type": "stream",
     "text": [
      "Reading Nested JSON File ... \n",
      "Outside isinstance loop: places\n",
      "Inside isinstance loop of ArrayType: places\n",
      "Reading Nested JSON File ... \n",
      "Outside isinstance loop: places\n",
      "Inside isinstance loop of StructType: places\n"
     ]
    }
   ],
   "source": [
    "# flatten the content for place\n",
    "place_df=flatten_nested_json(place_df)"
   ]
  },
  {
   "cell_type": "code",
   "execution_count": 36,
   "metadata": {},
   "outputs": [
    {
     "name": "stdout",
     "output_type": "stream",
     "text": [
      "+--------+\n",
      "|count(1)|\n",
      "+--------+\n",
      "|    1502|\n",
      "+--------+\n",
      "\n"
     ]
    }
   ],
   "source": [
    "# check the number of unique place in place_df dataframe\n",
    "place_df.createOrReplaceTempView(\"df_place\")\n",
    "spark.sql(\"SELECT count(*) FROM df_place\").show()"
   ]
  },
  {
   "cell_type": "code",
   "execution_count": 39,
   "metadata": {},
   "outputs": [
    {
     "name": "stdout",
     "output_type": "stream",
     "text": [
      "+--------------+-------------------+--------------------------------------------------+----------------+\n",
      "|places_country|places_country_code|places_full_name                                  |places_id       |\n",
      "+--------------+-------------------+--------------------------------------------------+----------------+\n",
      "|Singapore     |SG                 |North-East Region, Singapore                      |5f1f473ed6455f55|\n",
      "|Singapore     |SG                 |Central Region, Singapore                         |58a4c3a0d54e1400|\n",
      "|Singapore     |SG                 |East Region, Singapore                            |6635b2fcebd13c64|\n",
      "|Singapore     |SG                 |Singapore                                         |2509b9adc1fedfd2|\n",
      "|Singapore     |SG                 |North Region, Singapore                           |14d9532bd696d8cb|\n",
      "|Singapore     |SG                 |West Region, Singapore                            |0b37664066a8962a|\n",
      "|Singapore     |SG                 |Lazarus Island                                    |07d9ed829f484001|\n",
      "|Singapore     |SG                 |ArtScience Museum                                 |07d9e3e81bc86003|\n",
      "|Singapore     |SG                 |Bts Popup: Map Of The Soul: 7 Showcase Singapore  |129f6160db954002|\n",
      "|Singapore     |SG                 |Marina Bay Sands                                  |07d9e66927087001|\n",
      "|Singapore     |SG                 |Fusionopolis                                      |07d9d22515080000|\n",
      "|Singapore     |SG                 |The Mayfair                                       |07d9d40afec80004|\n",
      "|Singapore     |SG                 |Central Region, Singapore                         |58a4c3a0d54e1400|\n",
      "|Singapore     |SG                 |East Region, Singapore                            |6635b2fcebd13c64|\n",
      "|Singapore     |SG                 |West Region, Singapore                            |0b37664066a8962a|\n",
      "|Singapore     |SG                 |North Region, Singapore                           |14d9532bd696d8cb|\n",
      "|Singapore     |SG                 |Esplanade - Theatres On The Bay                   |07d9c94089085007|\n",
      "|Singapore     |SG                 |North-East Region, Singapore                      |5f1f473ed6455f55|\n",
      "|Singapore     |SG                 |Open Space Beside Yew Tee Point                   |07d9e4e2d2083000|\n",
      "|Singapore     |SG                 |Dancing Crab | Louisiana Seafood                  |0fc3322d5754f000|\n",
      "|Singapore     |SG                 |Singapore                                         |2509b9adc1fedfd2|\n",
      "|Singapore     |SG                 |7-Eleven #125                                     |0dee62ac0954c000|\n",
      "|Singapore     |SG                 |Hua Yi Secondary School                           |07d9edeee2485000|\n",
      "|Singapore     |SG                 |Cloud Forest                                      |07d9f66942480000|\n",
      "|Singapore     |SG                 |Flower Dome                                       |07d9cd53b1885000|\n",
      "|Singapore     |SG                 |Ghim Moh Link Bridge                              |0fc30a1dd854d000|\n",
      "|Singapore     |SG                 |Blk 26 Ghim Moh Link                              |07d9e613f2c85000|\n",
      "|Singapore     |SG                 |ChaTraMue                                         |1212be19d494c000|\n",
      "|Singapore     |SG                 |Singapore Turf Club                               |07d9d2201ac88000|\n",
      "|Singapore     |SG                 |Tanglin Mall                                      |07d9f5bcd4482001|\n",
      "|Singapore     |SG                 |28 HongKong Street                                |0a63a84727162001|\n",
      "|Singapore     |SG                 |Lee Kong Chian Natural History Museum             |07f4746a95572000|\n",
      "|Singapore     |SG                 |Dhoby Ghaut MRT Interchange (CC1/NE6/NS24)        |07d9d2256e481002|\n",
      "|Singapore     |SG                 |Jinjja Chicken                                    |113dfaa761950001|\n",
      "|Singapore     |SG                 |Changi Sailing Club                               |07d9f5c968c85002|\n",
      "|Singapore     |SG                 |Singapore Botanic Gardens                         |07d9d22e02884003|\n",
      "|Singapore     |SG                 |Books Kinokuniya 紀伊國屋書店                     |0fc2ea15b1155000|\n",
      "|Singapore     |SG                 |Central Region, Singapore                         |58a4c3a0d54e1400|\n",
      "|Singapore     |SG                 |West Region, Singapore                            |0b37664066a8962a|\n",
      "|Singapore     |SG                 |East Region, Singapore                            |6635b2fcebd13c64|\n",
      "|Singapore     |SG                 |North-East Region, Singapore                      |5f1f473ed6455f55|\n",
      "|Singapore     |SG                 |North Region, Singapore                           |14d9532bd696d8cb|\n",
      "|Singapore     |SG                 |Singapore                                         |2509b9adc1fedfd2|\n",
      "|Singapore     |SG                 |Li Xin Teochew Fishball Noodles                   |12c1d740dcd4c001|\n",
      "|Singapore     |SG                 |Asian Civilisations Museum                        |07d9f738fb486003|\n",
      "|Singapore     |SG                 |Banana Moon                                       |07d9dd6a0fc85000|\n",
      "|Singapore     |SG                 |Punggol 17th                                      |07d9e4ba24c84000|\n",
      "|Singapore     |SG                 |Kranji War Memorial                               |07d9d22989c84002|\n",
      "|Singapore     |SG                 |Pasir Ris Polyclinic                              |07d9c97fbac88001|\n",
      "|Singapore     |SG                 |Clifford Centre                                   |07d9d24e66882000|\n",
      "|Singapore     |SG                 |Mobilehardware Official [ Mh ] (Burlington Square)|132e06da92147000|\n",
      "|Singapore     |SG                 |Bee's Knees                                       |0b681be2f2164000|\n",
      "|Singapore     |SG                 |North-East Region, Singapore                      |5f1f473ed6455f55|\n",
      "|Singapore     |SG                 |West Region, Singapore                            |0b37664066a8962a|\n",
      "|Singapore     |SG                 |Central Region, Singapore                         |58a4c3a0d54e1400|\n",
      "|Singapore     |SG                 |Singapore                                         |2509b9adc1fedfd2|\n",
      "|Singapore     |SG                 |North Region, Singapore                           |14d9532bd696d8cb|\n",
      "|Singapore     |SG                 |East Region, Singapore                            |6635b2fcebd13c64|\n",
      "|Singapore     |SG                 |Marina South Pier                                 |07d9c94d34881001|\n",
      "|Singapore     |SG                 |ION Orchard                                       |07d9ec737a485001|\n",
      "|Singapore     |SG                 |28 HongKong Street                                |0a63a84727162001|\n",
      "|Singapore     |SG                 |Blk 4C, St. George's Lane                         |07d9e5643e088003|\n",
      "|Singapore     |SG                 |Carlton City Hotel                                |07d9f67613481000|\n",
      "|Singapore     |SG                 |Joo Chiat Complex                                 |07d9c948bfc88001|\n",
      "|Singapore     |SG                 |Bistro Gardenesia                                 |07d9f7e73a083000|\n",
      "|Singapore     |SG                 |St. John's Island                                 |07d9ec7813887000|\n",
      "|Singapore     |SG                 |Koji Sushi Bar                                    |122b2a0ade169002|\n",
      "|Singapore     |SG                 |Suntec City Mall                                  |0fc346c8ab942000|\n",
      "|Singapore     |SG                 |Central Region, Singapore                         |58a4c3a0d54e1400|\n",
      "|Singapore     |SG                 |East Region, Singapore                            |6635b2fcebd13c64|\n",
      "|Singapore     |SG                 |North-East Region, Singapore                      |5f1f473ed6455f55|\n",
      "|Singapore     |SG                 |West Region, Singapore                            |0b37664066a8962a|\n",
      "|Singapore     |SG                 |North Region, Singapore                           |14d9532bd696d8cb|\n",
      "|Singapore     |SG                 |BLK 12 EUNOS CRESCENT                             |07d9e3fddac80003|\n",
      "|Singapore     |SG                 |Tower 3 Marina Bay Sands Hotel                    |07d9dc1df3086002|\n",
      "|Singapore     |SG                 |Keat Hong Mirage                                  |07d9d9335a480000|\n",
      "|Singapore     |SG                 |Singapore                                         |2509b9adc1fedfd2|\n",
      "|Singapore     |SG                 |Telok Ayer Green                                  |07d9f75943485000|\n",
      "|Singapore     |SG                 |Library@Harbourfront                              |0fc2e76b4c15e005|\n",
      "|Singapore     |SG                 |a noodle story                                    |07d9d87b34c83002|\n",
      "|Singapore     |SG                 |Ngee Ann Polytechnic (NP)                         |07d9c9408f886000|\n",
      "|Singapore     |SG                 |Mediacorp Campus                                  |0fc28c866d15b000|\n",
      "|Singapore     |SG                 |The Palace II                                     |07d9e6284ec86002|\n",
      "|Singapore     |SG                 |Sentosa Island                                    |07d9d347af081001|\n",
      "|Singapore     |SG                 |Lee Kong Chian Natural History Museum             |07f4746a95572000|\n",
      "|Singapore     |SG                 |Orchid Park Secondary School                      |07d9c9f0f0c85002|\n",
      "|Singapore     |SG                 |Mirror Maze                                       |0ff0e78a6dd55001|\n",
      "|Singapore     |SG                 |Singapore Botanic Gardens                         |07d9d22e02884003|\n",
      "|Singapore     |SG                 |North-East Region, Singapore                      |5f1f473ed6455f55|\n",
      "|Singapore     |SG                 |Central Region, Singapore                         |58a4c3a0d54e1400|\n",
      "|Singapore     |SG                 |West Region, Singapore                            |0b37664066a8962a|\n",
      "|Singapore     |SG                 |East Region, Singapore                            |6635b2fcebd13c64|\n",
      "|Singapore     |SG                 |North Region, Singapore                           |14d9532bd696d8cb|\n",
      "|Singapore     |SG                 |*SCAPE                                            |07d9e3b9fb485000|\n",
      "|Singapore     |SG                 |Singapore                                         |2509b9adc1fedfd2|\n",
      "|Singapore     |SG                 |Gardens by the Bay                                |0fc345192454f000|\n",
      "|Singapore     |SG                 |ArtScience Museum                                 |07d9e3e81bc86003|\n",
      "|Singapore     |SG                 |Singapore Turf Club                               |07d9d2201ac88000|\n",
      "|Singapore     |SG                 |Suntec City Tower 1&2 Taxi Stand                  |07d9ecb1b2082000|\n",
      "|Singapore     |SG                 |Chestnut Nature Park                              |0fc2dd3a9314c000|\n",
      "+--------------+-------------------+--------------------------------------------------+----------------+\n",
      "only showing top 100 rows\n",
      "\n"
     ]
    }
   ],
   "source": [
    "# show the tweet location for first 100 records\n",
    "place_df.show(100, False)"
   ]
  },
  {
   "cell_type": "code",
   "execution_count": 40,
   "metadata": {},
   "outputs": [
    {
     "name": "stdout",
     "output_type": "stream",
     "text": [
      "Reading Nested JSON File ... \n",
      "Outside isinstance loop: users\n",
      "Inside isinstance loop of ArrayType: users\n",
      "Reading Nested JSON File ... \n",
      "Outside isinstance loop: users\n",
      "Inside isinstance loop of StructType: users\n"
     ]
    }
   ],
   "source": [
    "# flatten the neseted json of user\n",
    "user_df=flatten_nested_json(user_df)"
   ]
  },
  {
   "cell_type": "code",
   "execution_count": 44,
   "metadata": {},
   "outputs": [
    {
     "name": "stdout",
     "output_type": "stream",
     "text": [
      "+------------------------+\n",
      "|count(DISTINCT users_id)|\n",
      "+------------------------+\n",
      "|                    4374|\n",
      "+------------------------+\n",
      "\n"
     ]
    }
   ],
   "source": [
    "# check the number of unique user in user_df dataframe\n",
    "user_df.createOrReplaceTempView(\"df_user\")\n",
    "spark.sql(\"SELECT count(DISTINCT users_id) FROM df_user\").show()"
   ]
  },
  {
   "cell_type": "code",
   "execution_count": 45,
   "metadata": {},
   "outputs": [
    {
     "name": "stdout",
     "output_type": "stream",
     "text": [
      "+-------------------+------------------------------+--------------------------------+---------------+\n",
      "|users_id           |users_location                |users_name                      |users_username |\n",
      "+-------------------+------------------------------+--------------------------------+---------------+\n",
      "|1278250537972985856|stayville / chan's room       |skztrees                        |skztrees       |\n",
      "|63608631           |A Galaxy Far Far Away...      |Я.                              |raguugar       |\n",
      "|125625919          |Singapore                     |Lexelle de Charmaine            |lexelledextjluv|\n",
      "|1357206521407434752|Myanmar                       |HninOo05                        |HninOoWai05    |\n",
      "|24787145           |Singapore                     |SGFirstAid                      |sfatc          |\n",
      "|74392791           |Central Region, Singapore     |Abu Zimal                       |chat2deen      |\n",
      "|6988732            |Singapore                     |Daphne Maia                     |daphnemaia     |\n",
      "|4814996200         |London/Singapore              |bakchormeeboy                   |bakchormeeboy  |\n",
      "|1186314151         |East Region, Singapore        |Bambang Kajairi                 |BambangKajairi |\n",
      "|1356948730046537736|null                          |Hnin Zar                        |hninzar5       |\n",
      "|781137706474545152 |null                          |𝒮𝒶𝓇𝒶 𝒮𝒶𝒷𝓈 🎀            |sxrxfxnxh      |\n",
      "|1267103520345305088|null                          |Liza Magsino                    |magsino_liza   |\n",
      "|3260022529         |null                          |Mira🧸                          |meyraa94       |\n",
      "|22220293           |Find me if you can            |cheguthamrin                    |cheguthamrin   |\n",
      "|1341346163924979714|Singapore                     |SSRAAM                          |SSRAAM10       |\n",
      "|56246952           |Fucking Wonderland. Always    |Cakeee                          |baziltt        |\n",
      "|372316304          |Singapore                     |Hakim Isman                     |HakimIsman     |\n",
      "|238086492          |singapore                     |nicole is working on herself    |nictophile     |\n",
      "|1369590464         |Singapore                     |TSwithsoulofABoy                |marishkanorah  |\n",
      "|33204999           |Somewhere underneath the sky  |Meliana Chandra                 |melianachandra |\n",
      "|1317728930         |Thannoothu                    |commonman                       |isureshtweet   |\n",
      "|2799490740         |Singapore and London          |H.L. Chan 院翰林                |henrychanesq   |\n",
      "|733614222710464512 |null                          |Shio                            |shishiodesu    |\n",
      "|1167295831835201538|♡, 𝖆𝖍𝖙𝖔𝖕𝖕               |𝓼𝓱𝓪𝓻𝓪𝓱 🥀                 |heyitsharah_   |\n",
      "|1157970560850096128|null                          |Nabilon😁                       |CFCnabilon     |\n",
      "|198837753          |Singapore                     |joel 🦋                         |joelwuj        |\n",
      "|2599137806         |Singapore                     |Md Amir                         |amrates        |\n",
      "|1001084657188847618|null                          |༼ つ ◕•◕ ༽つ                    |desolatusoul   |\n",
      "|1350756808558723077|Singapore                     |mik                             |eelnadliahkim  |\n",
      "|1372613128832307201|Singapore                     |Wan Kyn                         |thewanone      |\n",
      "|191452060          |Singapore                     |Sathish Kumar                   |nitmkumar      |\n",
      "|101150760          |null                          |Jia Xuan                        |jack9310       |\n",
      "|984823966052245504 |Singapore                     |David                           |TKamot         |\n",
      "|99460778           |Muar, Johor                   |coachmaii.mira                  |mai_atoi       |\n",
      "|1301714648291393537|East Region, Singapore        |Eye Luxe Singapore              |eye_luxe       |\n",
      "|1174961209583366144|null                          |Yu                              |Hlaing1Yu      |\n",
      "|17068055           |Singapore                     |vina melody                     |vinamelody     |\n",
      "|29213315           |SINGAPORE                     |Tan Chuan-Jin                   |chuanjin1      |\n",
      "|53246445           |null                          |Jimmy Lim                       |Chemist_Sim    |\n",
      "|2237785058         |SINGAPORE                     |aaronho                         |aaronhorealtor |\n",
      "|1350743805973065728|Singapore                     |Minue.dreams_come_true          |MinueSingapore |\n",
      "|141497338          |singapore                     |robsondesign                    |robsondesignSG |\n",
      "|1014402534423736321|Singapore                     |AL Pacino                       |Vigneshwar_Tony|\n",
      "|1375015639123783686|Singapore                     |Yappep                          |Yappep1        |\n",
      "|134672359          |cinema                        |Sridath                         |DathuRulz      |\n",
      "|3157260415         |Singapore                     |𝑨𝒏𝒅𝒓𝒐 𝑪𝒉𝒂𝒗𝒆𝒛 #ATinSG |DroChavez      |\n",
      "|1380405984372215810|Singapore                     |TuTu                            |TuTu33459543   |\n",
      "|1371089150443548673|null                          |Fly to the moon 🌒              |Liubin_Alex    |\n",
      "|247104291          |Singapore                     |ning                            |ningsterrr     |\n",
      "|1030086494650695680|null                          |Jimin’s Left Shoulder⁷          |JMsLeftShoulder|\n",
      "|1306857068167479300|Singapore                     |21stcenturysg                   |21stCenturyVits|\n",
      "|3251179748         |Singapore                     |SuperSonicSg                    |_supersonicsg  |\n",
      "|2920336466         |Inno Genga                    |Moana✨👑                        |rineslivess    |\n",
      "|1369650811781795841|Singapore                     |BKPPxPenguinsSG                 |BKPPxPenguinsSG|\n",
      "|2607619230         |null                          |Aung Thet                       |harlueeaung    |\n",
      "|35522232           |somewhere out there....       |안안。อัน                       |uknowdorothy   |\n",
      "|358556005          |null                          |nīght fūrÿ                      |_ijaaat        |\n",
      "|1135481046646976513|null                          |farhan 🙊💯                     |kvnghan        |\n",
      "|1199407355969933312|Singapore                     |kelmer kor kor (your/father)    |keelmeer1      |\n",
      "|469391870          |Singapore                     |Heman Chong                     |HemanChong     |\n",
      "|21467726           |Singapore                     |David Tan                       |g33k5p34k      |\n",
      "|5556172            |Singapore                     |Soniya Kulkarni                 |randomrobin    |\n",
      "|607804234          |null                          |John Dice                       |raphaelraj777  |\n",
      "|445429312          |null                          |Siti Hawa ستى حواء              |Sitihawafendi  |\n",
      "|1258647735936270336|null                          |babi chulo                      |hanif_afiq     |\n",
      "|2173945244         |Singapore                     |Hyewon Hwang                    |hyewonii_      |\n",
      "|38924229           |1.383687,103.898283           |Rayn Lim                        |raynlim        |\n",
      "|55570591           |null                          |Ross Struel Clarke              |RossyClarke10  |\n",
      "|498897388          |singapore                     |@Harbejen                       |_BunnySingh_   |\n",
      "|11279012           |Warp 9.95                     |Ivan Shim 沈标明                |ivanshim       |\n",
      "|1055333206096928769|Singapore                     |2NE1 투애니원                   |2ne1_worldxxi  |\n",
      "|116704295          |Singapore                     |Joshua Wong                     |joshuawjj      |\n",
      "|1377100238775672833|Singapore                     |Su Ling                         |SuLing32011602 |\n",
      "|238536368          |Singapore                     |jin jie                         |JJDaBombs      |\n",
      "|924150838053912581 |Singapore                     |marco                           |marcojune17    |\n",
      "|29664101           |singapore                     |ann kok                         |ann_kok        |\n",
      "|1261393366421397504|null                          |Raghu                           |Raghu35351422  |\n",
      "|87445691           |Singapore/ heart in India 🇮🇳|Dalvinder Jeet Kaur             |Hi_Dalvinder   |\n",
      "|4675613552         |null                          |jOna_mae1153 ⁷                  |JMae1153       |\n",
      "|430163868          |johorean                      |CHAPINAS 💛                     |intxnshfnz     |\n",
      "|1538421768         |null                          |ً                               |herniepotter   |\n",
      "|1357273081639620608|null                          |Myat Min Thit Nwe               |MyatMinThitNwe1|\n",
      "|1339182239821701122|null                          |Yoongi💜 ARMY                   |SoeSand29946490|\n",
      "|942029007637352448 |Singapore                     |Hҽαɾƚ Sυɱαɳԃҽ                   |honeyyheartzz  |\n",
      "|1249183893422391296|Singapura                     |𝙽𝚊𝚍𝚒𝚊                      |NadPandaa      |\n",
      "|1172476425242234881|Iloilo, Philippines           |BlessED_International 🕊️👼     |iamrainlouise  |\n",
      "|277824053          |far from the madding crowd    |czarin                          |czawin         |\n",
      "|976063873          |East Region, Singapore        |Ikigai                          |IHarrave       |\n",
      "|51385779           |she/her | 22                  |reneé                           |sawayamadoll   |\n",
      "|285789799          |Costa Rica                    |𝑳𝒂𝒖𝒈𝒉𝒊𝒏𝒈 𝑺𝒕𝒐𝒓𝒎     |lifeistolepak  |\n",
      "|3283030512         |RSVR 470                      |Ghazalee Ibrahim                |GhazaleeIbr    |\n",
      "|343741725          |Singapore                     |That - Wann                     |Kesperwann     |\n",
      "|2252140291         |Singapore                     |Fash The Face                   |EfashaKamarudin|\n",
      "|10872822           |Singapore                     |Sense Hofstede                  |sehof          |\n",
      "|834100005220839425 |partout genre vraiment        |Aethallin                       |Aethallin      |\n",
      "|36258579           |Central Region, Singapore     |PrinzLee 🇸🇬🇵🇭               |_iamprincelee_ |\n",
      "|1339531498689503232|Singapore                     |dandelioncouple loves yeaji ❤️👸|dandelioncouple|\n",
      "|58150531           |Central Region, Singapore     |Joshua Matthew Ng               |joshua57ng     |\n",
      "|215280713          |Singapore                     |MYAT SU LIN                     |myatsulin      |\n",
      "|307287540          |heywood, night city           |Kyle ⚡ Carrillo                 |_KYLEEEE       |\n",
      "+-------------------+------------------------------+--------------------------------+---------------+\n",
      "only showing top 100 rows\n",
      "\n"
     ]
    }
   ],
   "source": [
    "# show the tweet user of first 100 records\n",
    "user_df.show(100, False)"
   ]
  },
  {
   "cell_type": "code",
   "execution_count": 47,
   "metadata": {},
   "outputs": [
    {
     "data": {
      "text/plain": [
       "3446"
      ]
     },
     "execution_count": 47,
     "metadata": {},
     "output_type": "execute_result"
    }
   ],
   "source": [
    "# show the user with user location not null\n",
    "spark.sql(\"SELECT DISTINCT (users_name,users_location) FROM df_data where users_location is not null\").count()"
   ]
  },
  {
   "cell_type": "markdown",
   "metadata": {},
   "source": [
    "## 3. Modelling"
   ]
  },
  {
   "cell_type": "code",
   "execution_count": 50,
   "metadata": {},
   "outputs": [
    {
     "name": "stderr",
     "output_type": "stream",
     "text": [
      "/home/cloudera/anaconda3/lib/python3.7/site-packages/gensim/similarities/__init__.py:15: UserWarning: The gensim.similarities.levenshtein submodule is disabled, because the optional Levenshtein package <https://pypi.org/project/python-Levenshtein/> is unavailable. Install Levenhstein (e.g. `pip install python-Levenshtein`) to suppress this warning.\n",
      "  warnings.warn(msg)\n"
     ]
    }
   ],
   "source": [
    "from pyspark.ml.clustering import LDA\n",
    "from pyspark.ml.feature import RegexTokenizer, StopWordsRemover, CountVectorizer\n",
    "from gensim.models import LsiModel"
   ]
  },
  {
   "cell_type": "code",
   "execution_count": 51,
   "metadata": {},
   "outputs": [],
   "source": [
    "# get the tweet text \n",
    "raw_tweets = data_df.select('id','created_at','text')"
   ]
  },
  {
   "cell_type": "code",
   "execution_count": 52,
   "metadata": {},
   "outputs": [
    {
     "name": "stdout",
     "output_type": "stream",
     "text": [
      "+-------------------+--------------------+--------------------+\n",
      "|                 id|          created_at|                text|\n",
      "+-------------------+--------------------+--------------------+\n",
      "|1384064534600507392|2021-04-19T08:41:...|@hhjflrts im sorr...|\n",
      "|1384064515759693830|2021-04-19T08:41:...|@yogezlor By now ...|\n",
      "|1384064394011709446|2021-04-19T08:40:...|Forgot about the ...|\n",
      "|1384064393017626635|2021-04-19T08:40:...|Massive protester...|\n",
      "|1384063860852678657|2021-04-19T08:38:...|Just posted a pho...|\n",
      "|1384063582938140673|2021-04-19T08:37:...|@Ibraheema_Ykb Ok...|\n",
      "|1384063508652851200|2021-04-19T08:37:...|@mintea AND KIDS....|\n",
      "|1384063029076127747|2021-04-19T08:35:...|Just posted a pho...|\n",
      "|1384062369492389892|2021-04-19T08:32:...|@SheaSonia I am s...|\n",
      "|1384062319781502977|2021-04-19T08:32:...|In MyinGyan, terr...|\n",
      "+-------------------+--------------------+--------------------+\n",
      "only showing top 10 rows\n",
      "\n"
     ]
    }
   ],
   "source": [
    "# show the first 10 records\n",
    "raw_tweets.show(10)"
   ]
  },
  {
   "cell_type": "code",
   "execution_count": 53,
   "metadata": {},
   "outputs": [
    {
     "name": "stdout",
     "output_type": "stream",
     "text": [
      "root\n",
      " |-- id: string (nullable = true)\n",
      " |-- created_at: string (nullable = true)\n",
      " |-- text: string (nullable = true)\n",
      "\n"
     ]
    }
   ],
   "source": [
    "# the schema for raw tweets\n",
    "raw_tweets.printSchema()"
   ]
  },
  {
   "cell_type": "markdown",
   "metadata": {},
   "source": [
    "### 3.1 Prepocess"
   ]
  },
  {
   "cell_type": "markdown",
   "metadata": {},
   "source": [
    "#### 3.1.1 Remove non-text component"
   ]
  },
  {
   "cell_type": "code",
   "execution_count": 54,
   "metadata": {},
   "outputs": [],
   "source": [
    "# Preprocess steps\n",
    "import re\n",
    "from pyspark.sql.functions import udf\n",
    "from pyspark.sql.functions import to_timestamp\n",
    "import pyspark.sql.types as T"
   ]
  },
  {
   "cell_type": "code",
   "execution_count": 55,
   "metadata": {},
   "outputs": [],
   "source": [
    "# convert create_at column to date\n",
    "raw_tweets=raw_tweets.withColumn(\"created_date\", raw_tweets['created_at'].cast(T.DateType()))"
   ]
  },
  {
   "cell_type": "code",
   "execution_count": 58,
   "metadata": {},
   "outputs": [],
   "source": [
    "# define process function\n",
    "my_punctuation = '!\"$%&\\'()*+,-./:;<=>?[\\\\]^_`{|}~•@â'\n",
    "def remove_links(tweet):\n",
    "    tweet = re.sub(r'http\\S+', '', tweet) \n",
    "    tweet = re.sub(r'bit.ly/\\S+', '', tweet) \n",
    "    tweet = tweet.strip('[link]') \n",
    "    return tweet\n",
    "def remove_users(tweet):\n",
    "    tweet = re.sub('(RT\\s@[A-Za-z]+[A-Za-z0-9-_]+)', '', tweet) \n",
    "    tweet = re.sub('(@[A-Za-z]+[A-Za-z0-9-_]+)', '', tweet) \n",
    "    return tweet\n",
    "def remove_punctuation(tweet):\n",
    "    tweet = re.sub('['+my_punctuation + ']+', ' ', tweet) \n",
    "    return tweet\n",
    "def remove_number(tweet):\n",
    "    tweet = re.sub('([0-9]+)', '', tweet) \n",
    "    return tweet\n",
    "def remove_hashtag(tweet):\n",
    "    tweet = re.sub('(#[A-Za-z]+[A-Za-z0-9-_]+)', '', tweet) \n",
    "    return tweet"
   ]
  },
  {
   "cell_type": "code",
   "execution_count": 59,
   "metadata": {},
   "outputs": [],
   "source": [
    "# register user defined function\n",
    "remove_links=udf(remove_links)\n",
    "remove_users=udf(remove_users)\n",
    "remove_punctuation=udf(remove_punctuation)\n",
    "remove_number=udf(remove_number)\n",
    "remove_hashtag=udf(remove_hashtag)"
   ]
  },
  {
   "cell_type": "code",
   "execution_count": 60,
   "metadata": {},
   "outputs": [],
   "source": [
    "raw_tweets=raw_tweets.withColumn('processed_text', remove_links(raw_tweets['text']))"
   ]
  },
  {
   "cell_type": "code",
   "execution_count": 61,
   "metadata": {},
   "outputs": [],
   "source": [
    "raw_tweets=raw_tweets.withColumn('processed_text', remove_users(raw_tweets['processed_text']))"
   ]
  },
  {
   "cell_type": "code",
   "execution_count": 62,
   "metadata": {},
   "outputs": [],
   "source": [
    "raw_tweets=raw_tweets.withColumn('processed_text', remove_punctuation(raw_tweets['processed_text']))"
   ]
  },
  {
   "cell_type": "code",
   "execution_count": 63,
   "metadata": {},
   "outputs": [],
   "source": [
    "raw_tweets=raw_tweets.withColumn('processed_text', remove_number(raw_tweets['processed_text']))"
   ]
  },
  {
   "cell_type": "code",
   "execution_count": 64,
   "metadata": {},
   "outputs": [],
   "source": [
    "#raw_tweets=raw_tweets.withColumn('processed_text', remove_hashtag(raw_tweets['processed_text']))"
   ]
  },
  {
   "cell_type": "code",
   "execution_count": 67,
   "metadata": {},
   "outputs": [
    {
     "name": "stdout",
     "output_type": "stream",
     "text": [
      "+----------------------------------------------------------------------------------------------------------------------------------------------------------------------------------------------------------------------------------------------------------------------------------------------+--------------------------------------------------------------------------------------------------------------------------------------------------------------------------------------------------------------------------------------------------------------------------------+\n",
      "|text                                                                                                                                                                                                                                                                                          |processed_text                                                                                                                                                                                                                                                                  |\n",
      "+----------------------------------------------------------------------------------------------------------------------------------------------------------------------------------------------------------------------------------------------------------------------------------------------+--------------------------------------------------------------------------------------------------------------------------------------------------------------------------------------------------------------------------------------------------------------------------------+\n",
      "|@hhjflrts im sorry if i come out as ignorant, but what's happening?\n",
      "Is it about the asian hate?                                                                                                                                                                                               | im sorry if i come out as ignorant  but what s happening \n",
      "Is it about the asian hate                                                                                                                                                                                           |\n",
      "|@yogezlor By now you should know there is a fan base for your artwork. Time to revive the damn IG gurrrrlll!!                                                                                                                                                                                 | By now you should know there is a fan base for your artwork  Time to revive the damn IG gurrrrlll                                                                                                                                                                              |\n",
      "|Forgot about the wire 🤣 (@ Tampines West MRT Station (DT31) - @sbstransit_ltd in Tampines, Singapore) https://t.co/UydN3dSCB2                                                                                                                                                                |Forgot about the wire 🤣   Tampines West MRT Station  DT     in Tampines  Singapore                                                                                                                                                                                             |\n",
      "|Massive protesters from London protesting against military dictatorship and calling out @UN to take immediate actions for Myanmar.\n",
      "#WhatsHappeningInMyanmar \n",
      "#Apr19Coup \n",
      "#R2PNow\n",
      "#WeSupportNUG https://t.co/m7CRpnoLH9                                                                        |Massive protesters from London protesting against military dictatorship and calling out  to take immediate actions for Myanmar \n",
      "#WhatsHappeningInMyanmar \n",
      "#AprCoup \n",
      "#RPNow\n",
      "#WeSupportNUG                                                                                        |\n",
      "|Just posted a photo @ Singapore First Aid Training Centre Pte Ltd https://t.co/NrynWT323f                                                                                                                                                                                                     |Just posted a photo   Singapore First Aid Training Centre Pte Ltd                                                                                                                                                                                                               |\n",
      "|@Ibraheema_Ykb Ok. Times have gone by. There used to a hanged board on display close to mango trees while approaching Jatau bridge displaying daily motivational quotes + count down to exams and when the exams starts days remaining to end of semester, I hope the tradition is still kept.| Ok  Times have gone by  There used to a hanged board on display close to mango trees while approaching Jatau bridge displaying daily motivational quotes   count down to exams and when the exams starts days remaining to end of semester  I hope the tradition is still kept |\n",
      "|@mintea AND KIDS. Who don't dare to voice out. Omg                                                                                                                                                                                                                                            | AND KIDS  Who don t dare to voice out  Omg                                                                                                                                                                                                                                     |\n",
      "|Just posted a photo @ Singapore https://t.co/wj0O49Ij6e                                                                                                                                                                                                                                       |Just posted a photo   Singapore                                                                                                                                                                                                                                                 |\n",
      "|@SheaSonia I am so heartbroken hearing about this tragic incident. I remember the memories you shared of Buncit.                                                                                                                                                                              | I am so heartbroken hearing about this tragic incident  I remember the memories you shared of Buncit                                                                                                                                                                           |\n",
      "|In MyinGyan, terrorists raided \"NgweZinYaw\" store and looted snacks in No(6) ward. These military thugs are robbing civillians' properties with the help of weapons.\n",
      "\n",
      "#Apr19Coup\n",
      "#CrimesAgainstHumanity\n",
      "#WhatsHappeningInMyanmar https://t.co/ndDt3McB2s                                      |In MyinGyan  terrorists raided  NgweZinYaw  store and looted snacks in No   ward  These military thugs are robbing civillians  properties with the help of weapons \n",
      "\n",
      "#AprCoup\n",
      "#CrimesAgainstHumanity\n",
      "#WhatsHappeningInMyanmar                                                   |\n",
      "+----------------------------------------------------------------------------------------------------------------------------------------------------------------------------------------------------------------------------------------------------------------------------------------------+--------------------------------------------------------------------------------------------------------------------------------------------------------------------------------------------------------------------------------------------------------------------------------+\n",
      "only showing top 10 rows\n",
      "\n"
     ]
    }
   ],
   "source": [
    "# show the data before and after pocessed\n",
    "raw_tweets.select('text','processed_text').show(10, False)"
   ]
  },
  {
   "cell_type": "markdown",
   "metadata": {},
   "source": [
    "#### 3.1.2 Tokenization"
   ]
  },
  {
   "cell_type": "code",
   "execution_count": 68,
   "metadata": {},
   "outputs": [],
   "source": [
    "# Create a tokenizer that Filter away tokens with length < 3, and get rid of symbols like $,#,...\n",
    "tokenizer = RegexTokenizer().setPattern(\"[\\\\W_]+\").setMinTokenLength(3).setInputCol(\"processed_text\").setOutputCol(\"tokens\")"
   ]
  },
  {
   "cell_type": "code",
   "execution_count": 69,
   "metadata": {},
   "outputs": [],
   "source": [
    "#tokenizer = RegexTokenizer().setPattern(\"^[a-zA-Z]+\\\\b\").setMinTokenLength(3).setInputCol(\"text\").setOutputCol(\"tokens\")"
   ]
  },
  {
   "cell_type": "code",
   "execution_count": 70,
   "metadata": {},
   "outputs": [],
   "source": [
    "# Tokenize tweets\n",
    "tokenized_tweets = tokenizer.transform(raw_tweets)"
   ]
  },
  {
   "cell_type": "code",
   "execution_count": 71,
   "metadata": {
    "scrolled": false
   },
   "outputs": [
    {
     "name": "stdout",
     "output_type": "stream",
     "text": [
      "+--------------------+--------------------+--------------------+\n",
      "|                text|      processed_text|              tokens|\n",
      "+--------------------+--------------------+--------------------+\n",
      "|@hhjflrts im sorr...| im sorry if i co...|[sorry, come, out...|\n",
      "|@yogezlor By now ...| By now you shoul...|[now, you, should...|\n",
      "|Forgot about the ...|Forgot about the ...|[forgot, about, t...|\n",
      "|Massive protester...|Massive protester...|[massive, protest...|\n",
      "|Just posted a pho...|Just posted a pho...|[just, posted, ph...|\n",
      "|@Ibraheema_Ykb Ok...| Ok  Times have g...|[times, have, gon...|\n",
      "|@mintea AND KIDS....| AND KIDS  Who do...|[and, kids, who, ...|\n",
      "|Just posted a pho...|Just posted a pho...|[just, posted, ph...|\n",
      "|@SheaSonia I am s...| I am so heartbro...|[heartbroken, hea...|\n",
      "|In MyinGyan, terr...|In MyinGyan  terr...|[myingyan, terror...|\n",
      "|In Myingyan, Mand...|In Myingyan  Mand...|[myingyan, mandal...|\n",
      "|        Exhausted 😣|        Exhausted 😣|         [exhausted]|\n",
      "|@HaroldYeddo Love...| Love it anak 🙏🏻♥️|        [love, anak]|\n",
      "|@umihani__ this i...| this is what i n...|  [this, what, need]|\n",
      "|Swab duty done. T...|Swab duty done  T...|[swab, duty, done...|\n",
      "|@gmuruganandi Tod...|        Today click |      [today, click]|\n",
      "|A picture speaks ...|A picture speaks ...|[picture, speaks,...|\n",
      "|@fxtyaanx Happy b...| Happy birthday kaka|[happy, birthday,...|\n",
      "|Should I make The...|Should I make The...|[should, make, th...|\n",
      "|i mean im not off...| mean im not offe...|[mean, not, offen...|\n",
      "|I'm at Bus Stop 0...|I m at Bus Stop  ...|[bus, stop, opp, ...|\n",
      "|woke up today to ...|woke up today to ...|[woke, today, sex...|\n",
      "|12 years ago I jo...| years ago I join...|[years, ago, join...|\n",
      "|@VigneshShanthi Y...| You just did wha...|[you, just, did, ...|\n",
      "|Yesterday dinner,...|Yesterday dinner ...|[yesterday, dinne...|\n",
      "|Bro im on the ver...|Bro im on the ver...|[bro, the, verge,...|\n",
      "|I'm at Genki Sush...|I m at Genki Sush...|[genki, sushi, si...|\n",
      "|@syfq_danz @Ahtop...|  OMG OMG OMG OMG...|[omg, omg, omg, o...|\n",
      "|there is no absol...|there is no absol...|[there, absolute,...|\n",
      "|@mjvito Thanks fo...| Thanks for highl...|[thanks, for, hig...|\n",
      "|Power pack statem...|Power pack statem...|[power, pack, sta...|\n",
      "|@avelokiteshvara ...| Nothing brings m...|[nothing, brings,...|\n",
      "|but god i’m so ex...|but god i’m so ex...|[but, god, exhaus...|\n",
      "|doms the next day...|doms the next day...|[doms, the, next,...|\n",
      "|Not gonna put mys...|Not gonna put mys...|[not, gonna, put,...|\n",
      "|My heart is thump...|My heart is thump...|   [heart, thumping]|\n",
      "|Honestly, heartbr...|Honestly  heartbr...|[honestly, heartb...|\n",
      "|@maria_solve @Wit...|   Mobian” parame...|[mobian, parametr...|\n",
      "|@CryptoArtistNFT ...|  Mobian” paramet...|[mobian, parametr...|\n",
      "|@PunkiesNFT \"Mobi...|  Mobian” paramet...|[mobian, parametr...|\n",
      "|@thegxuniverse \"M...|  Mobian” paramet...|[mobian, parametr...|\n",
      "|@EnzoNFT \"Mobian”...|  Mobian” paramet...|[mobian, parametr...|\n",
      "|@thefarmerskid \"M...|  Mobian” paramet...|[mobian, parametr...|\n",
      "|@BuckyBigTime \"Mo...|  Mobian” paramet...|[mobian, parametr...|\n",
      "|@BitAllstars \"Mob...|  Mobian” paramet...|[mobian, parametr...|\n",
      "|@NakoBaev \"Mobian...|  Mobian” paramet...|[mobian, parametr...|\n",
      "|Just posted a vid...|Just posted a vid...|[just, posted, vi...|\n",
      "|Power https://t.c...|              Power |             [power]|\n",
      "|Check out @FrankP...|Check out  genera...|[check, out, gene...|\n",
      "|Just posted a pho...|Just posted a pho...|[just, posted, ph...|\n",
      "+--------------------+--------------------+--------------------+\n",
      "only showing top 50 rows\n",
      "\n"
     ]
    }
   ],
   "source": [
    "# display the original text, processed text and tokenized text\n",
    "tokenized_tweets.select('text','processed_text','tokens').show(50)"
   ]
  },
  {
   "cell_type": "markdown",
   "metadata": {},
   "source": [
    "#### 3.1.3 Lemmatize"
   ]
  },
  {
   "cell_type": "code",
   "execution_count": 84,
   "metadata": {},
   "outputs": [
    {
     "name": "stdout",
     "output_type": "stream",
     "text": [
      "[nltk_data] Downloading package wordnet to /home/cloudera/nltk_data...\n",
      "[nltk_data]   Package wordnet is already up-to-date!\n"
     ]
    }
   ],
   "source": [
    "# perform lemmatization using wordNetLemmatizer\n",
    "import nltk\n",
    "nltk.download('wordnet')\n",
    "from nltk.stem import WordNetLemmatizer\n",
    "#from nltk.stem.lancaster import LancasterStemmer\n",
    "#from nltk import SnowballStemmer\n",
    "#from nltk.stem import PorterStemmer\n",
    "\n",
    "lemmatizer = WordNetLemmatizer()\n",
    "#st = LancasterStemmer()\n",
    "#stemmer = SnowballStemmer(\"english\")\n",
    "#stemmer=PorterStemmer()\n",
    "\n",
    "def lemmatization(row):\n",
    "    #row = [stemmer.stem(lemmatizer.lemmatize(word)) for word in row]\n",
    "    row = [lemmatizer.lemmatize(word,'v') for word in row]\n",
    "    return row\n",
    "\n",
    "lemmatization = udf(lemmatization)\n",
    "tokenized_tweets=tokenized_tweets.withColumn('tokens_lemma', lemmatization(tokenized_tweets['tokens']))"
   ]
  },
  {
   "cell_type": "code",
   "execution_count": 85,
   "metadata": {},
   "outputs": [
    {
     "name": "stdout",
     "output_type": "stream",
     "text": [
      "+--------------------+--------------------+--------------------+\n",
      "|      processed_text|              tokens|        tokens_lemma|\n",
      "+--------------------+--------------------+--------------------+\n",
      "| im sorry if i co...|[sorry, come, out...|[sorry, come, out...|\n",
      "| By now you shoul...|[now, you, should...|[now, you, should...|\n",
      "|Forgot about the ...|[forgot, about, t...|[forget, about, t...|\n",
      "|Massive protester...|[massive, protest...|[massive, protest...|\n",
      "|Just posted a pho...|[just, posted, ph...|[just, post, phot...|\n",
      "| Ok  Times have g...|[times, have, gon...|[time, have, go, ...|\n",
      "| AND KIDS  Who do...|[and, kids, who, ...|[and, kid, who, d...|\n",
      "|Just posted a pho...|[just, posted, ph...|[just, post, phot...|\n",
      "| I am so heartbro...|[heartbroken, hea...|[heartbroken, hea...|\n",
      "|In MyinGyan  terr...|[myingyan, terror...|[myingyan, terror...|\n",
      "|In Myingyan  Mand...|[myingyan, mandal...|[myingyan, mandal...|\n",
      "|        Exhausted 😣|         [exhausted]|           [exhaust]|\n",
      "| Love it anak 🙏🏻♥️|        [love, anak]|        [love, anak]|\n",
      "| this is what i n...|  [this, what, need]|  [this, what, need]|\n",
      "|Swab duty done  T...|[swab, duty, done...|[swab, duty, do, ...|\n",
      "|        Today click |      [today, click]|      [today, click]|\n",
      "|A picture speaks ...|[picture, speaks,...|[picture, speak, ...|\n",
      "| Happy birthday kaka|[happy, birthday,...|[happy, birthday,...|\n",
      "|Should I make The...|[should, make, th...|[should, make, th...|\n",
      "| mean im not offe...|[mean, not, offen...|[mean, not, offen...|\n",
      "|I m at Bus Stop  ...|[bus, stop, opp, ...|[bus, stop, opp, ...|\n",
      "|woke up today to ...|[woke, today, sex...|[wake, today, sex...|\n",
      "| years ago I join...|[years, ago, join...|[years, ago, join...|\n",
      "| You just did wha...|[you, just, did, ...|[you, just, do, w...|\n",
      "|Yesterday dinner ...|[yesterday, dinne...|[yesterday, dinne...|\n",
      "|Bro im on the ver...|[bro, the, verge,...|[bro, the, verge,...|\n",
      "|I m at Genki Sush...|[genki, sushi, si...|[genki, sushi, si...|\n",
      "|  OMG OMG OMG OMG...|[omg, omg, omg, o...|[omg, omg, omg, o...|\n",
      "|there is no absol...|[there, absolute,...|[there, absolute,...|\n",
      "| Thanks for highl...|[thanks, for, hig...|[thank, for, high...|\n",
      "|Power pack statem...|[power, pack, sta...|[power, pack, sta...|\n",
      "| Nothing brings m...|[nothing, brings,...|[nothing, bring, ...|\n",
      "|but god i’m so ex...|[but, god, exhaus...|[but, god, exhaus...|\n",
      "|doms the next day...|[doms, the, next,...|[doms, the, next,...|\n",
      "|Not gonna put mys...|[not, gonna, put,...|[not, gonna, put,...|\n",
      "|My heart is thump...|   [heart, thumping]|      [heart, thump]|\n",
      "|Honestly  heartbr...|[honestly, heartb...|[honestly, heartb...|\n",
      "|   Mobian” parame...|[mobian, parametr...|[mobian, parametr...|\n",
      "|  Mobian” paramet...|[mobian, parametr...|[mobian, parametr...|\n",
      "|  Mobian” paramet...|[mobian, parametr...|[mobian, parametr...|\n",
      "|  Mobian” paramet...|[mobian, parametr...|[mobian, parametr...|\n",
      "|  Mobian” paramet...|[mobian, parametr...|[mobian, parametr...|\n",
      "|  Mobian” paramet...|[mobian, parametr...|[mobian, parametr...|\n",
      "|  Mobian” paramet...|[mobian, parametr...|[mobian, parametr...|\n",
      "|  Mobian” paramet...|[mobian, parametr...|[mobian, parametr...|\n",
      "|  Mobian” paramet...|[mobian, parametr...|[mobian, parametr...|\n",
      "|Just posted a vid...|[just, posted, vi...|[just, post, vide...|\n",
      "|              Power |             [power]|             [power]|\n",
      "|Check out  genera...|[check, out, gene...|[check, out, gene...|\n",
      "|Just posted a pho...|[just, posted, ph...|[just, post, phot...|\n",
      "+--------------------+--------------------+--------------------+\n",
      "only showing top 50 rows\n",
      "\n"
     ]
    }
   ],
   "source": [
    "tokenized_tweets.select('processed_text','tokens','tokens_lemma').show(50)"
   ]
  },
  {
   "cell_type": "markdown",
   "metadata": {},
   "source": [
    "#### 3.1.4 Remove stop word"
   ]
  },
  {
   "cell_type": "code",
   "execution_count": 88,
   "metadata": {},
   "outputs": [],
   "source": [
    "# create cutomized extended stop word list\n",
    "stopwordList = [\"singapore\",\"Singapore\"]\n",
    "StopWordsRemover().getStopWords()\n",
    "stopwordList.extend(StopWordsRemover().getStopWords())\n",
    "stopwordList = list(set(stopwordList))"
   ]
  },
  {
   "cell_type": "code",
   "execution_count": 89,
   "metadata": {},
   "outputs": [
    {
     "data": {
      "text/plain": [
       "['.com',\n",
       " '.ly',\n",
       " '.net',\n",
       " '.org',\n",
       " 'aahh',\n",
       " 'aarrgghh',\n",
       " 'abt',\n",
       " 'ftl',\n",
       " 'ftw',\n",
       " 'fu',\n",
       " 'fuck',\n",
       " 'fucks',\n",
       " 'gtfo',\n",
       " 'gtg',\n",
       " 'haa',\n",
       " 'hah',\n",
       " 'hahah',\n",
       " 'haha',\n",
       " 'hahaha',\n",
       " 'hahahaha',\n",
       " 'hehe',\n",
       " 'heh',\n",
       " 'hehehe',\n",
       " 'hi',\n",
       " 'hihi',\n",
       " 'hihihi',\n",
       " 'http',\n",
       " 'https',\n",
       " 'huge',\n",
       " 'huh',\n",
       " 'huhu',\n",
       " 'huhuhu',\n",
       " 'idk',\n",
       " 'iirc',\n",
       " 'im',\n",
       " 'imho',\n",
       " 'imo',\n",
       " 'ini',\n",
       " 'irl',\n",
       " 'ish',\n",
       " 'isn',\n",
       " 'isnt',\n",
       " 'j/k',\n",
       " 'jk',\n",
       " 'jus',\n",
       " 'just',\n",
       " 'justwit',\n",
       " 'juz',\n",
       " 'kinda',\n",
       " 'kthx',\n",
       " 'kthxbai',\n",
       " 'kyou',\n",
       " 'laa',\n",
       " 'laaa',\n",
       " 'lah',\n",
       " 'lanuch',\n",
       " 'leavg',\n",
       " 'leh',\n",
       " 'lol',\n",
       " 'lols',\n",
       " 'ltd',\n",
       " 'mph',\n",
       " 'mrt',\n",
       " 'msg',\n",
       " 'msgs',\n",
       " 'muahahahahaha',\n",
       " 'nb',\n",
       " 'neways',\n",
       " 'ni',\n",
       " 'nice',\n",
       " 'pls',\n",
       " 'plz',\n",
       " 'plzz',\n",
       " 'psd',\n",
       " 'pte',\n",
       " 'pwm',\n",
       " 'pwned',\n",
       " 'qfmft',\n",
       " 'qft',\n",
       " 'tis',\n",
       " 'tm',\n",
       " 'tmr',\n",
       " 'tyty',\n",
       " 'tyvm',\n",
       " 'um',\n",
       " 'umm',\n",
       " 'viv',\n",
       " 'vn',\n",
       " 'vote',\n",
       " 'voted',\n",
       " 'w00t',\n",
       " 'wa',\n",
       " 'wadever',\n",
       " 'wah',\n",
       " 'wasn',\n",
       " 'wasnt',\n",
       " 'wassup',\n",
       " 'wat',\n",
       " 'watcha',\n",
       " 'wateva',\n",
       " 'watever',\n",
       " 'watnot',\n",
       " 'wats',\n",
       " 'wayy',\n",
       " 'wb',\n",
       " 'weren',\n",
       " 'werent',\n",
       " 'whaha',\n",
       " 'wham',\n",
       " 'whammy',\n",
       " 'whaow',\n",
       " 'whatcha',\n",
       " 'whatev',\n",
       " 'whateva',\n",
       " 'whatevar',\n",
       " 'whatever',\n",
       " 'whatnot',\n",
       " 'whats',\n",
       " 'whatsoever',\n",
       " 'whatz',\n",
       " 'whee',\n",
       " 'whenz',\n",
       " 'whey',\n",
       " 'whore',\n",
       " 'whores',\n",
       " 'whoring',\n",
       " 'win',\n",
       " 'wo',\n",
       " 'woah',\n",
       " 'woh',\n",
       " 'wooohooo',\n",
       " 'woot',\n",
       " 'wow',\n",
       " 'wrt',\n",
       " 'wtb',\n",
       " 'wtf',\n",
       " 'wth',\n",
       " 'wts',\n",
       " 'wtt',\n",
       " 'www',\n",
       " 'xs',\n",
       " 'ya',\n",
       " 'yaah',\n",
       " 'yah',\n",
       " 'yahh',\n",
       " 'yahoocurrency',\n",
       " 'yall',\n",
       " 'yar',\n",
       " 'yay',\n",
       " 'yea',\n",
       " 'yeah',\n",
       " 'yeahh',\n",
       " 'yeh',\n",
       " 'yhoo',\n",
       " 'ymmv',\n",
       " 'young',\n",
       " 'youre',\n",
       " 'yr',\n",
       " 'yum',\n",
       " 'yummy',\n",
       " 'yumyum',\n",
       " 'yw',\n",
       " 'zomg',\n",
       " 'zz',\n",
       " 'zzz',\n",
       " 'loz',\n",
       " 'lor',\n",
       " 'loh',\n",
       " 'tsk',\n",
       " 'meh',\n",
       " 'lmao',\n",
       " 'wanna',\n",
       " 'doesn',\n",
       " 'liao',\n",
       " 'didn',\n",
       " 'didnt',\n",
       " 'omg',\n",
       " 'ohh',\n",
       " 'ohgod',\n",
       " 'hoh',\n",
       " 'hoo',\n",
       " 'bye',\n",
       " 'byee',\n",
       " 'byeee',\n",
       " 'byeeee',\n",
       " 'lmaolmao',\n",
       " 'yeah',\n",
       " 'yeahh',\n",
       " 'yeahhh',\n",
       " 'yeahhhh',\n",
       " 'yeahhhhh',\n",
       " 'yup',\n",
       " 'yupp',\n",
       " 'hahahahahahaha',\n",
       " 'hahahahahah',\n",
       " 'hahhaha',\n",
       " 'wooohoooo',\n",
       " 'wahaha',\n",
       " 'haah',\n",
       " '2moro',\n",
       " 'veh',\n",
       " 'noo',\n",
       " 'nooo',\n",
       " 'noooo',\n",
       " 'hahas',\n",
       " 'ooooo',\n",
       " 'ahahaha',\n",
       " 'ahahahahah',\n",
       " 'tomolow',\n",
       " '.com',\n",
       " '.ly',\n",
       " '.net',\n",
       " '.org',\n",
       " 'aahh',\n",
       " 'aarrgghh',\n",
       " 'abt',\n",
       " 'accent',\n",
       " 'accented',\n",
       " 'accents',\n",
       " 'acne',\n",
       " 'ads',\n",
       " 'afaik',\n",
       " 'aft',\n",
       " 'ago',\n",
       " 'ahead',\n",
       " 'ain',\n",
       " 'aint',\n",
       " 'aircon',\n",
       " 'alot',\n",
       " 'am',\n",
       " 'annoy',\n",
       " 'annoyed',\n",
       " 'annoys',\n",
       " 'anycase',\n",
       " 'anymore',\n",
       " 'app',\n",
       " 'apparently',\n",
       " 'apps',\n",
       " 'argh',\n",
       " 'ass',\n",
       " 'asses',\n",
       " 'awesome',\n",
       " 'babeh',\n",
       " 'bad',\n",
       " 'bai',\n",
       " 'based',\n",
       " 'bcos',\n",
       " 'bcoz',\n",
       " 'bday',\n",
       " 'bit',\n",
       " 'biz',\n",
       " 'blah',\n",
       " 'bleh',\n",
       " 'bless',\n",
       " 'blessed',\n",
       " 'blk',\n",
       " 'blogcatalog',\n",
       " 'bro',\n",
       " 'bros',\n",
       " 'btw',\n",
       " 'byee',\n",
       " 'com',\n",
       " 'congrats',\n",
       " 'contd',\n",
       " 'conv',\n",
       " 'cos',\n",
       " 'cost',\n",
       " 'costs',\n",
       " 'couldn',\n",
       " 'couldnt',\n",
       " 'cove',\n",
       " 'coves',\n",
       " 'coz',\n",
       " 'crap',\n",
       " 'cum',\n",
       " 'curnews',\n",
       " 'curr',\n",
       " 'cuz',\n",
       " 'dat',\n",
       " 'de',\n",
       " 'didn',\n",
       " 'didnt',\n",
       " 'diff',\n",
       " 'dis',\n",
       " 'doc',\n",
       " 'doesn',\n",
       " 'doesnt',\n",
       " 'don',\n",
       " 'dont',\n",
       " 'dr',\n",
       " 'dreamt',\n",
       " 'drs',\n",
       " 'due',\n",
       " 'dun',\n",
       " 'dunno',\n",
       " 'duper',\n",
       " 'eh',\n",
       " 'ehh',\n",
       " 'emo',\n",
       " 'emos',\n",
       " 'eng',\n",
       " 'esp',\n",
       " 'fadein',\n",
       " 'ffs',\n",
       " 'fml',\n",
       " 'frm',\n",
       " 'ftl',\n",
       " 'ftw',\n",
       " 'fu',\n",
       " 'fuck',\n",
       " 'fucks',\n",
       " 'fwah',\n",
       " 'g2g',\n",
       " 'gajshost',\n",
       " 'gd',\n",
       " 'geez',\n",
       " 'gg',\n",
       " 'gigs',\n",
       " 'gtfo',\n",
       " 'gtg',\n",
       " 'haa',\n",
       " 'haha',\n",
       " 'hahaha',\n",
       " 'hasn',\n",
       " 'hasnt',\n",
       " 'hav',\n",
       " 'haven',\n",
       " 'havent',\n",
       " 'hee',\n",
       " 'heh',\n",
       " 'hehe',\n",
       " 'hehehe',\n",
       " 'hello',\n",
       " 'hey',\n",
       " 'hi',\n",
       " 'hmm',\n",
       " 'ho',\n",
       " 'hohoho',\n",
       " 'http',\n",
       " 'https',\n",
       " 'huh',\n",
       " 'huhu',\n",
       " 'huhuhu',\n",
       " 'idk',\n",
       " 'iirc',\n",
       " 'im',\n",
       " 'imho',\n",
       " 'imo',\n",
       " 'info',\n",
       " 'ini',\n",
       " 'irl',\n",
       " 'ish',\n",
       " 'isn',\n",
       " 'isnt',\n",
       " 'issued',\n",
       " 'j/k',\n",
       " 'jk',\n",
       " 'jus',\n",
       " 'just',\n",
       " 'justwit',\n",
       " 'juz',\n",
       " 'kinda',\n",
       " 'kthx',\n",
       " 'kthxbai',\n",
       " 'kyou',\n",
       " 'laa',\n",
       " 'laaa',\n",
       " 'lah',\n",
       " 'lanuch',\n",
       " 'lawl',\n",
       " 'leavg',\n",
       " 'leh',\n",
       " 'lfg',\n",
       " 'lfm',\n",
       " 'll',\n",
       " 'lmao',\n",
       " 'lmfao',\n",
       " 'lnks',\n",
       " 'lol',\n",
       " 'lols',\n",
       " 'lotsa',\n",
       " 'lotta',\n",
       " 'ltd',\n",
       " 'luv',\n",
       " 'ly',\n",
       " 'macdailynews',\n",
       " 'meh',\n",
       " 'mph',\n",
       " 'msg',\n",
       " 'msgs',\n",
       " 'muahahahahaha',\n",
       " 'nb',\n",
       " 'neato',\n",
       " 'ni',\n",
       " 'nite',\n",
       " 'nom',\n",
       " 'noscript',\n",
       " 'nvr',\n",
       " 'nw',\n",
       " 'ohayo',\n",
       " 'omfg',\n",
       " 'omfgwtf',\n",
       " 'omg',\n",
       " 'omgwtfbbq',\n",
       " 'omw',\n",
       " 'org',\n",
       " 'pf',\n",
       " 'pic',\n",
       " 'pls',\n",
       " 'plz',\n",
       " 'plzz',\n",
       " 'pm',\n",
       " 'pmsing',\n",
       " 'ppl',\n",
       " 'pre',\n",
       " 'pro',\n",
       " 'psd',\n",
       " 'pte',\n",
       " 'pwm',\n",
       " 'pwned',\n",
       " 'qfmft',\n",
       " 'qft',\n",
       " 'rawr',\n",
       " 'rawrr',\n",
       " 'rofl',\n",
       " 'roflmao',\n",
       " 'rss',\n",
       " 'rt',\n",
       " 'sec',\n",
       " 'secs',\n",
       " 'seem',\n",
       " 'seemed',\n",
       " 'seems',\n",
       " 'sgreinfo',\n",
       " 'shd',\n",
       " 'shit',\n",
       " 'shits',\n",
       " 'shitz',\n",
       " 'shld',\n",
       " 'shouldn',\n",
       " 'shouldnt',\n",
       " 'shudder',\n",
       " 'sq',\n",
       " 'sqft',\n",
       " 'sqm',\n",
       " 'srsly',\n",
       " 'stfu',\n",
       " 'stks',\n",
       " 'su',\n",
       " 'suck',\n",
       " 'sucked',\n",
       " 'sucks',\n",
       " 'suckz',\n",
       " 'sux',\n",
       " 'swf',\n",
       " 'tart',\n",
       " 'tat',\n",
       " 'tgif',\n",
       " 'thanky',\n",
       " 'thk',\n",
       " 'thks',\n",
       " 'tht',\n",
       " 'tired',\n",
       " 'tis',\n",
       " 'tm',\n",
       " 'tmr',\n",
       " 'tsk',\n",
       " 'ttyl',\n",
       " 'ty',\n",
       " 'tym',\n",
       " 'tyme',\n",
       " 'typed',\n",
       " 'tyty',\n",
       " 'tyvm',\n",
       " 'um',\n",
       " 'umm',\n",
       " 'va',\n",
       " 'valid',\n",
       " 'valids',\n",
       " 'var',\n",
       " 'vc',\n",
       " 've',\n",
       " 'viv',\n",
       " 'vn',\n",
       " 'w00t',\n",
       " 'wa',\n",
       " 'wadever',\n",
       " 'wah',\n",
       " 'wasn',\n",
       " 'wasnt',\n",
       " 'wassup',\n",
       " 'wat',\n",
       " 'watcha',\n",
       " 'wateva',\n",
       " 'watnot',\n",
       " 'wats',\n",
       " 'wayy',\n",
       " 'wb',\n",
       " 'web',\n",
       " 'website',\n",
       " 'websites',\n",
       " 'weren',\n",
       " 'werent',\n",
       " 'whaha',\n",
       " 'wham',\n",
       " 'whammy',\n",
       " 'whaow',\n",
       " 'whatcha',\n",
       " 'whatev',\n",
       " 'whateva',\n",
       " 'whatevar',\n",
       " 'whatever',\n",
       " 'whatnot',\n",
       " 'whats',\n",
       " 'whatsoever',\n",
       " 'whatz',\n",
       " 'whee',\n",
       " 'whenz',\n",
       " 'whey',\n",
       " 'whore',\n",
       " 'whores',\n",
       " 'whoring',\n",
       " 'wo',\n",
       " 'woah',\n",
       " 'woh',\n",
       " 'wooohooo',\n",
       " 'woot',\n",
       " 'wow',\n",
       " 'wrt',\n",
       " 'wtb',\n",
       " 'wtf',\n",
       " 'wth',\n",
       " 'wts',\n",
       " 'wtt',\n",
       " 'www',\n",
       " 'xs',\n",
       " 'ya',\n",
       " 'yaah',\n",
       " 'yah',\n",
       " 'yahh',\n",
       " 'yahoocurrency',\n",
       " 'yall',\n",
       " 'yar',\n",
       " 'yay',\n",
       " 'yea',\n",
       " 'yeah',\n",
       " 'yeahh',\n",
       " 'year',\n",
       " 'yearly',\n",
       " 'years',\n",
       " 'yeh',\n",
       " 'yhoo',\n",
       " 'ymmv',\n",
       " 'young',\n",
       " 'youre',\n",
       " 'yr',\n",
       " 'yum',\n",
       " 'yummy',\n",
       " 'yumyum',\n",
       " 'yw',\n",
       " 'zomg',\n",
       " 'zz',\n",
       " 'zzz',\n",
       " 'fucking',\n",
       " 'mrs',\n",
       " 'mr',\n",
       " 'eh',\n",
       " 'ehh',\n",
       " 'ehhh',\n",
       " 'lot',\n",
       " 'lots',\n",
       " 'http',\n",
       " 'html',\n",
       " 'com',\n",
       " 'ly',\n",
       " 'net',\n",
       " 'org',\n",
       " 'hahahahahahahahaha',\n",
       " 'hahahahaha',\n",
       " 'hahahahah',\n",
       " 'zzzzz',\n",
       " '#teamfollowback',\n",
       " '#teamfollow',\n",
       " '#follow',\n",
       " '#autofollow',\n",
       " '#followgain',\n",
       " '#followbackk',\n",
       " '#teamautofollow',\n",
       " '#followme',\n",
       " '#ifollow',\n",
       " '#followngain',\n",
       " '#followback',\n",
       " '#followfriday',\n",
       " '#ifollowback',\n",
       " '#200aday',\n",
       " '#500aday',\n",
       " '#1000aday',\n",
       " 'hahahahha',\n",
       " 'lolololol',\n",
       " 'lololol',\n",
       " 'lolol',\n",
       " 'lol',\n",
       " 'dude',\n",
       " 'hmmm',\n",
       " 'humm',\n",
       " 'tumblr',\n",
       " 'kkkk',\n",
       " 'fk',\n",
       " 'yayyyyyy',\n",
       " 'fffffffuuuuuuuuuuuu',\n",
       " 'zzzz',\n",
       " 'zzzzz',\n",
       " 'noooooooooo',\n",
       " 'noo',\n",
       " 'nooo',\n",
       " 'noooo',\n",
       " 'hahahhaha',\n",
       " 'woohoo',\n",
       " 'lalalalalalala',\n",
       " 'lala',\n",
       " 'lalala',\n",
       " 'lalalala',\n",
       " 'whahahaahahahahahah',\n",
       " 'only',\n",
       " 'also',\n",
       " 'still',\n",
       " 'time',\n",
       " 'one',\n",
       " 'today',\n",
       " 'yesterday',\n",
       " 'tmr',\n",
       " 'tomorrow']"
      ]
     },
     "execution_count": 89,
     "metadata": {},
     "output_type": "execute_result"
    }
   ],
   "source": [
    "# reference: https://sites.google.com/site/iamgongwei/home/sw\n",
    "# this is a twitter specific stop word summarized by SMU researcher\n",
    "# to add more common stopwords,especially in twitter context\n",
    "f_twitter_stop_words = open('twitter-stopwords - TA - Less.txt','r')\n",
    "f_twitter_stop_words_content = f_twitter_stop_words.read()\n",
    "#print(content)\n",
    "twitter_stopwords = f_twitter_stop_words_content.split(\",\")\n",
    "twitter_stopwords"
   ]
  },
  {
   "cell_type": "code",
   "execution_count": 90,
   "metadata": {},
   "outputs": [],
   "source": [
    "# adding to the list of stop word\n",
    "stopwordList.extend(twitter_stopwords)\n",
    "stopwordList = list(set(stopwordList))"
   ]
  },
  {
   "cell_type": "code",
   "execution_count": 91,
   "metadata": {},
   "outputs": [],
   "source": [
    "# Create a remover that Filter away stop word\n",
    "remover = StopWordsRemover(stopWords=stopwordList).setInputCol(\"tokens\").setOutputCol(\"cleaned\")"
   ]
  },
  {
   "cell_type": "code",
   "execution_count": 92,
   "metadata": {},
   "outputs": [],
   "source": [
    "# remove stopwords\n",
    "cleaned_tweets = remover.transform(tokenized_tweets)"
   ]
  },
  {
   "cell_type": "code",
   "execution_count": 93,
   "metadata": {},
   "outputs": [
    {
     "name": "stdout",
     "output_type": "stream",
     "text": [
      "+-------------------+--------------------+--------------------+------------+--------------------+--------------------+--------------------+--------------------+\n",
      "|                 id|          created_at|                text|created_date|      processed_text|              tokens|        tokens_lemma|             cleaned|\n",
      "+-------------------+--------------------+--------------------+------------+--------------------+--------------------+--------------------+--------------------+\n",
      "|1384064534600507392|2021-04-19T08:41:...|@hhjflrts im sorr...|  2021-04-19| im sorry if i co...|[sorry, come, out...|[sorry, come, out...|[sorry, come, ign...|\n",
      "|1384064515759693830|2021-04-19T08:41:...|@yogezlor By now ...|  2021-04-19| By now you shoul...|[now, you, should...|[now, you, should...|[know, fan, base,...|\n",
      "|1384064394011709446|2021-04-19T08:40:...|Forgot about the ...|  2021-04-19|Forgot about the ...|[forgot, about, t...|[forget, about, t...|[forgot, wire, ta...|\n",
      "|1384064393017626635|2021-04-19T08:40:...|Massive protester...|  2021-04-19|Massive protester...|[massive, protest...|[massive, protest...|[massive, protest...|\n",
      "|1384063860852678657|2021-04-19T08:38:...|Just posted a pho...|  2021-04-19|Just posted a pho...|[just, posted, ph...|[just, post, phot...|[posted, photo, f...|\n",
      "|1384063582938140673|2021-04-19T08:37:...|@Ibraheema_Ykb Ok...|  2021-04-19| Ok  Times have g...|[times, have, gon...|[time, have, go, ...|[times, gone, use...|\n",
      "|1384063508652851200|2021-04-19T08:37:...|@mintea AND KIDS....|  2021-04-19| AND KIDS  Who do...|[and, kids, who, ...|[and, kid, who, d...| [kids, dare, voice]|\n",
      "|1384063029076127747|2021-04-19T08:35:...|Just posted a pho...|  2021-04-19|Just posted a pho...|[just, posted, ph...|[just, post, phot...|     [posted, photo]|\n",
      "|1384062369492389892|2021-04-19T08:32:...|@SheaSonia I am s...|  2021-04-19| I am so heartbro...|[heartbroken, hea...|[heartbroken, hea...|[heartbroken, hea...|\n",
      "|1384062319781502977|2021-04-19T08:32:...|In MyinGyan, terr...|  2021-04-19|In MyinGyan  terr...|[myingyan, terror...|[myingyan, terror...|[myingyan, terror...|\n",
      "|1384062091493994496|2021-04-19T08:31:...|In Myingyan, Mand...|  2021-04-19|In Myingyan  Mand...|[myingyan, mandal...|[myingyan, mandal...|[myingyan, mandal...|\n",
      "|1384062077375971333|2021-04-19T08:31:...|        Exhausted 😣|  2021-04-19|        Exhausted 😣|         [exhausted]|           [exhaust]|         [exhausted]|\n",
      "|1384061831099019267|2021-04-19T08:30:...|@HaroldYeddo Love...|  2021-04-19| Love it anak 🙏🏻♥️|        [love, anak]|        [love, anak]|        [love, anak]|\n",
      "|1384061570762768387|2021-04-19T08:29:...|@umihani__ this i...|  2021-04-19| this is what i n...|  [this, what, need]|  [this, what, need]|              [need]|\n",
      "|1384061432006803461|2021-04-19T08:28:...|Swab duty done. T...|  2021-04-19|Swab duty done  T...|[swab, duty, done...|[swab, duty, do, ...|[swab, duty, done...|\n",
      "|1384061259235008515|2021-04-19T08:28:...|@gmuruganandi Tod...|  2021-04-19|        Today click |      [today, click]|      [today, click]|             [click]|\n",
      "|1384061192818151425|2021-04-19T08:27:...|A picture speaks ...|  2021-04-19|A picture speaks ...|[picture, speaks,...|[picture, speak, ...|[picture, speaks,...|\n",
      "|1384060879134547976|2021-04-19T08:26:...|@fxtyaanx Happy b...|  2021-04-19| Happy birthday kaka|[happy, birthday,...|[happy, birthday,...|[happy, birthday,...|\n",
      "|1384060750994448389|2021-04-19T08:26:...|Should I make The...|  2021-04-19|Should I make The...|[should, make, th...|[should, make, th...|[make, cookie, br...|\n",
      "|1384060657234944000|2021-04-19T08:25:...|i mean im not off...|  2021-04-19| mean im not offe...|[mean, not, offen...|[mean, not, offen...|[mean, offended, ...|\n",
      "+-------------------+--------------------+--------------------+------------+--------------------+--------------------+--------------------+--------------------+\n",
      "only showing top 20 rows\n",
      "\n"
     ]
    }
   ],
   "source": [
    "# show the result after preprocessed\n",
    "cleaned_tweets.show()"
   ]
  },
  {
   "cell_type": "markdown",
   "metadata": {},
   "source": [
    "### 3.2 Vectorize the clean tokens"
   ]
  },
  {
   "cell_type": "code",
   "execution_count": 94,
   "metadata": {},
   "outputs": [],
   "source": [
    "# create a vector of words that at least appeared in two different tweets, and set maximum vocab size to 20000.\n",
    "vectorizer = CountVectorizer().setInputCol(\"cleaned\").setOutputCol(\"features\").setVocabSize(20000).setMinDF(2).fit(cleaned_tweets)\n",
    "wordVectors = vectorizer.transform(cleaned_tweets)"
   ]
  },
  {
   "cell_type": "code",
   "execution_count": 95,
   "metadata": {},
   "outputs": [
    {
     "name": "stdout",
     "output_type": "stream",
     "text": [
      "+-------------------+--------------------+--------------------+------------+--------------------+--------------------+--------------------+--------------------+--------------------+\n",
      "|                 id|          created_at|                text|created_date|      processed_text|              tokens|        tokens_lemma|             cleaned|            features|\n",
      "+-------------------+--------------------+--------------------+------------+--------------------+--------------------+--------------------+--------------------+--------------------+\n",
      "|1384064534600507392|2021-04-19T08:41:...|@hhjflrts im sorr...|  2021-04-19| im sorry if i co...|[sorry, come, out...|[sorry, come, out...|[sorry, come, ign...|(18035,[79,296,29...|\n",
      "|1384064515759693830|2021-04-19T08:41:...|@yogezlor By now ...|  2021-04-19| By now you shoul...|[now, you, should...|[now, you, should...|[know, fan, base,...|(18035,[25,219,80...|\n",
      "|1384064394011709446|2021-04-19T08:40:...|Forgot about the ...|  2021-04-19|Forgot about the ...|[forgot, about, t...|[forget, about, t...|[forgot, wire, ta...|(18035,[564,685,9...|\n",
      "|1384064393017626635|2021-04-19T08:40:...|Massive protester...|  2021-04-19|Massive protester...|[massive, protest...|[massive, protest...|[massive, protest...|(18035,[0,1,4,15,...|\n",
      "|1384063860852678657|2021-04-19T08:38:...|Just posted a pho...|  2021-04-19|Just posted a pho...|[just, posted, ph...|[just, post, phot...|[posted, photo, f...|(18035,[2,3,44,24...|\n",
      "|1384063582938140673|2021-04-19T08:37:...|@Ibraheema_Ykb Ok...|  2021-04-19| Ok  Times have g...|[times, have, gon...|[time, have, go, ...|[times, gone, use...|(18035,[59,87,155...|\n",
      "|1384063508652851200|2021-04-19T08:37:...|@mintea AND KIDS....|  2021-04-19| AND KIDS  Who do...|[and, kids, who, ...|[and, kid, who, d...| [kids, dare, voice]|(18035,[370,728,1...|\n",
      "|1384063029076127747|2021-04-19T08:35:...|Just posted a pho...|  2021-04-19|Just posted a pho...|[just, posted, ph...|[just, post, phot...|     [posted, photo]|(18035,[2,3],[1.0...|\n",
      "|1384062369492389892|2021-04-19T08:32:...|@SheaSonia I am s...|  2021-04-19| I am so heartbro...|[heartbroken, hea...|[heartbroken, hea...|[heartbroken, hea...|(18035,[311,1119,...|\n",
      "|1384062319781502977|2021-04-19T08:32:...|In MyinGyan, terr...|  2021-04-19|In MyinGyan  terr...|[myingyan, terror...|[myingyan, terror...|[myingyan, terror...|(18035,[0,1,4,8,8...|\n",
      "|1384062091493994496|2021-04-19T08:31:...|In Myingyan, Mand...|  2021-04-19|In Myingyan  Mand...|[myingyan, mandal...|[myingyan, mandal...|[myingyan, mandal...|(18035,[0,1,5,8,3...|\n",
      "|1384062077375971333|2021-04-19T08:31:...|        Exhausted 😣|  2021-04-19|        Exhausted 😣|         [exhausted]|           [exhaust]|         [exhausted]|(18035,[2930],[1.0])|\n",
      "|1384061831099019267|2021-04-19T08:30:...|@HaroldYeddo Love...|  2021-04-19| Love it anak 🙏🏻♥️|        [love, anak]|        [love, anak]|        [love, anak]|(18035,[13,5554],...|\n",
      "|1384061570762768387|2021-04-19T08:29:...|@umihani__ this i...|  2021-04-19| this is what i n...|  [this, what, need]|  [this, what, need]|              [need]|  (18035,[20],[1.0])|\n",
      "|1384061432006803461|2021-04-19T08:28:...|Swab duty done. T...|  2021-04-19|Swab duty done  T...|[swab, duty, done...|[swab, duty, do, ...|[swab, duty, done...|(18035,[100,102,5...|\n",
      "|1384061259235008515|2021-04-19T08:28:...|@gmuruganandi Tod...|  2021-04-19|        Today click |      [today, click]|      [today, click]|             [click]| (18035,[811],[1.0])|\n",
      "|1384061192818151425|2021-04-19T08:27:...|A picture speaks ...|  2021-04-19|A picture speaks ...|[picture, speaks,...|[picture, speak, ...|[picture, speaks,...|(18035,[430,829,1...|\n",
      "|1384060879134547976|2021-04-19T08:26:...|@fxtyaanx Happy b...|  2021-04-19| Happy birthday kaka|[happy, birthday,...|[happy, birthday,...|[happy, birthday,...|(18035,[28,130,17...|\n",
      "|1384060750994448389|2021-04-19T08:26:...|Should I make The...|  2021-04-19|Should I make The...|[should, make, th...|[should, make, th...|[make, cookie, br...|(18035,[51,53,108...|\n",
      "|1384060657234944000|2021-04-19T08:25:...|i mean im not off...|  2021-04-19| mean im not offe...|[mean, not, offen...|[mean, not, offen...|[mean, offended, ...|(18035,[136,293,3...|\n",
      "+-------------------+--------------------+--------------------+------------+--------------------+--------------------+--------------------+--------------------+--------------------+\n",
      "only showing top 20 rows\n",
      "\n"
     ]
    }
   ],
   "source": [
    "wordVectors.show()"
   ]
  },
  {
   "cell_type": "markdown",
   "metadata": {},
   "source": [
    "### 3.3 Grid search the optimal number of topics"
   ]
  },
  {
   "cell_type": "code",
   "execution_count": 75,
   "metadata": {},
   "outputs": [],
   "source": [
    "# set number of topic \n",
    "# set the mertic to evaluate model performance\n",
    "num_topics=range(2,11)\n",
    "models=[]\n",
    "log_likeli=[]\n",
    "log_perp=[]\n",
    "for num in num_topics:\n",
    "    # LDA\n",
    "    # create Latent Dirichlet Allocation model and run it on our data with 50 iteration and selected topics number\n",
    "    lda = LDA(k=num, maxIter=50)\n",
    "    # fit the model on data\n",
    "    ldaModel = lda.fit(wordVectors)\n",
    "    models.append(ldaModel)\n",
    "    ll = ldaModel.logLikelihood(wordVectors)\n",
    "    lp = ldaModel.logPerplexity(wordVectors)\n",
    "    log_likeli.append(ll)\n",
    "    log_perp.append(lp)"
   ]
  },
  {
   "cell_type": "code",
   "execution_count": 77,
   "metadata": {},
   "outputs": [],
   "source": [
    "import pandas as pd\n",
    "import matplotlib.pyplot as plt\n",
    "plot_data=pd.DataFrame(list(zip(num_topics,log_likeli,log_perp)),\n",
    "            columns=['topics_num','logLikelihood','logPerplexity'])"
   ]
  },
  {
   "cell_type": "code",
   "execution_count": 78,
   "metadata": {},
   "outputs": [
    {
     "data": {
      "image/png": "[encoded data removed]",
      "text/plain": [
       "<Figure size 432x288 with 1 Axes>"
      ]
     },
     "metadata": {},
     "output_type": "display_data"
    }
   ],
   "source": [
    "# use the elbow method to determine the optimal k\n",
    "plot_data.plot(x='topics_num',y='logLikelihood',kind = 'line')\n",
    "plt.show()"
   ]
  },
  {
   "cell_type": "code",
   "execution_count": 79,
   "metadata": {},
   "outputs": [
    {
     "data": {
      "image/png": "[encoded data removed]",
      "text/plain": [
       "<Figure size 432x288 with 1 Axes>"
      ]
     },
     "metadata": {},
     "output_type": "display_data"
    }
   ],
   "source": [
    "# use the elbow method to determine the optimal k\n",
    "plot_data.plot(x='topics_num',y='logPerplexity',kind = 'line')\n",
    "plt.show()"
   ]
  },
  {
   "cell_type": "code",
   "execution_count": null,
   "metadata": {},
   "outputs": [],
   "source": [
    "model=models[2]"
   ]
  },
  {
   "cell_type": "markdown",
   "metadata": {},
   "source": [
    "#### 3.3.1 use the optimal k to build model"
   ]
  },
  {
   "cell_type": "code",
   "execution_count": 96,
   "metadata": {},
   "outputs": [],
   "source": [
    "# LDA\n",
    "# create Latent Dirichlet Allocation model and run it on our data with 50 iteration and selected topics number\n",
    "lda = LDA(k=6, maxIter=100)\n",
    "# fit the model on data\n",
    "model = lda.fit(wordVectors)"
   ]
  },
  {
   "cell_type": "code",
   "execution_count": 98,
   "metadata": {},
   "outputs": [],
   "source": [
    "ll = model.logLikelihood(wordVectors)\n",
    "lp = model.logPerplexity(wordVectors)"
   ]
  },
  {
   "cell_type": "code",
   "execution_count": 99,
   "metadata": {},
   "outputs": [
    {
     "name": "stdout",
     "output_type": "stream",
     "text": [
      "The lower bound on the log likelihood of the entire corpus:  -2799276.690199641\n",
      "The upper bound on perplexity:  8.182052969682458\n"
     ]
    }
   ],
   "source": [
    "print(\"The lower bound on the log likelihood of the entire corpus: \",ll)\n",
    "print(\"The upper bound on perplexity: \",lp)"
   ]
  },
  {
   "cell_type": "markdown",
   "metadata": {},
   "source": [
    "## 4. Result "
   ]
  },
  {
   "cell_type": "code",
   "execution_count": 100,
   "metadata": {},
   "outputs": [],
   "source": [
    "# extract vocabulary from CountVectorizer\n",
    "vocab = vectorizer.vocabulary"
   ]
  },
  {
   "cell_type": "code",
   "execution_count": 101,
   "metadata": {},
   "outputs": [
    {
     "name": "stdout",
     "output_type": "stream",
     "text": [
      "+-----+--------------------+--------------------+\n",
      "|topic|         termIndices|         termWeights|\n",
      "+-----+--------------------+--------------------+\n",
      "|    0|[0, 1, 2, 3, 4, 8...|[0.04057948285869...|\n",
      "|    1|[592, 493, 625, 8...|[0.00515984500434...|\n",
      "|    2|[14, 6, 13, 17, 1...|[0.01018599466956...|\n",
      "|    3|[6, 7, 5, 29, 20,...|[0.00644654426816...|\n",
      "|    4|[266, 220, 336, 4...|[0.01292840517514...|\n",
      "|    5|[18, 45, 43, 84, ...|[0.03786730164264...|\n",
      "+-----+--------------------+--------------------+\n",
      "\n"
     ]
    }
   ],
   "source": [
    "# create topics based on LDA\n",
    "lda_topics = model.describeTopics()\n",
    "lda_topics.show()"
   ]
  },
  {
   "cell_type": "code",
   "execution_count": 102,
   "metadata": {},
   "outputs": [
    {
     "name": "stdout",
     "output_type": "stream",
     "text": [
      "+-------------------------------------------------------------------------------------------------------------------------------------------------------------------------------------------------------------------------------+\n",
      "|termWeights                                                                                                                                                                                                                    |\n",
      "+-------------------------------------------------------------------------------------------------------------------------------------------------------------------------------------------------------------------------------+\n",
      "|[0.04057948285869612, 0.03580110191581833, 0.028785263446177666, 0.02806167509572159, 0.01659809681602015, 0.013287493213238574, 0.012123839165950908, 0.009582735702510219, 0.008965910615352986, 0.006967276682229401]       |\n",
      "|[0.005159845004340383, 0.005124988843231104, 0.004968759578156371, 0.0048600968093015645, 0.004774051887136021, 0.004725284453460155, 0.004686407901451278, 0.0046294984710876655, 0.004284797999541134, 0.0039678731422822695]|\n",
      "|[0.010185994669567926, 0.00972706906801655, 0.009580565117530627, 0.008658730830656332, 0.007969275922022874, 0.007827236518991285, 0.006815992235917572, 0.006806157327765461, 0.006761323686249984, 0.005917717372876186]    |\n",
      "|[0.0064465442681617335, 0.0063364651199349755, 0.005271197201077099, 0.005206736870335693, 0.005111875258458221, 0.005082468746361897, 0.004986077837537953, 0.004985432514431588, 0.004424453908270941, 0.004418979044781715] |\n",
      "|[0.012928405175144963, 0.011685085187117392, 0.010127643081187687, 0.008804944814074215, 0.008493534033932338, 0.008257574158311555, 0.007736393355204185, 0.007481024098093435, 0.0071745316605713785, 0.006734518542444254]  |\n",
      "|[0.037867301642646733, 0.02580809727308055, 0.021677640047530686, 0.01690187199505082, 0.013708742434566374, 0.013448246863671595, 0.013388369971433826, 0.013093781672348042, 0.01304947109408735, 0.012574072918939899]      |\n",
      "+-------------------------------------------------------------------------------------------------------------------------------------------------------------------------------------------------------------------------------+\n",
      "\n"
     ]
    }
   ],
   "source": [
    "lda_topics.select('termWeights').show(10,False)"
   ]
  },
  {
   "cell_type": "code",
   "execution_count": 103,
   "metadata": {},
   "outputs": [
    {
     "name": "stdout",
     "output_type": "stream",
     "text": [
      "+--------------------------------------------------+\n",
      "|termIndices                                       |\n",
      "+--------------------------------------------------+\n",
      "|[0, 1, 2, 3, 4, 8, 10, 16, 15, 5]                 |\n",
      "|[592, 493, 625, 88, 830, 366, 221, 793, 509, 1133]|\n",
      "|[14, 6, 13, 17, 19, 9, 11, 12, 28, 31]            |\n",
      "|[6, 7, 5, 29, 20, 33, 12, 25, 82, 35]             |\n",
      "|[266, 220, 336, 426, 200, 532, 68, 484, 479, 11]  |\n",
      "|[18, 45, 43, 84, 116, 93, 121, 117, 57, 110]      |\n",
      "+--------------------------------------------------+\n",
      "\n"
     ]
    }
   ],
   "source": [
    "lda_topics.select('termIndices').show(10,False)"
   ]
  },
  {
   "cell_type": "code",
   "execution_count": 104,
   "metadata": {},
   "outputs": [
    {
     "name": "stdout",
     "output_type": "stream",
     "text": [
      "topic: 0\n",
      "*************************\n",
      "whatshappeninginmyanmar\n",
      "aprcoup\n",
      "posted\n",
      "photo\n",
      "military\n",
      "terrorists\n",
      "junta\n",
      "abducted\n",
      "myanmar\n",
      "amp\n",
      "*************************\n",
      "topic: 1\n",
      "*************************\n",
      "sun\n",
      "view\n",
      "collection\n",
      "food\n",
      "sat\n",
      "women\n",
      "full\n",
      "field\n",
      "available\n",
      "interpol\n",
      "*************************\n",
      "topic: 2\n",
      "*************************\n",
      "edwardbarber\n",
      "like\n",
      "love\n",
      "edward\n",
      "barber\n",
      "day\n",
      "good\n",
      "get\n",
      "happy\n",
      "life\n",
      "*************************\n",
      "topic: 3\n",
      "*************************\n",
      "like\n",
      "people\n",
      "amp\n",
      "see\n",
      "need\n",
      "please\n",
      "get\n",
      "know\n",
      "help\n",
      "really\n",
      "*************************\n",
      "topic: 4\n",
      "*************************\n",
      "btc\n",
      "cute\n",
      "chef\n",
      "crypto\n",
      "pretty\n",
      "greed\n",
      "april\n",
      "silver\n",
      "bistro\n",
      "good\n",
      "*************************\n",
      "topic: 5\n",
      "*************************\n",
      "free\n",
      "zerowaste\n",
      "part\n",
      "different\n",
      "cool\n",
      "future\n",
      "nftcollectors\n",
      "nftcommunity\n",
      "city\n",
      "miss\n",
      "*************************\n"
     ]
    }
   ],
   "source": [
    "topics_rdd = lda_topics.rdd\n",
    "topics_words = topics_rdd\\\n",
    "       .map(lambda row: row['termIndices'])\\\n",
    "       .map(lambda idx_list: [vocab[idx] for idx in idx_list])\\\n",
    "       .collect()\n",
    "\n",
    "for idx, topic in enumerate(topics_words):\n",
    "    print(\"topic: {}\".format(idx))\n",
    "    print(\"*\"*25)\n",
    "    for word in topic:\n",
    "       print(word)\n",
    "    print(\"*\"*25)"
   ]
  },
  {
   "cell_type": "code",
   "execution_count": 117,
   "metadata": {},
   "outputs": [
    {
     "name": "stdout",
     "output_type": "stream",
     "text": [
      "+-------------------+--------------------+--------------------+------------+--------------------+--------------------+--------------------+--------------------+--------------------+--------------------+\n",
      "|                 id|          created_at|                text|created_date|      processed_text|              tokens|        tokens_lemma|             cleaned|            features|   topicDistribution|\n",
      "+-------------------+--------------------+--------------------+------------+--------------------+--------------------+--------------------+--------------------+--------------------+--------------------+\n",
      "|1384064534600507392|2021-04-19T08:41:...|@hhjflrts im sorr...|  2021-04-19| im sorry if i co...|[sorry, come, out...|[sorry, come, out...|[sorry, come, ign...|(18035,[79,296,29...|[0.02361362781276...|\n",
      "|1384064515759693830|2021-04-19T08:41:...|@yogezlor By now ...|  2021-04-19| By now you shoul...|[now, you, should...|[now, you, should...|[know, fan, base,...|(18035,[25,219,80...|[0.02347850493873...|\n",
      "|1384064394011709446|2021-04-19T08:40:...|Forgot about the ...|  2021-04-19|Forgot about the ...|[forgot, about, t...|[forget, about, t...|[forgot, wire, ta...|(18035,[564,685,9...|[0.02368750998568...|\n",
      "|1384064393017626635|2021-04-19T08:40:...|Massive protester...|  2021-04-19|Massive protester...|[massive, protest...|[massive, protest...|[massive, protest...|(18035,[0,1,4,15,...|[0.95608881522315...|\n",
      "|1384063860852678657|2021-04-19T08:38:...|Just posted a pho...|  2021-04-19|Just posted a pho...|[just, posted, ph...|[just, post, phot...|[posted, photo, f...|(18035,[2,3,44,24...|[0.90346235233211...|\n",
      "|1384063582938140673|2021-04-19T08:37:...|@Ibraheema_Ykb Ok...|  2021-04-19| Ok  Times have g...|[times, have, gon...|[time, have, go, ...|[times, gone, use...|(18035,[59,87,155...|[0.00597893678992...|\n",
      "|1384063508652851200|2021-04-19T08:37:...|@mintea AND KIDS....|  2021-04-19| AND KIDS  Who do...|[and, kids, who, ...|[and, kid, who, d...| [kids, dare, voice]|(18035,[370,728,1...|[0.04233324354943...|\n",
      "|1384063029076127747|2021-04-19T08:35:...|Just posted a pho...|  2021-04-19|Just posted a pho...|[just, posted, ph...|[just, post, phot...|     [posted, photo]|(18035,[2,3],[1.0...|[0.76949151180317...|\n",
      "|1384062369492389892|2021-04-19T08:32:...|@SheaSonia I am s...|  2021-04-19| I am so heartbro...|[heartbroken, hea...|[heartbroken, hea...|[heartbroken, hea...|(18035,[311,1119,...|[0.01815723612482...|\n",
      "|1384062319781502977|2021-04-19T08:32:...|In MyinGyan, terr...|  2021-04-19|In MyinGyan  terr...|[myingyan, terror...|[myingyan, terror...|[myingyan, terror...|(18035,[0,1,4,8,8...|[0.96550265921551...|\n",
      "+-------------------+--------------------+--------------------+------------+--------------------+--------------------+--------------------+--------------------+--------------------+--------------------+\n",
      "only showing top 10 rows\n",
      "\n"
     ]
    }
   ],
   "source": [
    "transformed = model.transform(wordVectors)\n",
    "transformed.show(10)"
   ]
  },
  {
   "cell_type": "code",
   "execution_count": 118,
   "metadata": {},
   "outputs": [
    {
     "name": "stdout",
     "output_type": "stream",
     "text": [
      "root\n",
      " |-- id: string (nullable = true)\n",
      " |-- created_at: string (nullable = true)\n",
      " |-- text: string (nullable = true)\n",
      " |-- created_date: date (nullable = true)\n",
      " |-- processed_text: string (nullable = true)\n",
      " |-- tokens: array (nullable = true)\n",
      " |    |-- element: string (containsNull = true)\n",
      " |-- tokens_lemma: string (nullable = true)\n",
      " |-- cleaned: array (nullable = true)\n",
      " |    |-- element: string (containsNull = true)\n",
      " |-- features: vector (nullable = true)\n",
      " |-- topicDistribution: vector (nullable = true)\n",
      "\n"
     ]
    }
   ],
   "source": [
    "transformed.printSchema()"
   ]
  },
  {
   "cell_type": "code",
   "execution_count": 128,
   "metadata": {},
   "outputs": [],
   "source": [
    "to_array = udf(lambda v: v.toArray().tolist(), T.ArrayType(T.FloatType()))"
   ]
  },
  {
   "cell_type": "code",
   "execution_count": 129,
   "metadata": {},
   "outputs": [],
   "source": [
    "max_index = udf(lambda x: x.index(__builtin__.max(x)) if x is not None else None, T.IntegerType())"
   ]
  },
  {
   "cell_type": "code",
   "execution_count": 130,
   "metadata": {},
   "outputs": [],
   "source": [
    "topic_index = udf(lambda x: 'topic'+str(x), T.StringType())"
   ]
  },
  {
   "cell_type": "code",
   "execution_count": 131,
   "metadata": {},
   "outputs": [],
   "source": [
    "key_word = udf(lambda x: ', '.join(topics_words[x]), T.StringType())"
   ]
  },
  {
   "cell_type": "code",
   "execution_count": 132,
   "metadata": {},
   "outputs": [],
   "source": [
    "transformed=transformed.withColumn('topicDistribution_array', to_array(transformed['topicDistribution']))\n",
    "transformed=transformed.withColumn('dominant_topic_index', max_index(transformed['topicDistribution_array']))"
   ]
  },
  {
   "cell_type": "code",
   "execution_count": 133,
   "metadata": {},
   "outputs": [],
   "source": [
    "transformed=transformed.withColumn('dominant_topic', topic_index(transformed['dominant_topic_index']))"
   ]
  },
  {
   "cell_type": "code",
   "execution_count": 134,
   "metadata": {},
   "outputs": [],
   "source": [
    "transformed=transformed.withColumn('dominant_topic_keywords', key_word(transformed['dominant_topic_index']))"
   ]
  },
  {
   "cell_type": "code",
   "execution_count": 135,
   "metadata": {},
   "outputs": [
    {
     "data": {
      "text/plain": [
       "StructType(List(StructField(id,StringType,true),StructField(created_at,StringType,true),StructField(text,StringType,true),StructField(created_date,DateType,true),StructField(processed_text,StringType,true),StructField(tokens,ArrayType(StringType,true),true),StructField(tokens_lemma,StringType,true),StructField(cleaned,ArrayType(StringType,true),true),StructField(features,VectorUDT,true),StructField(topicDistribution,VectorUDT,true),StructField(topicDistribution_array,ArrayType(FloatType,true),true),StructField(dominant_topic_index,IntegerType,true),StructField(dominant_topic,StringType,true),StructField(dominant_topic_keywords,StringType,true)))"
      ]
     },
     "execution_count": 135,
     "metadata": {},
     "output_type": "execute_result"
    }
   ],
   "source": [
    "transformed.schema"
   ]
  },
  {
   "cell_type": "code",
   "execution_count": 137,
   "metadata": {},
   "outputs": [
    {
     "name": "stdout",
     "output_type": "stream",
     "text": [
      "+-------------------------------------------------------------------------------+--------------+----------------------------------------------------------------------------------------------------+\n",
      "|topicDistribution_array                                                        |dominant_topic|dominant_topic_keywords                                                                             |\n",
      "+-------------------------------------------------------------------------------+--------------+----------------------------------------------------------------------------------------------------+\n",
      "|[0.023613628, 0.012934124, 0.38034496, 0.5562978, 0.013239422, 0.013570069]    |topic3        |like, people, amp, see, need, please, get, know, help, really                                       |\n",
      "|[0.023478504, 0.439182, 0.48582342, 0.024705682, 0.013239427, 0.013570952]     |topic2        |edwardbarber, like, love, edward, barber, day, good, get, happy, life                               |\n",
      "|[0.02368751, 0.012935838, 0.91207093, 0.024495278, 0.013240423, 0.01357002]    |topic2        |edwardbarber, like, love, edward, barber, day, good, get, happy, life                               |\n",
      "|[0.95608884, 0.0059447954, 0.014374822, 0.011267171, 0.006086243, 0.0062381527]|topic0        |whatshappeninginmyanmar, aprcoup, posted, photo, military, terrorists, junta, abducted, myanmar, amp|\n",
      "|[0.90346235, 0.012931793, 0.032221146, 0.024571158, 0.013239524, 0.0135740265] |topic0        |whatshappeninginmyanmar, aprcoup, posted, photo, military, terrorists, junta, abducted, myanmar, amp|\n",
      "|[0.005978937, 0.059803165, 0.007989276, 0.9194209, 0.0033619283, 0.003445784]  |topic3        |like, people, amp, see, need, please, get, know, help, really                                       |\n",
      "|[0.042333245, 0.023124143, 0.05793388, 0.82866716, 0.02367342, 0.024268128]    |topic3        |like, people, amp, see, need, please, get, know, help, really                                       |\n",
      "|[0.7694915, 0.031361714, 0.07485155, 0.05927797, 0.03210783, 0.032909423]      |topic0        |whatshappeninginmyanmar, aprcoup, posted, photo, military, terrorists, junta, abducted, myanmar, amp|\n",
      "|[0.018157236, 0.009994968, 0.34385684, 0.6072697, 0.010232981, 0.010488281]    |topic3        |like, people, amp, see, need, please, get, know, help, really                                       |\n",
      "|[0.9655027, 0.0046803807, 0.011174426, 0.008939199, 0.0047919173, 0.004911417] |topic0        |whatshappeninginmyanmar, aprcoup, posted, photo, military, terrorists, junta, abducted, myanmar, amp|\n",
      "|[0.9634157, 0.0049432325, 0.012029149, 0.009363891, 0.0050608474, 0.005187195] |topic0        |whatshappeninginmyanmar, aprcoup, posted, photo, military, terrorists, junta, abducted, myanmar, amp|\n",
      "|[0.08841297, 0.04872042, 0.11791953, 0.6439428, 0.04987951, 0.051124785]       |topic3        |like, people, amp, see, need, please, get, know, help, really                                       |\n",
      "|[0.056920145, 0.031361766, 0.78708684, 0.059613958, 0.03210784, 0.03290947]    |topic2        |edwardbarber, like, love, edward, barber, day, good, get, happy, life                               |\n",
      "|[0.08859992, 0.048720423, 0.11976962, 0.6419057, 0.04987949, 0.05112483]       |topic3        |like, people, amp, see, need, please, get, know, help, really                                       |\n",
      "|[0.023498286, 0.012932162, 0.91193, 0.024829933, 0.013239634, 0.013569967]     |topic2        |edwardbarber, like, love, edward, barber, day, good, get, happy, life                               |\n",
      "|[0.08840737, 0.048720412, 0.1182622, 0.64360577, 0.049879506, 0.051124778]     |topic3        |like, people, amp, see, need, please, get, know, help, really                                       |\n",
      "|[0.018175563, 0.009995162, 0.93206054, 0.019046102, 0.010234409, 0.010488222]  |topic2        |edwardbarber, like, love, edward, barber, day, good, get, happy, life                               |\n",
      "|[0.041961003, 0.023123149, 0.8432582, 0.043720074, 0.023673302, 0.024264302]   |topic2        |edwardbarber, like, love, edward, barber, day, good, get, happy, life                               |\n",
      "|[0.018217377, 0.00999496, 0.6657142, 0.28535116, 0.010232944, 0.01048937]      |topic2        |edwardbarber, like, love, edward, barber, day, good, get, happy, life                               |\n",
      "|[0.014798816, 0.008145248, 0.6579038, 0.30226573, 0.0083390195, 0.00854742]    |topic2        |edwardbarber, like, love, edward, barber, day, good, get, happy, life                               |\n",
      "+-------------------------------------------------------------------------------+--------------+----------------------------------------------------------------------------------------------------+\n",
      "only showing top 20 rows\n",
      "\n"
     ]
    }
   ],
   "source": [
    "transformed.select('topicDistribution_array','dominant_topic','dominant_topic_keywords').show(20, False)"
   ]
  },
  {
   "cell_type": "code",
   "execution_count": 141,
   "metadata": {},
   "outputs": [
    {
     "name": "stdout",
     "output_type": "stream",
     "text": [
      "+------------+--------------+-----------------------+-----+\n",
      "|created_date|dominant_topic|dominant_topic_keywords|count|\n",
      "+------------+--------------+-----------------------+-----+\n",
      "|  2021-04-01|        topic0|   whatshappeninginm...|  367|\n",
      "|  2021-04-01|        topic1|   sun, view, collec...|   59|\n",
      "|  2021-04-01|        topic2|   edwardbarber, lik...|  568|\n",
      "|  2021-04-01|        topic3|   like, people, amp...|  399|\n",
      "|  2021-04-01|        topic4|   btc, cute, chef, ...|   80|\n",
      "|  2021-04-01|        topic5|   free, zerowaste, ...|   89|\n",
      "|  2021-04-02|        topic0|   whatshappeninginm...|  401|\n",
      "|  2021-04-02|        topic1|   sun, view, collec...|   63|\n",
      "|  2021-04-02|        topic2|   edwardbarber, lik...|  649|\n",
      "|  2021-04-02|        topic3|   like, people, amp...|  327|\n",
      "|  2021-04-02|        topic4|   btc, cute, chef, ...|   83|\n",
      "|  2021-04-02|        topic5|   free, zerowaste, ...|  123|\n",
      "|  2021-04-03|        topic0|   whatshappeninginm...|  426|\n",
      "|  2021-04-03|        topic1|   sun, view, collec...|   49|\n",
      "|  2021-04-03|        topic2|   edwardbarber, lik...|  732|\n",
      "|  2021-04-03|        topic3|   like, people, amp...|  359|\n",
      "|  2021-04-03|        topic4|   btc, cute, chef, ...|   79|\n",
      "|  2021-04-03|        topic5|   free, zerowaste, ...|  137|\n",
      "|  2021-04-04|        topic0|   whatshappeninginm...|  405|\n",
      "|  2021-04-04|        topic1|   sun, view, collec...|   65|\n",
      "+------------+--------------+-----------------------+-----+\n",
      "only showing top 20 rows\n",
      "\n"
     ]
    }
   ],
   "source": [
    "transformed.groupBy(\"created_date\",\"dominant_topic\",\"dominant_topic_keywords\").count().orderBy(\"created_date\",\"dominant_topic\").show()"
   ]
  },
  {
   "cell_type": "code",
   "execution_count": 113,
   "metadata": {},
   "outputs": [],
   "source": [
    "# save the result\n",
    "# transformed.groupBy(\"created_date\",\"dominant_topic\").count().toPandas().to_csv('AprTopics.csv')"
   ]
  },
  {
   "cell_type": "code",
   "execution_count": 143,
   "metadata": {},
   "outputs": [],
   "source": [
    "transformed.groupBy(\"created_date\",\"dominant_topic\",\"dominant_topic_keywords\").count().repartition(1).write.csv('AprTopics.csv', header='true')"
   ]
  },
  {
   "cell_type": "code",
   "execution_count": null,
   "metadata": {},
   "outputs": [],
   "source": []
  }
 ],
 "metadata": {
  "kernelspec": {
   "display_name": "Python 3",
   "language": "python",
   "name": "python3"
  },
  "language_info": {
   "codemirror_mode": {
    "name": "ipython",
    "version": 3
   },
   "file_extension": ".py",
   "mimetype": "text/x-python",
   "name": "python",
   "nbconvert_exporter": "python",
   "pygments_lexer": "ipython3",
   "version": "3.7.2"
  }
 },
 "nbformat": 4,
 "nbformat_minor": 2
}
