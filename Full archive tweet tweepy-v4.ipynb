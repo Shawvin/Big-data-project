{
 "cells": [
  {
   "cell_type": "markdown",
   "metadata": {},
   "source": [
    "### This script requires the latest tweepy version which is development version tweepy v4.0\n",
    "### It can be installled drectly from Github repository:\n",
    "\n",
    "#### pip install git+https://github.com/tweepy/tweepy.git"
   ]
  },
  {
   "cell_type": "code",
   "execution_count": 1,
   "metadata": {},
   "outputs": [],
   "source": [
    "import requests\n",
    "import os\n",
    "import json\n",
    "import tweepy"
   ]
  },
  {
   "cell_type": "code",
   "execution_count": 4,
   "metadata": {},
   "outputs": [],
   "source": [
    "#bearer_token = open(\"academic_account_token\", \"r\").read()"
   ]
  },
  {
   "cell_type": "code",
   "execution_count": 5,
   "metadata": {},
   "outputs": [],
   "source": [
    "bearer_token='AAAAAAAAAAAAAAAAAAAAAIj%2FMQEAAAAA6cPH1MaLdqvt419c76uimt778kw%3DU6sKaOitIkA527J0i9mE7Y3AZSITtcnUzdtR2RXDvyJT1NQMHD'"
   ]
  },
  {
   "cell_type": "code",
   "execution_count": 6,
   "metadata": {},
   "outputs": [],
   "source": [
    "search_url = \"https://api.twitter.com/2/tweets/search/all\""
   ]
  },
  {
   "cell_type": "code",
   "execution_count": 7,
   "metadata": {},
   "outputs": [],
   "source": [
    "tweepyclient=tweepy.Client(bearer_token=bearer_token)"
   ]
  },
  {
   "cell_type": "code",
   "execution_count": 19,
   "metadata": {},
   "outputs": [],
   "source": [
    "query_params = {\n",
    "                #'profile_country: Singapore',\n",
    "                'start_time':'2021-03-01T00:00:00Z',\n",
    "                'end_time':'2021-03-02T00:00:00Z',\n",
    "                #profile_point_radius:[103.800000 1.366667 25mi] \n",
    "                'tweet_fields': ['created_at','public_metrics,geo'],\n",
    "                'expansions':['author_id','geo.place_id'],\n",
    "                #'expansions':'geo.place_id',\n",
    "                'user_fields':['location'],\n",
    "                'place_fields':['country','country_code'],\n",
    "                'max_results':500 \n",
    "               }\n",
    "query='place_country:SG lang:en -is:retweet',"
   ]
  },
  {
   "cell_type": "code",
   "execution_count": 40,
   "metadata": {},
   "outputs": [],
   "source": [
    "with open('data.json', 'w') as outfile:\n",
    "    outfile.write(\"{\\\"data\\\":[\")\n",
    "    for tweet in tweepy.Paginator(tweepyclient.search_all_tweets, query, **query_params).flatten(limit=1):\n",
    "        json.dump(tweet['data'], outfile)\n",
    "    for tweet in tweepy.Paginator(tweepyclient.search_all_tweets, query, **query_params).flatten():\n",
    "        outfile.write(\",\")\n",
    "        json.dump(tweet['data'], outfile)\n",
    "        #json.dump(tweet['includes'], outfile)\n",
    "    outfile.write(\"]}\")\n",
    "    outfile.close()"
   ]
  },
  {
   "cell_type": "code",
   "execution_count": null,
   "metadata": {},
   "outputs": [],
   "source": []
  }
 ],
 "metadata": {
  "kernelspec": {
   "display_name": "Python 3",
   "language": "python",
   "name": "python3"
  },
  "language_info": {
   "codemirror_mode": {
    "name": "ipython",
    "version": 3
   },
   "file_extension": ".py",
   "mimetype": "text/x-python",
   "name": "python",
   "nbconvert_exporter": "python",
   "pygments_lexer": "ipython3",
   "version": "3.7.2"
  }
 },
 "nbformat": 4,
 "nbformat_minor": 2
}
