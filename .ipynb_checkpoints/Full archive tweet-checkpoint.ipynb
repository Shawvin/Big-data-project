{
 "cells": [
  {
   "cell_type": "code",
   "execution_count": 122,
   "metadata": {},
   "outputs": [],
   "source": [
    "import requests\n",
    "import os\n",
    "import json"
   ]
  },
  {
   "cell_type": "code",
   "execution_count": 123,
   "metadata": {},
   "outputs": [],
   "source": [
    "#bearer_token = open(\"academic_account_token\", \"r\").read()"
   ]
  },
  {
   "cell_type": "code",
   "execution_count": 124,
   "metadata": {},
   "outputs": [],
   "source": [
    "bearer_token='AAAAAAAAAAAAAAAAAAAAAIj%2FMQEAAAAA6cPH1MaLdqvt419c76uimt778kw%3DU6sKaOitIkA527J0i9mE7Y3AZSITtcnUzdtR2RXDvyJT1NQMHD'"
   ]
  },
  {
   "cell_type": "code",
   "execution_count": 125,
   "metadata": {},
   "outputs": [],
   "source": [
    "search_url = \"https://api.twitter.com/2/tweets/search/all\""
   ]
  },
  {
   "cell_type": "code",
   "execution_count": 126,
   "metadata": {},
   "outputs": [],
   "source": [
    "# Optional params: start_time,end_time,since_id,until_id,max_results,next_token,\n",
    "# expansions,tweet.fields,media.fields,poll.fields,place.fields,user.fields\n",
    "query_params = {'query': 'place_country:SG lang:en -is:retweet',\n",
    "                #'profile_country: Singapore',\n",
    "                'start_time':'2021-01-01T00:00:00Z',\n",
    "                #profile_point_radius:[103.800000 1.366667 25mi] \n",
    "                'tweet.fields': 'created_at,public_metrics,geo',\n",
    "                'expansions':'author_id,geo.place_id',\n",
    "                #'expansions':'geo.place_id',\n",
    "                'user.fields':'location',\n",
    "                'place.fields':'country,country_code',\n",
    "                'max_results':500 \n",
    "               }"
   ]
  },
  {
   "cell_type": "code",
   "execution_count": 127,
   "metadata": {},
   "outputs": [],
   "source": [
    "def create_headers(bearer_token):\n",
    "    headers = {\"Authorization\": \"Bearer {}\".format(bearer_token)}\n",
    "    return headers\n",
    "\n",
    "\n",
    "def connect_to_endpoint(url, headers, params):\n",
    "    response = requests.request(\"GET\", search_url, headers=headers, params=params)\n",
    "    print(response.status_code)\n",
    "    if response.status_code != 200:\n",
    "        raise Exception(response.status_code, response.text)\n",
    "    return response.json()"
   ]
  },
  {
   "cell_type": "code",
   "execution_count": 128,
   "metadata": {},
   "outputs": [
    {
     "name": "stdout",
     "output_type": "stream",
     "text": [
      "200\n",
      "The number of tweets retrieve is:  500\n",
      "The next_token is:  b26v89c19zqg8o3fostu5ksxtbkwhbbwj7xvgjhw4hdod\n",
      "200\n",
      "The accumulative number of tweets retrieve is:  995\n",
      "200\n",
      "The accumulative number of tweets retrieve is:  1490\n",
      "200\n",
      "The accumulative number of tweets retrieve is:  1985\n",
      "200\n",
      "The accumulative number of tweets retrieve is:  2480\n",
      "200\n",
      "The accumulative number of tweets retrieve is:  2975\n",
      "200\n",
      "The accumulative number of tweets retrieve is:  3470\n",
      "200\n",
      "The accumulative number of tweets retrieve is:  3965\n",
      "429\n"
     ]
    },
    {
     "ename": "Exception",
     "evalue": "(429, '{\"title\":\"Too Many Requests\",\"type\":\"about:blank\",\"status\":429,\"detail\":\"Too Many Requests\"}')",
     "output_type": "error",
     "traceback": [
      "\u001b[1;31m---------------------------------------------------------------------------\u001b[0m",
      "\u001b[1;31mException\u001b[0m                                 Traceback (most recent call last)",
      "\u001b[1;32m<ipython-input-128-56fe0162c4e5>\u001b[0m in \u001b[0;36m<module>\u001b[1;34m\u001b[0m\n\u001b[0;32m     33\u001b[0m \u001b[1;33m\u001b[0m\u001b[0m\n\u001b[0;32m     34\u001b[0m \u001b[1;32mif\u001b[0m \u001b[0m__name__\u001b[0m \u001b[1;33m==\u001b[0m \u001b[1;34m\"__main__\"\u001b[0m\u001b[1;33m:\u001b[0m\u001b[1;33m\u001b[0m\u001b[1;33m\u001b[0m\u001b[0m\n\u001b[1;32m---> 35\u001b[1;33m     \u001b[0mmain\u001b[0m\u001b[1;33m(\u001b[0m\u001b[1;33m)\u001b[0m\u001b[1;33m\u001b[0m\u001b[1;33m\u001b[0m\u001b[0m\n\u001b[0m",
      "\u001b[1;32m<ipython-input-128-56fe0162c4e5>\u001b[0m in \u001b[0;36mmain\u001b[1;34m()\u001b[0m\n\u001b[0;32m     24\u001b[0m                 \u001b[1;34m'max_results'\u001b[0m\u001b[1;33m:\u001b[0m\u001b[1;36m500\u001b[0m\u001b[1;33m\u001b[0m\u001b[1;33m\u001b[0m\u001b[0m\n\u001b[0;32m     25\u001b[0m                }\n\u001b[1;32m---> 26\u001b[1;33m             \u001b[0mjson_response\u001b[0m \u001b[1;33m=\u001b[0m \u001b[0mconnect_to_endpoint\u001b[0m\u001b[1;33m(\u001b[0m\u001b[0msearch_url\u001b[0m\u001b[1;33m,\u001b[0m \u001b[0mheaders\u001b[0m\u001b[1;33m,\u001b[0m \u001b[0mquery_params_new\u001b[0m\u001b[1;33m)\u001b[0m\u001b[1;33m\u001b[0m\u001b[1;33m\u001b[0m\u001b[0m\n\u001b[0m\u001b[0;32m     27\u001b[0m             \u001b[0mtweet_count\u001b[0m\u001b[1;33m+=\u001b[0m\u001b[0mjson_response\u001b[0m\u001b[1;33m[\u001b[0m\u001b[1;34m'meta'\u001b[0m\u001b[1;33m]\u001b[0m\u001b[1;33m[\u001b[0m\u001b[1;34m'result_count'\u001b[0m\u001b[1;33m]\u001b[0m\u001b[1;33m\u001b[0m\u001b[1;33m\u001b[0m\u001b[0m\n\u001b[0;32m     28\u001b[0m             \u001b[0mprint\u001b[0m\u001b[1;33m(\u001b[0m\u001b[1;34m\"The accumulative number of tweets retrieve is: \"\u001b[0m\u001b[1;33m,\u001b[0m \u001b[0mtweet_count\u001b[0m\u001b[1;33m)\u001b[0m\u001b[1;33m\u001b[0m\u001b[1;33m\u001b[0m\u001b[0m\n",
      "\u001b[1;32m<ipython-input-127-e062efc768f0>\u001b[0m in \u001b[0;36mconnect_to_endpoint\u001b[1;34m(url, headers, params)\u001b[0m\n\u001b[0;32m      8\u001b[0m     \u001b[0mprint\u001b[0m\u001b[1;33m(\u001b[0m\u001b[0mresponse\u001b[0m\u001b[1;33m.\u001b[0m\u001b[0mstatus_code\u001b[0m\u001b[1;33m)\u001b[0m\u001b[1;33m\u001b[0m\u001b[1;33m\u001b[0m\u001b[0m\n\u001b[0;32m      9\u001b[0m     \u001b[1;32mif\u001b[0m \u001b[0mresponse\u001b[0m\u001b[1;33m.\u001b[0m\u001b[0mstatus_code\u001b[0m \u001b[1;33m!=\u001b[0m \u001b[1;36m200\u001b[0m\u001b[1;33m:\u001b[0m\u001b[1;33m\u001b[0m\u001b[1;33m\u001b[0m\u001b[0m\n\u001b[1;32m---> 10\u001b[1;33m         \u001b[1;32mraise\u001b[0m \u001b[0mException\u001b[0m\u001b[1;33m(\u001b[0m\u001b[0mresponse\u001b[0m\u001b[1;33m.\u001b[0m\u001b[0mstatus_code\u001b[0m\u001b[1;33m,\u001b[0m \u001b[0mresponse\u001b[0m\u001b[1;33m.\u001b[0m\u001b[0mtext\u001b[0m\u001b[1;33m)\u001b[0m\u001b[1;33m\u001b[0m\u001b[1;33m\u001b[0m\u001b[0m\n\u001b[0m\u001b[0;32m     11\u001b[0m     \u001b[1;32mreturn\u001b[0m \u001b[0mresponse\u001b[0m\u001b[1;33m.\u001b[0m\u001b[0mjson\u001b[0m\u001b[1;33m(\u001b[0m\u001b[1;33m)\u001b[0m\u001b[1;33m\u001b[0m\u001b[1;33m\u001b[0m\u001b[0m\n",
      "\u001b[1;31mException\u001b[0m: (429, '{\"title\":\"Too Many Requests\",\"type\":\"about:blank\",\"status\":429,\"detail\":\"Too Many Requests\"}')"
     ]
    }
   ],
   "source": [
    "def main():\n",
    "    with open('tweets4.txt', 'a') as outfile:\n",
    "        headers = create_headers(bearer_token)\n",
    "        json_response = connect_to_endpoint(search_url, headers, query_params)\n",
    "        tweet_count=json_response['meta']['result_count']\n",
    "        print(\"The number of tweets retrieve is: \", tweet_count)\n",
    "        next_token=json_response['meta'].get('next_token',None)\n",
    "        print(\"The next_token is: \", next_token)\n",
    "        json.dump(json_response, outfile)\n",
    "        #tweets.append(json_response)\n",
    "        \n",
    "        while(next_token!=None):\n",
    "            query_params_new = {'query': 'place_country:SG lang:en -is:retweet',\n",
    "                #'profile_country: Singapore',\n",
    "                'start_time':'2021-03-01T00:00:00Z',\n",
    "                'next_token':next_token,\n",
    "                #profile_point_radius:[103.800000 1.366667 25mi] \n",
    "                'tweet.fields': 'created_at,public_metrics,geo',\n",
    "                'expansions':'author_id,geo.place_id',\n",
    "                #'expansions':'geo.place_id',\n",
    "                'user.fields':'location',\n",
    "                'place.fields':'country,country_code',\n",
    "                'max_results':500 \n",
    "               }\n",
    "            json_response = connect_to_endpoint(search_url, headers, query_params_new)\n",
    "            tweet_count+=json_response['meta']['result_count']\n",
    "            print(\"The accumulative number of tweets retrieve is: \", tweet_count)\n",
    "            json.dump(json_response, outfile)\n",
    "            #tweets.append(json_response)\n",
    "        #json.dump(tweets, outfile)\n",
    "        \n",
    "\n",
    "if __name__ == \"__main__\":\n",
    "    main()"
   ]
  },
  {
   "cell_type": "code",
   "execution_count": 129,
   "metadata": {},
   "outputs": [
    {
     "ename": "NameError",
     "evalue": "name 'tweets' is not defined",
     "output_type": "error",
     "traceback": [
      "\u001b[1;31m---------------------------------------------------------------------------\u001b[0m",
      "\u001b[1;31mNameError\u001b[0m                                 Traceback (most recent call last)",
      "\u001b[1;32m<ipython-input-129-b554e1b1bbc4>\u001b[0m in \u001b[0;36m<module>\u001b[1;34m\u001b[0m\n\u001b[1;32m----> 1\u001b[1;33m \u001b[0mlen\u001b[0m\u001b[1;33m(\u001b[0m\u001b[0mtweets\u001b[0m\u001b[1;33m)\u001b[0m\u001b[1;33m\u001b[0m\u001b[1;33m\u001b[0m\u001b[0m\n\u001b[0m",
      "\u001b[1;31mNameError\u001b[0m: name 'tweets' is not defined"
     ]
    }
   ],
   "source": []
  },
  {
   "cell_type": "code",
   "execution_count": null,
   "metadata": {},
   "outputs": [],
   "source": []
  }
 ],
 "metadata": {
  "kernelspec": {
   "display_name": "Python 3",
   "language": "python",
   "name": "python3"
  },
  "language_info": {
   "codemirror_mode": {
    "name": "ipython",
    "version": 3
   },
   "file_extension": ".py",
   "mimetype": "text/x-python",
   "name": "python",
   "nbconvert_exporter": "python",
   "pygments_lexer": "ipython3",
   "version": "3.7.1"
  }
 },
 "nbformat": 4,
 "nbformat_minor": 2
}
