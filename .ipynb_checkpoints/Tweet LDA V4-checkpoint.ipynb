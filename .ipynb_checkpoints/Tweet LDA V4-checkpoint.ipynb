{
 "cells": [
  {
   "cell_type": "markdown",
   "metadata": {},
   "source": [
    "# Latent Dirichlet Allocation of Tweets"
   ]
  },
  {
   "cell_type": "markdown",
   "metadata": {},
   "source": [
    "## 1. Introduction\n",
    "In natural language processing, the Latent Dirichlet Allocation (LDA) is a generative statistical model that allows sets of observations to be explained by unobserved groups that explain why some parts of the data are similar.\n",
    "We would like to determine the number of topics on tweets from Singapore collected in April 2021."
   ]
  },
  {
   "cell_type": "markdown",
   "metadata": {},
   "source": [
    "## 2. Exploratory data analysis"
   ]
  },
  {
   "cell_type": "markdown",
   "metadata": {},
   "source": [
    "### 2.1 Load the data"
   ]
  },
  {
   "cell_type": "code",
   "execution_count": 1,
   "metadata": {},
   "outputs": [],
   "source": [
    "import json"
   ]
  },
  {
   "cell_type": "code",
   "execution_count": 2,
   "metadata": {},
   "outputs": [],
   "source": [
    "#import findspark\n",
    "#findspark.init()"
   ]
  },
  {
   "cell_type": "code",
   "execution_count": 3,
   "metadata": {
    "scrolled": true
   },
   "outputs": [],
   "source": [
    "from pyspark.sql import SparkSession\n",
    "from pyspark.sql.functions import split, explode, udf, lit\n",
    "\n",
    "spark = SparkSession.builder.appName('read JSON files').getOrCreate()"
   ]
  },
  {
   "cell_type": "code",
   "execution_count": 4,
   "metadata": {},
   "outputs": [],
   "source": [
    "# json_df=spark.read.option(\"inferSchema\",\"true\") \\\n",
    "#                 .option(\"header\",\"true\") \\\n",
    "#                 .option(\"sep\",\",\") \\\n",
    "#                 .json(\"Mar*.json\")"
   ]
  },
  {
   "cell_type": "code",
   "execution_count": 5,
   "metadata": {},
   "outputs": [],
   "source": [
    "#json_df=spark.read.json(\"tweets.txt\")"
   ]
  },
  {
   "cell_type": "code",
   "execution_count": 6,
   "metadata": {},
   "outputs": [],
   "source": [
    "# sudo -u hdfs hdfs dfsadmin -safemode leave\n",
    "# turn off safemode\n",
    "#json_df=spark.read.json(\"hdfs://quickstart.cloudera:8020/user/cloudera/twitter_Extract/Apr_tweets1.json\")"
   ]
  },
  {
   "cell_type": "code",
   "execution_count": 7,
   "metadata": {},
   "outputs": [],
   "source": [
    "json_df=spark.read.json(\"Apr_tweets*.json\")"
   ]
  },
  {
   "cell_type": "code",
   "execution_count": 8,
   "metadata": {},
   "outputs": [
    {
     "data": {
      "text/plain": [
       "97"
      ]
     },
     "execution_count": 8,
     "metadata": {},
     "output_type": "execute_result"
    }
   ],
   "source": [
    "# number of files\n",
    "json_df.count()"
   ]
  },
  {
   "cell_type": "code",
   "execution_count": 9,
   "metadata": {},
   "outputs": [
    {
     "name": "stdout",
     "output_type": "stream",
     "text": [
      "root\n",
      " |-- data: array (nullable = true)\n",
      " |    |-- element: struct (containsNull = true)\n",
      " |    |    |-- author_id: string (nullable = true)\n",
      " |    |    |-- created_at: string (nullable = true)\n",
      " |    |    |-- geo: struct (nullable = true)\n",
      " |    |    |    |-- coordinates: struct (nullable = true)\n",
      " |    |    |    |    |-- coordinates: array (nullable = true)\n",
      " |    |    |    |    |    |-- element: double (containsNull = true)\n",
      " |    |    |    |    |-- type: string (nullable = true)\n",
      " |    |    |    |-- place_id: string (nullable = true)\n",
      " |    |    |-- id: string (nullable = true)\n",
      " |    |    |-- public_metrics: struct (nullable = true)\n",
      " |    |    |    |-- like_count: long (nullable = true)\n",
      " |    |    |    |-- quote_count: long (nullable = true)\n",
      " |    |    |    |-- reply_count: long (nullable = true)\n",
      " |    |    |    |-- retweet_count: long (nullable = true)\n",
      " |    |    |-- text: string (nullable = true)\n",
      " |-- includes: struct (nullable = true)\n",
      " |    |-- places: array (nullable = true)\n",
      " |    |    |-- element: struct (containsNull = true)\n",
      " |    |    |    |-- country: string (nullable = true)\n",
      " |    |    |    |-- country_code: string (nullable = true)\n",
      " |    |    |    |-- full_name: string (nullable = true)\n",
      " |    |    |    |-- id: string (nullable = true)\n",
      " |    |-- users: array (nullable = true)\n",
      " |    |    |-- element: struct (containsNull = true)\n",
      " |    |    |    |-- id: string (nullable = true)\n",
      " |    |    |    |-- location: string (nullable = true)\n",
      " |    |    |    |-- name: string (nullable = true)\n",
      " |    |    |    |-- username: string (nullable = true)\n",
      " |-- meta: struct (nullable = true)\n",
      " |    |-- newest_id: string (nullable = true)\n",
      " |    |-- next_token: string (nullable = true)\n",
      " |    |-- oldest_id: string (nullable = true)\n",
      " |    |-- result_count: long (nullable = true)\n",
      "\n"
     ]
    }
   ],
   "source": [
    "# show the schema\n",
    "json_df.printSchema()"
   ]
  },
  {
   "cell_type": "code",
   "execution_count": 10,
   "metadata": {},
   "outputs": [
    {
     "name": "stdout",
     "output_type": "stream",
     "text": [
      "root\n",
      " |-- data: array (nullable = true)\n",
      " |    |-- element: struct (containsNull = true)\n",
      " |    |    |-- author_id: string (nullable = true)\n",
      " |    |    |-- created_at: string (nullable = true)\n",
      " |    |    |-- geo: struct (nullable = true)\n",
      " |    |    |    |-- coordinates: struct (nullable = true)\n",
      " |    |    |    |    |-- coordinates: array (nullable = true)\n",
      " |    |    |    |    |    |-- element: double (containsNull = true)\n",
      " |    |    |    |    |-- type: string (nullable = true)\n",
      " |    |    |    |-- place_id: string (nullable = true)\n",
      " |    |    |-- id: string (nullable = true)\n",
      " |    |    |-- public_metrics: struct (nullable = true)\n",
      " |    |    |    |-- like_count: long (nullable = true)\n",
      " |    |    |    |-- quote_count: long (nullable = true)\n",
      " |    |    |    |-- reply_count: long (nullable = true)\n",
      " |    |    |    |-- retweet_count: long (nullable = true)\n",
      " |    |    |-- text: string (nullable = true)\n",
      "\n"
     ]
    }
   ],
   "source": [
    "# show the schema for tweets\n",
    "json_df.select('data').printSchema()"
   ]
  },
  {
   "cell_type": "code",
   "execution_count": 11,
   "metadata": {},
   "outputs": [],
   "source": [
    "# convert array to dict\n",
    "data_df=json_df.select('data').withColumn('data', explode('data').alias('data'))"
   ]
  },
  {
   "cell_type": "code",
   "execution_count": 12,
   "metadata": {},
   "outputs": [
    {
     "name": "stdout",
     "output_type": "stream",
     "text": [
      "root\n",
      " |-- data: struct (nullable = true)\n",
      " |    |-- author_id: string (nullable = true)\n",
      " |    |-- created_at: string (nullable = true)\n",
      " |    |-- geo: struct (nullable = true)\n",
      " |    |    |-- coordinates: struct (nullable = true)\n",
      " |    |    |    |-- coordinates: array (nullable = true)\n",
      " |    |    |    |    |-- element: double (containsNull = true)\n",
      " |    |    |    |-- type: string (nullable = true)\n",
      " |    |    |-- place_id: string (nullable = true)\n",
      " |    |-- id: string (nullable = true)\n",
      " |    |-- public_metrics: struct (nullable = true)\n",
      " |    |    |-- like_count: long (nullable = true)\n",
      " |    |    |-- quote_count: long (nullable = true)\n",
      " |    |    |-- reply_count: long (nullable = true)\n",
      " |    |    |-- retweet_count: long (nullable = true)\n",
      " |    |-- text: string (nullable = true)\n",
      "\n"
     ]
    }
   ],
   "source": [
    "# print the schema after conversion\n",
    "data_df.printSchema()"
   ]
  },
  {
   "cell_type": "code",
   "execution_count": 13,
   "metadata": {},
   "outputs": [
    {
     "data": {
      "text/plain": [
       "47978"
      ]
     },
     "execution_count": 13,
     "metadata": {},
     "output_type": "execute_result"
    }
   ],
   "source": [
    "# number of records\n",
    "data_df.count()"
   ]
  },
  {
   "cell_type": "code",
   "execution_count": 14,
   "metadata": {},
   "outputs": [],
   "source": [
    "# select the attributes to flatten\n",
    "data_df=data_df.select('data.author_id',\n",
    "                       'data.created_at',\n",
    "                       'data.geo.place_id',\n",
    "                       'data.id',\n",
    "                       'data.public_metrics',\n",
    "                       'data.text')"
   ]
  },
  {
   "cell_type": "code",
   "execution_count": 15,
   "metadata": {},
   "outputs": [
    {
     "name": "stdout",
     "output_type": "stream",
     "text": [
      "root\n",
      " |-- author_id: string (nullable = true)\n",
      " |-- created_at: string (nullable = true)\n",
      " |-- place_id: string (nullable = true)\n",
      " |-- id: string (nullable = true)\n",
      " |-- public_metrics: struct (nullable = true)\n",
      " |    |-- like_count: long (nullable = true)\n",
      " |    |-- quote_count: long (nullable = true)\n",
      " |    |-- reply_count: long (nullable = true)\n",
      " |    |-- retweet_count: long (nullable = true)\n",
      " |-- text: string (nullable = true)\n",
      "\n"
     ]
    }
   ],
   "source": [
    "# thhe schema after selection\n",
    "data_df.printSchema()"
   ]
  },
  {
   "cell_type": "code",
   "execution_count": 16,
   "metadata": {},
   "outputs": [],
   "source": [
    "# select the place content\n",
    "place_df=json_df.select('includes.places')"
   ]
  },
  {
   "cell_type": "code",
   "execution_count": 17,
   "metadata": {},
   "outputs": [
    {
     "name": "stdout",
     "output_type": "stream",
     "text": [
      "root\n",
      " |-- places: array (nullable = true)\n",
      " |    |-- element: struct (containsNull = true)\n",
      " |    |    |-- country: string (nullable = true)\n",
      " |    |    |-- country_code: string (nullable = true)\n",
      " |    |    |-- full_name: string (nullable = true)\n",
      " |    |    |-- id: string (nullable = true)\n",
      "\n"
     ]
    }
   ],
   "source": [
    "# show the schema fo place\n",
    "place_df.printSchema()"
   ]
  },
  {
   "cell_type": "code",
   "execution_count": 18,
   "metadata": {},
   "outputs": [],
   "source": [
    "# select the user content\n",
    "user_df=json_df.select('includes.users')"
   ]
  },
  {
   "cell_type": "code",
   "execution_count": 19,
   "metadata": {},
   "outputs": [
    {
     "name": "stdout",
     "output_type": "stream",
     "text": [
      "root\n",
      " |-- users: array (nullable = true)\n",
      " |    |-- element: struct (containsNull = true)\n",
      " |    |    |-- id: string (nullable = true)\n",
      " |    |    |-- location: string (nullable = true)\n",
      " |    |    |-- name: string (nullable = true)\n",
      " |    |    |-- username: string (nullable = true)\n",
      "\n"
     ]
    }
   ],
   "source": [
    "# show the schema fo user\n",
    "user_df.printSchema()"
   ]
  },
  {
   "cell_type": "code",
   "execution_count": 32,
   "metadata": {},
   "outputs": [],
   "source": [
    "import pyspark.sql.types as T\n",
    "from pyspark.sql.functions import col"
   ]
  },
  {
   "cell_type": "code",
   "execution_count": 33,
   "metadata": {},
   "outputs": [],
   "source": [
    "def read_nested_json(df):\n",
    "    column_list = []\n",
    "\n",
    "    for column_name in df.schema.names:\n",
    "        print(\"Outside isinstance loop: \" + column_name)\n",
    "        # Checking column type is ArrayType\n",
    "        if isinstance(df.schema[column_name].dataType, T.ArrayType):\n",
    "            print(\"Inside isinstance loop of ArrayType: \" + column_name)\n",
    "            df = df.withColumn(column_name, explode(column_name).alias(column_name))\n",
    "            column_list.append(column_name)\n",
    "\n",
    "        elif isinstance(df.schema[column_name].dataType, T.StructType):\n",
    "            print(\"Inside isinstance loop of StructType: \" + column_name)\n",
    "            for field in df.schema[column_name].dataType.fields:\n",
    "                column_list.append(col(column_name + \".\" + field.name).alias(column_name + \"_\" + field.name))\n",
    "        else:\n",
    "            column_list.append(column_name)\n",
    "\n",
    "    # Selecting columns using column_list from dataframe: df\n",
    "    df = df.select(column_list)\n",
    "    return df"
   ]
  },
  {
   "cell_type": "code",
   "execution_count": 34,
   "metadata": {},
   "outputs": [],
   "source": [
    "def flatten_nested_json(df):\n",
    "    read_nested_json_flag = True\n",
    "    while read_nested_json_flag:\n",
    "        print(\"Reading Nested JSON File ... \")\n",
    "        df = read_nested_json(df)\n",
    "        #df.show(100, False)\n",
    "        read_nested_json_flag = False\n",
    "\n",
    "        for column_name in df.schema.names:\n",
    "            if isinstance(df.schema[column_name].dataType, T.ArrayType):\n",
    "              read_nested_json_flag = True\n",
    "            elif isinstance(df.schema[column_name].dataType, T.StructType):\n",
    "              read_nested_json_flag = True\n",
    "    return df"
   ]
  },
  {
   "cell_type": "code",
   "execution_count": 35,
   "metadata": {
    "scrolled": false
   },
   "outputs": [
    {
     "name": "stdout",
     "output_type": "stream",
     "text": [
      "Reading Nested JSON File ... \n",
      "Outside isinstance loop: author_id\n",
      "Outside isinstance loop: created_at\n",
      "Outside isinstance loop: place_id\n",
      "Outside isinstance loop: id\n",
      "Outside isinstance loop: public_metrics\n",
      "Inside isinstance loop of StructType: public_metrics\n",
      "Outside isinstance loop: text\n"
     ]
    }
   ],
   "source": [
    "# flatten the tweet content\n",
    "data_df=flatten_nested_json(data_df)"
   ]
  },
  {
   "cell_type": "code",
   "execution_count": 36,
   "metadata": {},
   "outputs": [
    {
     "name": "stdout",
     "output_type": "stream",
     "text": [
      "+-------------------+--------------------+----------------+-------------------+-------------------------+--------------------------+--------------------------+----------------------------+--------------------+\n",
      "|          author_id|          created_at|        place_id|                 id|public_metrics_like_count|public_metrics_quote_count|public_metrics_reply_count|public_metrics_retweet_count|                text|\n",
      "+-------------------+--------------------+----------------+-------------------+-------------------------+--------------------------+--------------------------+----------------------------+--------------------+\n",
      "|1278250537972985856|2021-04-19T08:41:...|5f1f473ed6455f55|1384064534600507392|                        1|                         0|                         1|                           0|@hhjflrts im sorr...|\n",
      "|           63608631|2021-04-19T08:41:...|58a4c3a0d54e1400|1384064515759693830|                        1|                         0|                         1|                           0|@yogezlor By now ...|\n",
      "|          125625919|2021-04-19T08:40:...|6635b2fcebd13c64|1384064394011709446|                        0|                         0|                         0|                           0|Forgot about the ...|\n",
      "|1357206521407434752|2021-04-19T08:40:...|2509b9adc1fedfd2|1384064393017626635|                        2|                         0|                         0|                           1|Massive protester...|\n",
      "|           24787145|2021-04-19T08:38:...|58a4c3a0d54e1400|1384063860852678657|                        0|                         0|                         0|                           0|Just posted a pho...|\n",
      "|           74392791|2021-04-19T08:37:...|58a4c3a0d54e1400|1384063582938140673|                        2|                         0|                         1|                           0|@Ibraheema_Ykb Ok...|\n",
      "|            6988732|2021-04-19T08:37:...|58a4c3a0d54e1400|1384063508652851200|                        1|                         0|                         0|                           0|@mintea AND KIDS....|\n",
      "|         4814996200|2021-04-19T08:35:...|58a4c3a0d54e1400|1384063029076127747|                        0|                         0|                         0|                           0|Just posted a pho...|\n",
      "|         1186314151|2021-04-19T08:32:...|58a4c3a0d54e1400|1384062369492389892|                        1|                         0|                         0|                           0|@SheaSonia I am s...|\n",
      "|1356948730046537736|2021-04-19T08:32:...|6635b2fcebd13c64|1384062319781502977|                        1|                         0|                         0|                           1|In MyinGyan, terr...|\n",
      "+-------------------+--------------------+----------------+-------------------+-------------------------+--------------------------+--------------------------+----------------------------+--------------------+\n",
      "only showing top 10 rows\n",
      "\n"
     ]
    }
   ],
   "source": [
    "# show the first 10 records\n",
    "data_df.show(10)"
   ]
  },
  {
   "cell_type": "code",
   "execution_count": 37,
   "metadata": {},
   "outputs": [
    {
     "name": "stdout",
     "output_type": "stream",
     "text": [
      "+--------+\n",
      "|count(1)|\n",
      "+--------+\n",
      "|   47978|\n",
      "+--------+\n",
      "\n"
     ]
    }
   ],
   "source": [
    "# check the number of record in data_df dataframe\n",
    "data_df.createOrReplaceTempView(\"df_data\")\n",
    "spark.sql(\"SELECT count(*) FROM df_data\").show()"
   ]
  },
  {
   "cell_type": "code",
   "execution_count": 38,
   "metadata": {},
   "outputs": [
    {
     "name": "stdout",
     "output_type": "stream",
     "text": [
      "+------------------+\n",
      "|count(DISTINCT id)|\n",
      "+------------------+\n",
      "|             47978|\n",
      "+------------------+\n",
      "\n"
     ]
    }
   ],
   "source": [
    "# check that the id is the primary key\n",
    "spark.sql(\"SELECT count(DISTINCT id) FROM df_data\").show()"
   ]
  },
  {
   "cell_type": "code",
   "execution_count": 39,
   "metadata": {},
   "outputs": [
    {
     "name": "stdout",
     "output_type": "stream",
     "text": [
      "Reading Nested JSON File ... \n",
      "Outside isinstance loop: places\n",
      "Inside isinstance loop of ArrayType: places\n",
      "Reading Nested JSON File ... \n",
      "Outside isinstance loop: places\n",
      "Inside isinstance loop of StructType: places\n"
     ]
    }
   ],
   "source": [
    "# flatten the content for place\n",
    "place_df=flatten_nested_json(place_df)"
   ]
  },
  {
   "cell_type": "code",
   "execution_count": 40,
   "metadata": {},
   "outputs": [
    {
     "name": "stdout",
     "output_type": "stream",
     "text": [
      "+--------------+-------------------+--------------------------------------------------+----------------+\n",
      "|places_country|places_country_code|places_full_name                                  |places_id       |\n",
      "+--------------+-------------------+--------------------------------------------------+----------------+\n",
      "|Singapore     |SG                 |North-East Region, Singapore                      |5f1f473ed6455f55|\n",
      "|Singapore     |SG                 |Central Region, Singapore                         |58a4c3a0d54e1400|\n",
      "|Singapore     |SG                 |East Region, Singapore                            |6635b2fcebd13c64|\n",
      "|Singapore     |SG                 |Singapore                                         |2509b9adc1fedfd2|\n",
      "|Singapore     |SG                 |North Region, Singapore                           |14d9532bd696d8cb|\n",
      "|Singapore     |SG                 |West Region, Singapore                            |0b37664066a8962a|\n",
      "|Singapore     |SG                 |Lazarus Island                                    |07d9ed829f484001|\n",
      "|Singapore     |SG                 |ArtScience Museum                                 |07d9e3e81bc86003|\n",
      "|Singapore     |SG                 |Bts Popup: Map Of The Soul: 7 Showcase Singapore  |129f6160db954002|\n",
      "|Singapore     |SG                 |Marina Bay Sands                                  |07d9e66927087001|\n",
      "|Singapore     |SG                 |Fusionopolis                                      |07d9d22515080000|\n",
      "|Singapore     |SG                 |The Mayfair                                       |07d9d40afec80004|\n",
      "|Singapore     |SG                 |Central Region, Singapore                         |58a4c3a0d54e1400|\n",
      "|Singapore     |SG                 |East Region, Singapore                            |6635b2fcebd13c64|\n",
      "|Singapore     |SG                 |West Region, Singapore                            |0b37664066a8962a|\n",
      "|Singapore     |SG                 |North Region, Singapore                           |14d9532bd696d8cb|\n",
      "|Singapore     |SG                 |Esplanade - Theatres On The Bay                   |07d9c94089085007|\n",
      "|Singapore     |SG                 |North-East Region, Singapore                      |5f1f473ed6455f55|\n",
      "|Singapore     |SG                 |Open Space Beside Yew Tee Point                   |07d9e4e2d2083000|\n",
      "|Singapore     |SG                 |Dancing Crab | Louisiana Seafood                  |0fc3322d5754f000|\n",
      "|Singapore     |SG                 |Singapore                                         |2509b9adc1fedfd2|\n",
      "|Singapore     |SG                 |7-Eleven #125                                     |0dee62ac0954c000|\n",
      "|Singapore     |SG                 |Hua Yi Secondary School                           |07d9edeee2485000|\n",
      "|Singapore     |SG                 |Cloud Forest                                      |07d9f66942480000|\n",
      "|Singapore     |SG                 |Flower Dome                                       |07d9cd53b1885000|\n",
      "|Singapore     |SG                 |Ghim Moh Link Bridge                              |0fc30a1dd854d000|\n",
      "|Singapore     |SG                 |Blk 26 Ghim Moh Link                              |07d9e613f2c85000|\n",
      "|Singapore     |SG                 |ChaTraMue                                         |1212be19d494c000|\n",
      "|Singapore     |SG                 |Singapore Turf Club                               |07d9d2201ac88000|\n",
      "|Singapore     |SG                 |Tanglin Mall                                      |07d9f5bcd4482001|\n",
      "|Singapore     |SG                 |28 HongKong Street                                |0a63a84727162001|\n",
      "|Singapore     |SG                 |Lee Kong Chian Natural History Museum             |07f4746a95572000|\n",
      "|Singapore     |SG                 |Dhoby Ghaut MRT Interchange (CC1/NE6/NS24)        |07d9d2256e481002|\n",
      "|Singapore     |SG                 |Jinjja Chicken                                    |113dfaa761950001|\n",
      "|Singapore     |SG                 |Changi Sailing Club                               |07d9f5c968c85002|\n",
      "|Singapore     |SG                 |Singapore Botanic Gardens                         |07d9d22e02884003|\n",
      "|Singapore     |SG                 |Books Kinokuniya 紀伊國屋書店                     |0fc2ea15b1155000|\n",
      "|Singapore     |SG                 |Central Region, Singapore                         |58a4c3a0d54e1400|\n",
      "|Singapore     |SG                 |West Region, Singapore                            |0b37664066a8962a|\n",
      "|Singapore     |SG                 |East Region, Singapore                            |6635b2fcebd13c64|\n",
      "|Singapore     |SG                 |North-East Region, Singapore                      |5f1f473ed6455f55|\n",
      "|Singapore     |SG                 |North Region, Singapore                           |14d9532bd696d8cb|\n",
      "|Singapore     |SG                 |Singapore                                         |2509b9adc1fedfd2|\n",
      "|Singapore     |SG                 |Li Xin Teochew Fishball Noodles                   |12c1d740dcd4c001|\n",
      "|Singapore     |SG                 |Asian Civilisations Museum                        |07d9f738fb486003|\n",
      "|Singapore     |SG                 |Banana Moon                                       |07d9dd6a0fc85000|\n",
      "|Singapore     |SG                 |Punggol 17th                                      |07d9e4ba24c84000|\n",
      "|Singapore     |SG                 |Kranji War Memorial                               |07d9d22989c84002|\n",
      "|Singapore     |SG                 |Pasir Ris Polyclinic                              |07d9c97fbac88001|\n",
      "|Singapore     |SG                 |Clifford Centre                                   |07d9d24e66882000|\n",
      "|Singapore     |SG                 |Mobilehardware Official [ Mh ] (Burlington Square)|132e06da92147000|\n",
      "|Singapore     |SG                 |Bee's Knees                                       |0b681be2f2164000|\n",
      "|Singapore     |SG                 |North-East Region, Singapore                      |5f1f473ed6455f55|\n",
      "|Singapore     |SG                 |West Region, Singapore                            |0b37664066a8962a|\n",
      "|Singapore     |SG                 |Central Region, Singapore                         |58a4c3a0d54e1400|\n",
      "|Singapore     |SG                 |Singapore                                         |2509b9adc1fedfd2|\n",
      "|Singapore     |SG                 |North Region, Singapore                           |14d9532bd696d8cb|\n",
      "|Singapore     |SG                 |East Region, Singapore                            |6635b2fcebd13c64|\n",
      "|Singapore     |SG                 |Marina South Pier                                 |07d9c94d34881001|\n",
      "|Singapore     |SG                 |ION Orchard                                       |07d9ec737a485001|\n",
      "|Singapore     |SG                 |28 HongKong Street                                |0a63a84727162001|\n",
      "|Singapore     |SG                 |Blk 4C, St. George's Lane                         |07d9e5643e088003|\n",
      "|Singapore     |SG                 |Carlton City Hotel                                |07d9f67613481000|\n",
      "|Singapore     |SG                 |Joo Chiat Complex                                 |07d9c948bfc88001|\n",
      "|Singapore     |SG                 |Bistro Gardenesia                                 |07d9f7e73a083000|\n",
      "|Singapore     |SG                 |St. John's Island                                 |07d9ec7813887000|\n",
      "|Singapore     |SG                 |Koji Sushi Bar                                    |122b2a0ade169002|\n",
      "|Singapore     |SG                 |Suntec City Mall                                  |0fc346c8ab942000|\n",
      "|Singapore     |SG                 |Central Region, Singapore                         |58a4c3a0d54e1400|\n",
      "|Singapore     |SG                 |East Region, Singapore                            |6635b2fcebd13c64|\n",
      "|Singapore     |SG                 |North-East Region, Singapore                      |5f1f473ed6455f55|\n",
      "|Singapore     |SG                 |West Region, Singapore                            |0b37664066a8962a|\n",
      "|Singapore     |SG                 |North Region, Singapore                           |14d9532bd696d8cb|\n",
      "|Singapore     |SG                 |BLK 12 EUNOS CRESCENT                             |07d9e3fddac80003|\n",
      "|Singapore     |SG                 |Tower 3 Marina Bay Sands Hotel                    |07d9dc1df3086002|\n",
      "|Singapore     |SG                 |Keat Hong Mirage                                  |07d9d9335a480000|\n",
      "|Singapore     |SG                 |Singapore                                         |2509b9adc1fedfd2|\n",
      "|Singapore     |SG                 |Telok Ayer Green                                  |07d9f75943485000|\n",
      "|Singapore     |SG                 |Library@Harbourfront                              |0fc2e76b4c15e005|\n",
      "|Singapore     |SG                 |a noodle story                                    |07d9d87b34c83002|\n",
      "|Singapore     |SG                 |Ngee Ann Polytechnic (NP)                         |07d9c9408f886000|\n",
      "|Singapore     |SG                 |Mediacorp Campus                                  |0fc28c866d15b000|\n",
      "|Singapore     |SG                 |The Palace II                                     |07d9e6284ec86002|\n",
      "|Singapore     |SG                 |Sentosa Island                                    |07d9d347af081001|\n",
      "|Singapore     |SG                 |Lee Kong Chian Natural History Museum             |07f4746a95572000|\n",
      "|Singapore     |SG                 |Orchid Park Secondary School                      |07d9c9f0f0c85002|\n",
      "|Singapore     |SG                 |Mirror Maze                                       |0ff0e78a6dd55001|\n",
      "|Singapore     |SG                 |Singapore Botanic Gardens                         |07d9d22e02884003|\n",
      "|Singapore     |SG                 |North-East Region, Singapore                      |5f1f473ed6455f55|\n",
      "|Singapore     |SG                 |Central Region, Singapore                         |58a4c3a0d54e1400|\n",
      "|Singapore     |SG                 |West Region, Singapore                            |0b37664066a8962a|\n",
      "|Singapore     |SG                 |East Region, Singapore                            |6635b2fcebd13c64|\n",
      "|Singapore     |SG                 |North Region, Singapore                           |14d9532bd696d8cb|\n",
      "|Singapore     |SG                 |*SCAPE                                            |07d9e3b9fb485000|\n",
      "|Singapore     |SG                 |Singapore                                         |2509b9adc1fedfd2|\n",
      "|Singapore     |SG                 |Gardens by the Bay                                |0fc345192454f000|\n",
      "|Singapore     |SG                 |ArtScience Museum                                 |07d9e3e81bc86003|\n",
      "|Singapore     |SG                 |Singapore Turf Club                               |07d9d2201ac88000|\n",
      "|Singapore     |SG                 |Suntec City Tower 1&2 Taxi Stand                  |07d9ecb1b2082000|\n",
      "|Singapore     |SG                 |Chestnut Nature Park                              |0fc2dd3a9314c000|\n",
      "+--------------+-------------------+--------------------------------------------------+----------------+\n",
      "only showing top 100 rows\n",
      "\n"
     ]
    }
   ],
   "source": [
    "# show the tweet location for first 100 records\n",
    "place_df.show(100, False)"
   ]
  },
  {
   "cell_type": "code",
   "execution_count": 41,
   "metadata": {},
   "outputs": [
    {
     "name": "stdout",
     "output_type": "stream",
     "text": [
      "+--------+\n",
      "|count(1)|\n",
      "+--------+\n",
      "|    1502|\n",
      "+--------+\n",
      "\n"
     ]
    }
   ],
   "source": [
    "# check the number of unique place in place_df dataframe\n",
    "place_df.createOrReplaceTempView(\"df_data\")\n",
    "spark.sql(\"SELECT count(*) FROM df_data\").show()"
   ]
  },
  {
   "cell_type": "code",
   "execution_count": 42,
   "metadata": {},
   "outputs": [
    {
     "name": "stdout",
     "output_type": "stream",
     "text": [
      "Reading Nested JSON File ... \n",
      "Outside isinstance loop: users\n",
      "Inside isinstance loop of ArrayType: users\n",
      "Reading Nested JSON File ... \n",
      "Outside isinstance loop: users\n",
      "Inside isinstance loop of StructType: users\n"
     ]
    }
   ],
   "source": [
    "# flatten the neseted json of user\n",
    "user_df=flatten_nested_json(user_df)"
   ]
  },
  {
   "cell_type": "code",
   "execution_count": 43,
   "metadata": {},
   "outputs": [
    {
     "name": "stdout",
     "output_type": "stream",
     "text": [
      "+-------------------+------------------------------+--------------------------------+---------------+\n",
      "|users_id           |users_location                |users_name                      |users_username |\n",
      "+-------------------+------------------------------+--------------------------------+---------------+\n",
      "|1278250537972985856|stayville / chan's room       |skztrees                        |skztrees       |\n",
      "|63608631           |A Galaxy Far Far Away...      |Я.                              |raguugar       |\n",
      "|125625919          |Singapore                     |Lexelle de Charmaine            |lexelledextjluv|\n",
      "|1357206521407434752|Myanmar                       |HninOo05                        |HninOoWai05    |\n",
      "|24787145           |Singapore                     |SGFirstAid                      |sfatc          |\n",
      "|74392791           |Central Region, Singapore     |Abu Zimal                       |chat2deen      |\n",
      "|6988732            |Singapore                     |Daphne Maia                     |daphnemaia     |\n",
      "|4814996200         |London/Singapore              |bakchormeeboy                   |bakchormeeboy  |\n",
      "|1186314151         |East Region, Singapore        |Bambang Kajairi                 |BambangKajairi |\n",
      "|1356948730046537736|null                          |Hnin Zar                        |hninzar5       |\n",
      "|781137706474545152 |null                          |𝒮𝒶𝓇𝒶 𝒮𝒶𝒷𝓈 🎀            |sxrxfxnxh      |\n",
      "|1267103520345305088|null                          |Liza Magsino                    |magsino_liza   |\n",
      "|3260022529         |null                          |Mira🧸                          |meyraa94       |\n",
      "|22220293           |Find me if you can            |cheguthamrin                    |cheguthamrin   |\n",
      "|1341346163924979714|Singapore                     |SSRAAM                          |SSRAAM10       |\n",
      "|56246952           |Fucking Wonderland. Always    |Cakeee                          |baziltt        |\n",
      "|372316304          |Singapore                     |Hakim Isman                     |HakimIsman     |\n",
      "|238086492          |singapore                     |nicole is working on herself    |nictophile     |\n",
      "|1369590464         |Singapore                     |TSwithsoulofABoy                |marishkanorah  |\n",
      "|33204999           |Somewhere underneath the sky  |Meliana Chandra                 |melianachandra |\n",
      "|1317728930         |Thannoothu                    |commonman                       |isureshtweet   |\n",
      "|2799490740         |Singapore and London          |H.L. Chan 院翰林                |henrychanesq   |\n",
      "|733614222710464512 |null                          |Shio                            |shishiodesu    |\n",
      "|1167295831835201538|♡, 𝖆𝖍𝖙𝖔𝖕𝖕               |𝓼𝓱𝓪𝓻𝓪𝓱 🥀                 |heyitsharah_   |\n",
      "|1157970560850096128|null                          |Nabilon😁                       |CFCnabilon     |\n",
      "|198837753          |Singapore                     |joel 🦋                         |joelwuj        |\n",
      "|2599137806         |Singapore                     |Md Amir                         |amrates        |\n",
      "|1001084657188847618|null                          |༼ つ ◕•◕ ༽つ                    |desolatusoul   |\n",
      "|1350756808558723077|Singapore                     |mik                             |eelnadliahkim  |\n",
      "|1372613128832307201|Singapore                     |Wan Kyn                         |thewanone      |\n",
      "|191452060          |Singapore                     |Sathish Kumar                   |nitmkumar      |\n",
      "|101150760          |null                          |Jia Xuan                        |jack9310       |\n",
      "|984823966052245504 |Singapore                     |David                           |TKamot         |\n",
      "|99460778           |Muar, Johor                   |coachmaii.mira                  |mai_atoi       |\n",
      "|1301714648291393537|East Region, Singapore        |Eye Luxe Singapore              |eye_luxe       |\n",
      "|1174961209583366144|null                          |Yu                              |Hlaing1Yu      |\n",
      "|17068055           |Singapore                     |vina melody                     |vinamelody     |\n",
      "|29213315           |SINGAPORE                     |Tan Chuan-Jin                   |chuanjin1      |\n",
      "|53246445           |null                          |Jimmy Lim                       |Chemist_Sim    |\n",
      "|2237785058         |SINGAPORE                     |aaronho                         |aaronhorealtor |\n",
      "|1350743805973065728|Singapore                     |Minue.dreams_come_true          |MinueSingapore |\n",
      "|141497338          |singapore                     |robsondesign                    |robsondesignSG |\n",
      "|1014402534423736321|Singapore                     |AL Pacino                       |Vigneshwar_Tony|\n",
      "|1375015639123783686|Singapore                     |Yappep                          |Yappep1        |\n",
      "|134672359          |cinema                        |Sridath                         |DathuRulz      |\n",
      "|3157260415         |Singapore                     |𝑨𝒏𝒅𝒓𝒐 𝑪𝒉𝒂𝒗𝒆𝒛 #ATinSG |DroChavez      |\n",
      "|1380405984372215810|Singapore                     |TuTu                            |TuTu33459543   |\n",
      "|1371089150443548673|null                          |Fly to the moon 🌒              |Liubin_Alex    |\n",
      "|247104291          |Singapore                     |ning                            |ningsterrr     |\n",
      "|1030086494650695680|null                          |Jimin’s Left Shoulder⁷          |JMsLeftShoulder|\n",
      "|1306857068167479300|Singapore                     |21stcenturysg                   |21stCenturyVits|\n",
      "|3251179748         |Singapore                     |SuperSonicSg                    |_supersonicsg  |\n",
      "|2920336466         |Inno Genga                    |Moana✨👑                        |rineslivess    |\n",
      "|1369650811781795841|Singapore                     |BKPPxPenguinsSG                 |BKPPxPenguinsSG|\n",
      "|2607619230         |null                          |Aung Thet                       |harlueeaung    |\n",
      "|35522232           |somewhere out there....       |안안。อัน                       |uknowdorothy   |\n",
      "|358556005          |null                          |nīght fūrÿ                      |_ijaaat        |\n",
      "|1135481046646976513|null                          |farhan 🙊💯                     |kvnghan        |\n",
      "|1199407355969933312|Singapore                     |kelmer kor kor (your/father)    |keelmeer1      |\n",
      "|469391870          |Singapore                     |Heman Chong                     |HemanChong     |\n",
      "|21467726           |Singapore                     |David Tan                       |g33k5p34k      |\n",
      "|5556172            |Singapore                     |Soniya Kulkarni                 |randomrobin    |\n",
      "|607804234          |null                          |John Dice                       |raphaelraj777  |\n",
      "|445429312          |null                          |Siti Hawa ستى حواء              |Sitihawafendi  |\n",
      "|1258647735936270336|null                          |babi chulo                      |hanif_afiq     |\n",
      "|2173945244         |Singapore                     |Hyewon Hwang                    |hyewonii_      |\n",
      "|38924229           |1.383687,103.898283           |Rayn Lim                        |raynlim        |\n",
      "|55570591           |null                          |Ross Struel Clarke              |RossyClarke10  |\n",
      "|498897388          |singapore                     |@Harbejen                       |_BunnySingh_   |\n",
      "|11279012           |Warp 9.95                     |Ivan Shim 沈标明                |ivanshim       |\n",
      "|1055333206096928769|Singapore                     |2NE1 투애니원                   |2ne1_worldxxi  |\n",
      "|116704295          |Singapore                     |Joshua Wong                     |joshuawjj      |\n",
      "|1377100238775672833|Singapore                     |Su Ling                         |SuLing32011602 |\n",
      "|238536368          |Singapore                     |jin jie                         |JJDaBombs      |\n",
      "|924150838053912581 |Singapore                     |marco                           |marcojune17    |\n",
      "|29664101           |singapore                     |ann kok                         |ann_kok        |\n",
      "|1261393366421397504|null                          |Raghu                           |Raghu35351422  |\n",
      "|87445691           |Singapore/ heart in India 🇮🇳|Dalvinder Jeet Kaur             |Hi_Dalvinder   |\n",
      "|4675613552         |null                          |jOna_mae1153 ⁷                  |JMae1153       |\n",
      "|430163868          |johorean                      |CHAPINAS 💛                     |intxnshfnz     |\n",
      "|1538421768         |null                          |ً                               |herniepotter   |\n",
      "|1357273081639620608|null                          |Myat Min Thit Nwe               |MyatMinThitNwe1|\n",
      "|1339182239821701122|null                          |Yoongi💜 ARMY                   |SoeSand29946490|\n",
      "|942029007637352448 |Singapore                     |Hҽαɾƚ Sυɱαɳԃҽ                   |honeyyheartzz  |\n",
      "|1249183893422391296|Singapura                     |𝙽𝚊𝚍𝚒𝚊                      |NadPandaa      |\n",
      "|1172476425242234881|Iloilo, Philippines           |BlessED_International 🕊️👼     |iamrainlouise  |\n",
      "|277824053          |far from the madding crowd    |czarin                          |czawin         |\n",
      "|976063873          |East Region, Singapore        |Ikigai                          |IHarrave       |\n",
      "|51385779           |she/her | 22                  |reneé                           |sawayamadoll   |\n",
      "|285789799          |Costa Rica                    |𝑳𝒂𝒖𝒈𝒉𝒊𝒏𝒈 𝑺𝒕𝒐𝒓𝒎     |lifeistolepak  |\n",
      "|3283030512         |RSVR 470                      |Ghazalee Ibrahim                |GhazaleeIbr    |\n",
      "|343741725          |Singapore                     |That - Wann                     |Kesperwann     |\n",
      "|2252140291         |Singapore                     |Fash The Face                   |EfashaKamarudin|\n",
      "|10872822           |Singapore                     |Sense Hofstede                  |sehof          |\n",
      "|834100005220839425 |partout genre vraiment        |Aethallin                       |Aethallin      |\n",
      "|36258579           |Central Region, Singapore     |PrinzLee 🇸🇬🇵🇭               |_iamprincelee_ |\n",
      "|1339531498689503232|Singapore                     |dandelioncouple loves yeaji ❤️👸|dandelioncouple|\n",
      "|58150531           |Central Region, Singapore     |Joshua Matthew Ng               |joshua57ng     |\n",
      "|215280713          |Singapore                     |MYAT SU LIN                     |myatsulin      |\n",
      "|307287540          |heywood, night city           |Kyle ⚡ Carrillo                 |_KYLEEEE       |\n",
      "+-------------------+------------------------------+--------------------------------+---------------+\n",
      "only showing top 100 rows\n",
      "\n"
     ]
    }
   ],
   "source": [
    "# show the tweet user of first 100 records\n",
    "user_df.show(100, False)"
   ]
  },
  {
   "cell_type": "code",
   "execution_count": 44,
   "metadata": {},
   "outputs": [
    {
     "name": "stdout",
     "output_type": "stream",
     "text": [
      "+------------------------+\n",
      "|count(DISTINCT users_id)|\n",
      "+------------------------+\n",
      "|                    4374|\n",
      "+------------------------+\n",
      "\n"
     ]
    }
   ],
   "source": [
    "# check the number of unique user in user_df dataframe\n",
    "user_df.createOrReplaceTempView(\"df_data\")\n",
    "spark.sql(\"SELECT count(DISTINCT users_id) FROM df_data\").show()"
   ]
  },
  {
   "cell_type": "code",
   "execution_count": 45,
   "metadata": {},
   "outputs": [
    {
     "name": "stdout",
     "output_type": "stream",
     "text": [
      "+-----------------------------------------------------+------------------------------------+\n",
      "|users_name                                           |users_location                      |\n",
      "+-----------------------------------------------------+------------------------------------+\n",
      "|skztrees                                             |stayville / chan's room             |\n",
      "|Я.                                                   |A Galaxy Far Far Away...            |\n",
      "|Lexelle de Charmaine                                 |Singapore                           |\n",
      "|HninOo05                                             |Myanmar                             |\n",
      "|SGFirstAid                                           |Singapore                           |\n",
      "|Abu Zimal                                            |Central Region, Singapore           |\n",
      "|Daphne Maia                                          |Singapore                           |\n",
      "|bakchormeeboy                                        |London/Singapore                    |\n",
      "|Bambang Kajairi                                      |East Region, Singapore              |\n",
      "|cheguthamrin                                         |Find me if you can                  |\n",
      "|SSRAAM                                               |Singapore                           |\n",
      "|Cakeee                                               |Fucking Wonderland. Always          |\n",
      "|Hakim Isman                                          |Singapore                           |\n",
      "|nicole is working on herself                         |singapore                           |\n",
      "|TSwithsoulofABoy                                     |Singapore                           |\n",
      "|Meliana Chandra                                      |Somewhere underneath the sky        |\n",
      "|commonman                                            |Thannoothu                          |\n",
      "|H.L. Chan 院翰林                                     |Singapore and London                |\n",
      "|𝓼𝓱𝓪𝓻𝓪𝓱 🥀                                      |♡, 𝖆𝖍𝖙𝖔𝖕𝖕                     |\n",
      "|joel 🦋                                              |Singapore                           |\n",
      "|Md Amir                                              |Singapore                           |\n",
      "|mik                                                  |Singapore                           |\n",
      "|Wan Kyn                                              |Singapore                           |\n",
      "|Sathish Kumar                                        |Singapore                           |\n",
      "|David                                                |Singapore                           |\n",
      "|coachmaii.mira                                       |Muar, Johor                         |\n",
      "|Eye Luxe Singapore                                   |East Region, Singapore              |\n",
      "|vina melody                                          |Singapore                           |\n",
      "|Tan Chuan-Jin                                        |SINGAPORE                           |\n",
      "|aaronho                                              |SINGAPORE                           |\n",
      "|Minue.dreams_come_true                               |Singapore                           |\n",
      "|robsondesign                                         |singapore                           |\n",
      "|AL Pacino                                            |Singapore                           |\n",
      "|Yappep                                               |Singapore                           |\n",
      "|Sridath                                              |cinema                              |\n",
      "|𝑨𝒏𝒅𝒓𝒐 𝑪𝒉𝒂𝒗𝒆𝒛 #ATinSG                      |Singapore                           |\n",
      "|TuTu                                                 |Singapore                           |\n",
      "|ning                                                 |Singapore                           |\n",
      "|21stcenturysg                                        |Singapore                           |\n",
      "|SuperSonicSg                                         |Singapore                           |\n",
      "|Moana✨👑                                             |Inno Genga                          |\n",
      "|BKPPxPenguinsSG                                      |Singapore                           |\n",
      "|안안。อัน                                            |somewhere out there....             |\n",
      "|kelmer kor kor (your/father)                         |Singapore                           |\n",
      "|Heman Chong                                          |Singapore                           |\n",
      "|David Tan                                            |Singapore                           |\n",
      "|Soniya Kulkarni                                      |Singapore                           |\n",
      "|Hyewon Hwang                                         |Singapore                           |\n",
      "|Rayn Lim                                             |1.383687,103.898283                 |\n",
      "|@Harbejen                                            |singapore                           |\n",
      "|Ivan Shim 沈标明                                     |Warp 9.95                           |\n",
      "|2NE1 투애니원                                        |Singapore                           |\n",
      "|Joshua Wong                                          |Singapore                           |\n",
      "|Su Ling                                              |Singapore                           |\n",
      "|jin jie                                              |Singapore                           |\n",
      "|marco                                                |Singapore                           |\n",
      "|ann kok                                              |singapore                           |\n",
      "|Dalvinder Jeet Kaur                                  |Singapore/ heart in India 🇮🇳      |\n",
      "|CHAPINAS 💛                                          |johorean                            |\n",
      "|Hҽαɾƚ Sυɱαɳԃҽ                                        |Singapore                           |\n",
      "|𝙽𝚊𝚍𝚒𝚊                                           |Singapura                           |\n",
      "|BlessED_International 🕊️👼                          |Iloilo, Philippines                 |\n",
      "|czarin                                               |far from the madding crowd          |\n",
      "|Ikigai                                               |East Region, Singapore              |\n",
      "|reneé                                                |she/her | 22                        |\n",
      "|𝑳𝒂𝒖𝒈𝒉𝒊𝒏𝒈 𝑺𝒕𝒐𝒓𝒎                          |Costa Rica                          |\n",
      "|Ghazalee Ibrahim                                     |RSVR 470                            |\n",
      "|That - Wann                                          |Singapore                           |\n",
      "|Fash The Face                                        |Singapore                           |\n",
      "|Sense Hofstede                                       |Singapore                           |\n",
      "|Aethallin                                            |partout genre vraiment              |\n",
      "|PrinzLee 🇸🇬🇵🇭                                    |Central Region, Singapore           |\n",
      "|dandelioncouple loves yeaji ❤️👸                     |Singapore                           |\n",
      "|Joshua Matthew Ng                                    |Central Region, Singapore           |\n",
      "|MYAT SU LIN                                          |Singapore                           |\n",
      "|Kyle ⚡ Carrillo                                      |heywood, night city                 |\n",
      "|Geno Dela Torpe                                      |Panem                               |\n",
      "|Rèmo Siva™ 😎                                        |singapore                           |\n",
      "|Nur Hazirah                                          |Singapore                           |\n",
      "|ᴮᴱMercy 🐰⁷                                          |Singapore                           |\n",
      "|Hans Jacobs                                          |Singapore                           |\n",
      "|japanese borkjutsu                                   |Singapore                           |\n",
      "|Fireopal                                             |Singapore                           |\n",
      "|mob                                                  | Singapore                          |\n",
      "|Shavonne Wong                                        |Singapore                           |\n",
      "|Kairin                                               |Singapore                           |\n",
      "|Kiky Yoelanda Park                                   |Singapore                           |\n",
      "|Jim Davian Tan                                       |Singapore                           |\n",
      "|Defry Stalin                                         |Singapore                           |\n",
      "|Evil Tofu                                            |Singapore                           |\n",
      "|West Coast Represent                                 |Singapore                           |\n",
      "|dailydiecastsg                                       |Singapore                           |\n",
      "|💜 ⟭⟬ 카일리.W ⟬⟭ 💜 🧈 Melting ARMYs 💛 21st May👏🏻|Singapore                           |\n",
      "|𝓙𝓮𝓵𝓵𝔂𝓫𝓮𝓪𝓷 What❓palitaw                      |Singapore                           |\n",
      "|Sarah Cottle                                         |Singapore                           |\n",
      "|Vinit Nair                                           |Singapore                           |\n",
      "|Shuraim Basir                                        |Singapore                           |\n",
      "|b u n n i e                                          |Singapore                           |\n",
      "|Basil Yeo                                            |Bedok, Singapore                    |\n",
      "|Sithu Htun                                           |Singapore                           |\n",
      "|gladsssss                                            |Singapore                           |\n",
      "|Anne Law                                             |Singapore,  US / UK                 |\n",
      "|Emerson                                              |St. Louis, MO USA                   |\n",
      "|Chan Nguyen Vong                                     |Singapore                           |\n",
      "|syazani                                              |Singapore                           |\n",
      "|Fellowsheep.co                                       |singapore                           |\n",
      "|Fajar Siddiq 👨🏻‍💻🇸🇬🏝️                          |Singapore                           |\n",
      "|Jessie Ting                                          |Singapore                           |\n",
      "|🟣Shiyan Koh 🇸🇬🌈                                  |Singapore                           |\n",
      "|Zahar Sahbri                                         |Singapore                           |\n",
      "|Kris-T                                               |California, USA                     |\n",
      "|Ranajit Dam                                          |Singapore                           |\n",
      "|Krado Low                                            |Singapore                           |\n",
      "|ℂ𝕃𝔼𝕄𝔼ℕℂ𝕐                                        |Singapore                           |\n",
      "|BizarreDay                                           |Central Region, Singapore           |\n",
      "|M.Faris.N                                            |Singapore                           |\n",
      "|88 Euro Pets                                         |486 Macperson Road S368196          |\n",
      "|Muhd Burhan                                          |Rio de Janeiro, Brazil              |\n",
      "|Peter G Cuthbert                                     |Singapore                           |\n",
      "|♡Eve_Kujo♡                                           |Paris                               |\n",
      "|アズアン                                             |Valley of Despair Λ                 |\n",
      "|zerinsavage                                          |🇸🇬 Lion City                      |\n",
      "|siol air                                             |vah gyna                            |\n",
      "|LucyFirst 🐳                                         |Vancouver, British Columbia         |\n",
      "|Avetis Muradyan 🛠🚀🌐                               |Singapore                           |\n",
      "|Hardi Mohamed                                        |Singapore                           |\n",
      "|Sandra Jensen Landi                                  |Singapore                           |\n",
      "|uɐɯ ɔısnɯ | ɥoƃ lǝoɾ                                 |Bukit Panjang, Singapore            |\n",
      "|PrettyBoyBeats®                                      |Miami, FL                           |\n",
      "|SimplySiyaam                                         |South Africa 💃🏻 Singapore         |\n",
      "|yijunian 江毅俊                                      |Singapore                           |\n",
      "|The Beast                                            |Singapore                           |\n",
      "|Michael Gooch                                        |Singapore                           |\n",
      "|choonkeat                                            |Singapore                           |\n",
      "|Azirruan                                             |Singapore                           |\n",
      "|🐳                                                   |Singapore                           |\n",
      "|Wayne Kline                                          |Singapore                           |\n",
      "|ayιѕ                                                 |Singapore 🇸🇬                      |\n",
      "|suha                                                 |Pontian,                            |\n",
      "|Mezame | 🇸🇬 twitch.tv/mezametv                     |Singapore                           |\n",
      "|Insure人                                             |Singapore                           |\n",
      "|🌸🌸                                                 |Singapore                           |\n",
      "|Syaufe Harriz                                        |Malaysia 🇲🇾                       |\n",
      "|Michael Evan James Teo                               |Marymount, Singapore                |\n",
      "|Allen Jay Echalar                                    |Singapore                           |\n",
      "|Moe Pwint                                            |Central Region, Singapore           |\n",
      "|Benson Koh                                           |Singapore                           |\n",
      "|Chart Garfunkel                                      |Singapore                           |\n",
      "|𝐦𝐲𝐲𝐮 ◡̈                                          |+65 🇸🇬                            |\n",
      "|Samrat                                               |Singapore                           |\n",
      "|Chris Bell                                           |Singapore                           |\n",
      "|M. S. M. Saifullah                                   |Singapore                           |\n",
      "|Yu Mei Guei                                          |Singapore                           |\n",
      "|Fuyu ❄ Winter's Tales                                |Singapore                           |\n",
      "|ikmaal                                               |bedok camp                          |\n",
      "|Pheobe Tan                                           |Singapore                           |\n",
      "|Actor Kris Mavericko                                 |Singapore                           |\n",
      "|M ∆ F K ⚡️                                           |Singapore                           |\n",
      "|QuirkyJas                                            |Somewhere Down The Road             |\n",
      "|𝙽𝙸𝙺𝙾~𝙰𝙻𝙴𝚂𝚂𝙸𝙾                              |In the Ocean.                       |\n",
      "|iamalimarnathan                                      |Singapore                           |\n",
      "|12Alice Lee                                          |North Andover, MA                   |\n",
      "|Phocept                                              |Singapore                           |\n",
      "|PerusalSG                                            |Central Region, Singapore           |\n",
      "|👾                                                   |haney’s heart                       |\n",
      "|☆ Roxane U                                           |Singapore                           |\n",
      "|Nicole Poi                                           |Singapore                           |\n",
      "|Suresh SK                                            |Singapore                           |\n",
      "|N.                                                   |Singapore                           |\n",
      "|Weiye Lok                                            |Singapore                           |\n",
      "|Fakkah Fuzz                                          |Singapore                           |\n",
      "|jennië💋                                             |mariyun’s heart                     |\n",
      "|Luxe Society                                         |All across Asia                     |\n",
      "|Biddy                                                |Singapore                           |\n",
      "|Tam                                                  |Johore, Malaysia                    |\n",
      "|Sue Jaafar                                           |Singapore                           |\n",
      "|Andrew Baisley                                       |Singapore                           |\n",
      "|Gioia Fine Jewellery                                 |Singapore                           |\n",
      "|nora 🌻                                              |Iceland                             |\n",
      "|❥Deniseyღ                                            |Tiny Red Dot                        |\n",
      "|ethan men                                            |Singapore                           |\n",
      "|Khair Henna                                          |Singapore                           |\n",
      "|Amit Khandelwal                                      |East Region, Singapore              |\n",
      "|Skai Chan                                            |Singapore                           |\n",
      "|Lionel                                              |Singapore                           |\n",
      "|Syafake                                              |ig: syxfxk._                        |\n",
      "|Felicity Pepper West                                 |Singapore                           |\n",
      "|Muhammad Harith                                      |Singapore                           |\n",
      "|NITIN CHAWLA                                         |Mumbai                              |\n",
      "|Jonathan Roberts                                     |Singapore                           |\n",
      "|ℜ𝔢𝔲𝔟𝔢𝔯𝔫 𝔎𝔲𝔪𝔞𝔞𝔯                           |🇸🇬                                |\n",
      "|Surjit singh                                         |Central North East , Singapore      |\n",
      "|Wai Hnin Phyu                                        |France                              |\n",
      "|AdelineM❤️舞台王者王嘉尔⚡⚡                           |Singapore                           |\n",
      "|Brian O'Conner                                       |United Kingdom                      |\n",
      "|𝓘𝓻𝓪𝓪𝓪💋                                         |F. HxA .Q                           |\n",
      "|At the equator                                       |Singapore                           |\n",
      "|☀️ฬααήjαį ήįαrα⁷ ʆօvεş ℳG4عvعર³⁶🌻                   |singapore, singapore                |\n",
      "|Dave / Cultured Left Foot                            |Singapore                           |\n",
      "|Argus Metals                                         |Global (HQ in London)               |\n",
      "|ianlow32                                             |Bishan, Singapore                   |\n",
      "|tanhy                                                |Singapore                           |\n",
      "|Bernard Lim                                          |Singapore                           |\n",
      "|Alfred Yeo △⃒⃘                                       |In your fridge.                     |\n",
      "|shaì✨🦋                                              |Ahfie’s heart♡                      |\n",
      "|Rubee @🏠                                            |Singapore                           |\n",
      "|Shawn Chang - Your Personal Seacret Service          |The World                           |\n",
      "|42                                                   |West Region, Singapore              |\n",
      "|☀️ฬααήjαį ήįαrα⁷ ʆօvεş ℳG4عvعર³⁶🌻                   |singapore, singapore                |\n",
      "|Singapore Symphony                                   |Singapore                           |\n",
      "|「 フォンズ 」💞🔫                                   |Johor Bahru, Johor                  |\n",
      "|夜露死苦 {뇌한위}☝                                   |天界                                |\n",
      "|Michy                                                |Singapore                           |\n",
      "|sonya                                                |9908 Au℮                            |\n",
      "|ash                                                  |Singapore                           |\n",
      "|Carolbb                                              |Singapore                           |\n",
      "|Aaron Tay                                            |Singapore                           |\n",
      "|Seven Dollar Millionaire 💸💸💸💸💸💸💸              |Where We All Learn About Money      |\n",
      "|Steph-tusfaction                                     |East singapore                      |\n",
      "|the bendingone 🐉                                    |Singapore                           |\n",
      "|Nikita Rajani                                        |Singapore                           |\n",
      "|☆ Roxane U                                           |Singapore                           |\n",
      "|Melo; 멜로 ✨ 박우진 💕 AB6IX • 워너원 • 블락비       |Singapore                           |\n",
      "|Chart Garfunkel                                      |Singapore                           |\n",
      "|Muhammad Syanizam                                    |Singapore                           |\n",
      "|tangerine-gi🍊                                       |bangtansoneyondanshitforever        |\n",
      "|yours truly                                          |Singapore                           |\n",
      "|Manik🔔👀டன்                                         |India                               |\n",
      "|Colin Quek                                           |iPhone: 1.307380,103.884697         |\n",
      "|Ogawa 小川                                           |singapore                           |\n",
      "|We Make Them                                         |Kuala Lumpur                        |\n",
      "|Raja➑                                                |Singapore                           |\n",
      "|🌻                                                   |with the leprechauns 🍀             |\n",
      "|Muhammad Shauket                                     |Central Region, Singapore           |\n",
      "|ZH_Ray                                               |Omaha, NE                           |\n",
      "|Lela Bonchjela                                       |Singapore                           |\n",
      "|yanies14                                             |Singapura                           |\n",
      "|ℂ𝕃𝔼𝕄𝔼ℕℂ𝕐                                        |Singapore                           |\n",
      "|skullfuck℮r1312                                      |Alo℮  Gard℮n                        |\n",
      "|Sukanya Thalpati                                     |Singapore                           |\n",
      "|Louis beuzelin ™️                                    |Singapore                           |\n",
      "|† 𝓡𝓸𝓶𝓪𝓷 𝓙𝓪𝓶𝓮𝓼                              |Singapore                           |\n",
      "|Cassie Ong                                           |Singapore                           |\n",
      "|Gregory Leow                                         |singapore                           |\n",
      "|Don De Alban                                         |Singapore                           |\n",
      "|Elite Joreen                                         |Elite Minority in シンガポール      |\n",
      "|rishabh 🤖                                           |TPU Pod                             |\n",
      "|Verge Gamotan                                        |Singapore                           |\n",
      "|Jimmy Tan                                            |Singapore                           |\n",
      "|🌸EMIKO FRANCOIS YVES🌸张馷玪🌸                      |Singapore🇸🇬                       |\n",
      "|Yin Thu Tun                                          |Singapore                           |\n",
      "|Bambang Kajairi                                      |East Region, Singapore              |\n",
      "|Muh.Imam Riady (Em')                                 |Ujungpandang                        |\n",
      "|BlessED_International 🕊️👼                          |Iloilo, Philippines                 |\n",
      "|Gineesh                                              |Singapore                           |\n",
      "|Execell 👓                                           |Singapore                           |\n",
      "|sel                                                  |Singapore                           |\n",
      "|Super Zam                                            |Muar Johor Malaysia                 |\n",
      "|코야 누나 ⁷~ Life Goes On*                           |Persona                             |\n",
      "|Thaint Henny.T                                       |Singapore                           |\n",
      "|MessyGal                                             |Singapore                           |\n",
      "|CF Chai                                              |Singapore                           |\n",
      "|InYourDreaM                                          |Johore, Malaysia                    |\n",
      "|Noc Vvyne Lim                                        |Singapore                           |\n",
      "|R K MUKHERJEE                                        |Singapore                           |\n",
      "|jin jie                                              |Singapore                           |\n",
      "|Mia Christina                                        |Singapore                           |\n",
      "|siol air                                             |vah gyna                            |\n",
      "|Max Chew                                             |Singapore                           |\n",
      "|ankkusopp.                                           |Singapore                           |\n",
      "|Jessie Ting                                          |Singapore                           |\n",
      "|Misaki                                               |United Kingdom                      |\n",
      "|Claudine                                             |Singapore                           |\n",
      "|ℍ𝕖𝕝𝕞𝕚                                            |Central Region, Singapore           |\n",
      "|Stanley Lai                                          |Singapore                           |\n",
      "|Raymond Thomas                                       |Singapore                           |\n",
      "|QuirkyJas                                            |Somewhere Down The Road             |\n",
      "|UIB                                                  |Singapore                           |\n",
      "|Sithu Htun                                           |Singapore                           |\n",
      "|Haziq Yusoff                                         |Singapore                           |\n",
      "|KTZ                                                  |United Sates                        |\n",
      "|Don ♏anarin Ⓜapanao                                  |Singapore                           |\n",
      "|hadi hamid                                           |johor bahru,MALAYSIA                |\n",
      "|H.L. Chan 院翰林                                     |Singapore and London                |\n",
      "|Winnie                                               |Myanmar                             |\n",
      "|안안。อัน                                            |somewhere out there....             |\n",
      "|Pantheon Percussion                                  |Singapore                           |\n",
      "|blast                                                |Singapore                           |\n",
      "|Keyell Jeyespi                                       |Somewhere in Neverland              |\n",
      "|SunnyKhoo                                            |Planet Earth                        |\n",
      "|J ♔                                                  |+65 cafe •                          |\n",
      "|Hans Jacobs                                          |Singapore                           |\n",
      "|JoannaLHS                                            |Singapore                           |\n",
      "|Esthreeeeee                                          |Singapore                           |\n",
      "|Himanshu Upreti                                      |Singapore                           |\n",
      "|Khine Gyi                                            |Singapore                           |\n",
      "|Adli Izzuddin                                        |Singapore                           |\n",
      "|TSwithsoulofABoy                                     |Singapore                           |\n",
      "|Info Bintaro                                         |Tangerang - Banten                  |\n",
      "|Ⓝⓘⓩⓐⓜ_Ⓗⓘⓖⓗⓑⓤⓡⓨ                                       |Singapore                           |\n",
      "|KA$H’D                                               |Singapore                           |\n",
      "|Haja R                                               |Singapore                           |\n",
      "|kelmer kor kor (your/father)                         |Singapore                           |\n",
      "|AHS                                                  |Johor Bahru Johor Malaysia          |\n",
      "|Wave                                                 |canada                              |\n",
      "|iEda.Esa                                             |🇸🇬                                |\n",
      "|Venj Valdez                                          |Makati City, National Capital Region|\n",
      "|Tony Tee                                             |Singapore                           |\n",
      "|ianlow32                                             |Bishan, Singapore                   |\n",
      "|Wong Mun Chong                                       |Singapore                           |\n",
      "|Albert Lee                                           |Singapore                           |\n",
      "|Michael S Chia                                       |Singapore                           |\n",
      "|Anne Lenon                                           |Singapore                           |\n",
      "|Adam                                                 |London & Singapore                  |\n",
      "|Farna Mahadi                                         |Singapore!                          |\n",
      "|MᏒ GᏒꂅᎩ                                             |New South Wales, Australia          |\n",
      "|Fellowsheep.co                                       |singapore                           |\n",
      "|CD                                                   |London, England                     |\n",
      "|白镇瑋                                               |Singapore, Hougang New Town         |\n",
      "|Firdiana_R                                           |シンガポール                        |\n",
      "|Telli💜Moni⁷                                         |Singapore                           |\n",
      "|DAMaso                                               |West Region, Singapore              |\n",
      "|Bernie Long                                          |Singapore                           |\n",
      "|Herman 🎱                                            |Singapore 🇸🇬                      |\n",
      "|Durwin                                               |Singapore                           |\n",
      "|Zt Yeollie                                           |Singapore                           |\n",
      "|sera 🏁                                              |sg 🇸🇬                             |\n",
      "|Fad.                                                 |Singapore                           |\n",
      "|Kairin                                               |Singapore                           |\n",
      "|Lra                                                  |Aljunied GRC, Singapore             |\n",
      "|ex-grimes stan 🕳🤸🏻‍♀️                             |Singapore                           |\n",
      "|Kyle ⚡ Carrillo                                      |heywood, night city                 |\n",
      "|Zfy Ed                                               |SG                                  |\n",
      "|Shuraim Basir                                        |Singapore                           |\n",
      "|Darren J. McDermott                                  |Singapore                           |\n",
      "|NaTee ᥫᩣ                                             |Singapore                           |\n",
      "|Rèmo Siva™ 😎                                        |singapore                           |\n",
      "|Brian Slattery                                       |Singapore                           |\n",
      "|Finechord Music Singapore                            |Singapore                           |\n",
      "|VEOMaximalist (KZ)                                   |Lamboland                           |\n",
      "|Aman                                                 |Singapore                           |\n",
      "|𝐊𝐫𝐚𝐧𝐣𝐢 𝐑𝐚𝐜𝐢𝐧𝐠 𝐓𝐕 🇸🇬                  |1 Turf Club Ave, Singapore          |\n",
      "|Wayne Kline                                          |Singapore                           |\n",
      "|Mowgli Mecha                                         |Singapore                           |\n",
      "|쪼율 꾸랑해🌸                                        |싱가포르 // IZ*ONE                  |\n",
      "|Anatomy of a Fighter                                 |Las Vegas, NV                       |\n",
      "|ℜ𝔢𝔲𝔟𝔢𝔯𝔫 𝔎𝔲𝔪𝔞𝔞𝔯                           |🇸🇬                                |\n",
      "|Nicole Poi                                           |Singapore                           |\n",
      "|THE BLACK BRIGADES                                   |Singapore                           |\n",
      "|Paul Sydney Orozco 🇵🇭                              |Singapore                           |\n",
      "|GalliaCrusader (Grind Continues) 🇸🇬 ¯\\_(ツ)_/¯     |Singapore                           |\n",
      "|𝕃𝕚𝕫 𝔻𝕦𝕣𝕜𝕚𝕟 💡                               |Singapore                           |\n",
      "|𝑨𝒏𝒅𝒓𝒐 𝑪𝒉𝒂𝒗𝒆𝒛 #ATinSG                      |Singapore                           |\n",
      "|Soniya Kulkarni                                      |Singapore                           |\n",
      "|reneé                                                |she/her | 22                        |\n",
      "|Michael Evan James Teo                               |Marymount, Singapore                |\n",
      "|Ahmad Nazri Mohamed Naim                             |Singapore                           |\n",
      "|Taz Mouna                                            |Hong Kong                           |\n",
      "|Kelvin Lee                                           |Pasir Ris, Singapore                |\n",
      "|𝔾ℝ𝕒ℂ𝔼𝔾                                           |West Region, Singapore              |\n",
      "|J 'sper                                              |🇸🇬                                |\n",
      "|Nur’Ain                                              |Singapore                           |\n",
      "|wawww 씅씅                                           |he/him                              |\n",
      "|♥ MΣRCY SOH ♥                                        |Singapore                           |\n",
      "|win latt kyi phyu                                    |Germany                             |\n",
      "|J ✨                                                  |Jae's Hearteu                       |\n",
      "|Alone_pathfinder                                     |Singapore                           |\n",
      "|𝐈𝐭𝐚𝐜𝐡𝐢 𝐔𝐜𝐡𝐢𝐡𝐚                            |Laugh tale                          |\n",
      "|Tom Kraabel                                          |Singapore                           |\n",
      "|Carpe Diem                                           |Singapore                           |\n",
      "|ainrast                                              |Raub, Pahang                        |\n",
      "|Ronan Mitchell                                       |Hong Kong                           |\n",
      "|خير النساء                                           |Singapore                           |\n",
      "|Kevon                                                |Singapore                           |\n",
      "|Rishabh Mukherjee                                    |Singapore                           |\n",
      "|✨GemStarr                                            |Singapore                           |\n",
      "|jennië💋                                             |mariyun’s heart                     |\n",
      "|shar francisco 🥐                                    |Beverly Hills, CA                   |\n",
      "|RyanGBW☄️🍭【ＲＧＢＷ】                              |West Region, Singapore              |\n",
      "|Palate Sensations                                    |Singapore                           |\n",
      "|Himanshu Upadhyay                                    |Singapore                           |\n",
      "|weeteck🌈                                            |Singapore                           |\n",
      "|Staffan Stewart                                      |singapore                           |\n",
      "|mik                                                  |Singapore                           |\n",
      "|M.Faris.N                                            |Singapore                           |\n",
      "|celest                                               |Singapore                           |\n",
      "|Caleb                                                |Sing--singgg--singapura             |\n",
      "|Sects.Shop                                           |Singapore                           |\n",
      "|Nur Aqilah                                           |Singapore                           |\n",
      "|CocoYass_SG2                                         |Singapore                           |\n",
      "|Nana Karia                                           |Singapore                           |\n",
      "|Sanyu Hesselink                                      |Singapore                           |\n",
      "|Christopher Ellis 🇸🇬🇺🇸                           |Singapore                           |\n",
      "|DINGO pool - ADA | Cardano                           |Singapore                           |\n",
      "|⛩ 𝓹𝓲𝓪𝓷 ⛩                                         |hell                                |\n",
      "|Sridath                                              |cinema                              |\n",
      "|Sathish Eric                                         |Singapore                           |\n",
      "|Sebastian Wieseler                                   |Singapore                           |\n",
      "|JaiAdnan                                             |Singapore                           |\n",
      "|Bhogala Narasimha reddy                              |Singapore                           |\n",
      "|Bryan Ma                                             |Singapore                           |\n",
      "|S MFN Shyuhaila ∞                                    |Singapore                           |\n",
      "|Sandra Jensen Landi                                  |Singapore                           |\n",
      "|peter hone                                           |Singapore                           |\n",
      "|Horizon                                              |Singapore                           |\n",
      "|Hardi Mohamed                                        |Singapore                           |\n",
      "|MR©BELIEVER™                                         |Singapore                           |\n",
      "|Jeremy                                               |Singapore                           |\n",
      "|☙🦄🎀🐩💟Royal Princess Eera Nasriah💟🐩🎀🦄☙        |SengKang, Singapore                 |\n",
      "|AdelineM❤️舞台王者王嘉尔⚡⚡                           |Singapore                           |\n",
      "|rcov                                                 |ÜT: 7.821483,98.302159              |\n",
      "|pj30                                                 |Singapore                           |\n",
      "|Tajuddin Shahin                                      |Bangladesh                          |\n",
      "|Kate Riley                                           |Singapore                           |\n",
      "|Nags                                                 |Singapore                           |\n",
      "|Tara                                                 |Singapore                           |\n",
      "|Jepoi's Adventure                                    |Singapore                           |\n",
      "|meet me behind the mall                              |Lost in translation                 |\n",
      "|Anj Cerbolles                                        |Singapore                           |\n",
      "|Fakkah Fuzz                                          |Singapore                           |\n",
      "|M_Naung                                              |Singapore                           |\n",
      "|Nicole Ooi                                           |Admiralty Link                      |\n",
      "|Mengwee Tan                                          |Singapore                           |\n",
      "|Anand Roy                                            |State Of Bewilderment               |\n",
      "|marlpnjasvori                                        |0065•0091                           |\n",
      "|Benjamin \"Mr Miyagi\" Lee                             |Singapore                           |\n",
      "|Kai Hendry                                           |Singapore                           |\n",
      "|Spli+shifts                                          |Singapore                           |\n",
      "|Adela                                                |Singapore                           |\n",
      "|ᴮᴱMercy 🐰⁷                                          |Singapore                           |\n",
      "|marco                                                |Singapore                           |\n",
      "|Daniel Montenegro                                    |Sydney, Australia                   |\n",
      "|West Coast Represent                                 |Singapore                           |\n",
      "|VEOMaximalist (KZ)                                   |Lamboland                           |\n",
      "|zerinsavage                                          |🇸🇬 Lion City                      |\n",
      "|Aezri                                                |In your heart                       |\n",
      "|Jocelyn                                              |神戸                                |\n",
      "|ikben_hier                                           |Central Region, Singapore           |\n",
      "|BizarreDay                                           |Central Region, Singapore           |\n",
      "|nicole is working on herself                         |singapore                           |\n",
      "|Taz                                                  |East Region, Singapore              |\n",
      "|𝙽𝙸𝙺𝙾~𝙰𝙻𝙴𝚂𝚂𝙸𝙾                              |In the Ocean.                       |\n",
      "|Haja R                                               |Singapore                           |\n",
      "|Ivy Ivz                                              |Singapore                           |\n",
      "|mob                                                  | Singapore                          |\n",
      "|BlessED_International 🕊️👼                          |Iloilo, Philippines                 |\n",
      "|𝐈𝐭𝐚𝐜𝐡𝐢 𝐔𝐜𝐡𝐢𝐡𝐚                            |Laugh tale                          |\n",
      "|N.✩⋆                                                 |Singapore                           |\n",
      "|Wan Kyn                                              |Singapore                           |\n",
      "|M.Faris.N                                            |Singapore                           |\n",
      "|Durwin                                               |Singapore                           |\n",
      "|Arina Lisa Eriyn                                     |Singapore                           |\n",
      "|Yongsuk Hur                                          |Singapore                           |\n",
      "|Vivian Claire Liew                                   |Singapore                           |\n",
      "|Yaleep                                               |Selangor, Malaysia                  |\n",
      "|Melos                                                |Singapore                           |\n",
      "|chaos                                                |Jurong West, Singapore              |\n",
      "|Natalie Ann❤️                                        |Singapore                           |\n",
      "|Fabian                                               |Singapore                           |\n",
      "|GRAY®                                                |🛸🪐                                |\n",
      "|Man On A Moon                                        |Singapore                           |\n",
      "|Froilan De Leon                                      |Taytay, Rizal Philippines           |\n",
      "|Qiwi                                                 |Singapore                           |\n",
      "|Debby Ng                                             |Singapore                           |\n",
      "|Serene Ho                                            |Singapore                           |\n",
      "|huncho ❄️                                            |OVO                                 |\n",
      "|Sense Hofstede                                       |Singapore                           |\n",
      "|Chart Garfunkel                                      |Singapore                           |\n",
      "|Aishah                                               |Singapore                           |\n",
      "|Silver Colored Lens                                  |Singapore                           |\n",
      "|shyhjih                                              |Singapore                           |\n",
      "|Set Thiha Tun                                        |Singapore                           |\n",
      "|Michelle Teo                                         |Singapore                           |\n",
      "|weeteck🌈                                            |Singapore                           |\n",
      "|Fakkah Fuzz                                          |Singapore                           |\n",
      "|Aman                                                 |Singapore                           |\n",
      "|Peace Japanese Cuisine                               |Singapore                           |\n",
      "|TSwithsoulofABoy                                     |Singapore                           |\n",
      "|Farna Mahadi                                         |Singapore!                          |\n",
      "|Salem                                                |East Region, Singapore              |\n",
      "|Joshua Matthew Ng                                    |Central Region, Singapore           |\n",
      "|𝑨𝒏𝒅𝒓𝒐 𝑪𝒉𝒂𝒗𝒆𝒛 #ATinSG                      |Singapore                           |\n",
      "|Taz Mouna                                            |Hong Kong                           |\n",
      "|Eng. Luca Bucchianica 💯                             |Singapore                           |\n",
      "|🌙                                                   |West Region, Singapore              |\n",
      "|master chief’s girl                                  |Honeymoon Ave.                      |\n",
      "|AHS                                                  |Johor Bahru Johor Malaysia          |\n",
      "|ZH_Ray                                               |Omaha, NE                           |\n",
      "|Tan Heng Guan                                        |Singapore                           |\n",
      "|Chris Timms                                          |Singapore                           |\n",
      "|Cécile Correa // author                              |Singapore                           |\n",
      "|alienantz_                                           |Singapore                           |\n",
      "|Maria                                                |my throne 👸🏻                      |\n",
      "|ianlow32                                             |Bishan, Singapore                   |\n",
      "|omg did i just                                       |Singapore                           |\n",
      "|AlternateUniverseSG                                  |Singapore                           |\n",
      "|Collin Quek                                          |Singapore                           |\n",
      "|Jacob Puthenparambil                                 |Singapore                           |\n",
      "|czarin                                               |far from the madding crowd          |\n",
      "|☀️ฬααήjαį ήįαrα⁷ ʆօvεş ℳG4عvعર³⁶🌻                   |singapore, singapore                |\n",
      "+-----------------------------------------------------+------------------------------------+\n",
      "only showing top 500 rows\n",
      "\n"
     ]
    }
   ],
   "source": [
    "# show the user with user location\n",
    "spark.sql(\"SELECT users_name,users_location FROM df_data where users_location is not null\").show(500,False)"
   ]
  },
  {
   "cell_type": "markdown",
   "metadata": {},
   "source": [
    "## 3. Modelling"
   ]
  },
  {
   "cell_type": "code",
   "execution_count": 46,
   "metadata": {},
   "outputs": [],
   "source": [
    "from pyspark.ml.clustering import LDA\n",
    "from pyspark.ml.feature import RegexTokenizer, StopWordsRemover, CountVectorizer\n",
    "from gensim.models import LsiModel"
   ]
  },
  {
   "cell_type": "code",
   "execution_count": 47,
   "metadata": {},
   "outputs": [],
   "source": [
    "# get the tweet text \n",
    "raw_tweets = data_df.select('id','created_at','text')"
   ]
  },
  {
   "cell_type": "code",
   "execution_count": 48,
   "metadata": {},
   "outputs": [
    {
     "name": "stdout",
     "output_type": "stream",
     "text": [
      "+-------------------+------------------------+----------------------------------------------------------------------------------------------------------------------------------------------------------------------------------------------------------------------------------------------------------------------------------------------+\n",
      "|id                 |created_at              |text                                                                                                                                                                                                                                                                                          |\n",
      "+-------------------+------------------------+----------------------------------------------------------------------------------------------------------------------------------------------------------------------------------------------------------------------------------------------------------------------------------------------+\n",
      "|1384064534600507392|2021-04-19T08:41:14.000Z|@hhjflrts im sorry if i come out as ignorant, but what's happening?\n",
      "Is it about the asian hate?                                                                                                                                                                                               |\n",
      "|1384064515759693830|2021-04-19T08:41:09.000Z|@yogezlor By now you should know there is a fan base for your artwork. Time to revive the damn IG gurrrrlll!!                                                                                                                                                                                 |\n",
      "|1384064394011709446|2021-04-19T08:40:40.000Z|Forgot about the wire 🤣 (@ Tampines West MRT Station (DT31) - @sbstransit_ltd in Tampines, Singapore) https://t.co/UydN3dSCB2                                                                                                                                                                |\n",
      "|1384064393017626635|2021-04-19T08:40:40.000Z|Massive protesters from London protesting against military dictatorship and calling out @UN to take immediate actions for Myanmar.\n",
      "#WhatsHappeningInMyanmar \n",
      "#Apr19Coup \n",
      "#R2PNow\n",
      "#WeSupportNUG https://t.co/m7CRpnoLH9                                                                        |\n",
      "|1384063860852678657|2021-04-19T08:38:33.000Z|Just posted a photo @ Singapore First Aid Training Centre Pte Ltd https://t.co/NrynWT323f                                                                                                                                                                                                     |\n",
      "|1384063582938140673|2021-04-19T08:37:27.000Z|@Ibraheema_Ykb Ok. Times have gone by. There used to a hanged board on display close to mango trees while approaching Jatau bridge displaying daily motivational quotes + count down to exams and when the exams starts days remaining to end of semester, I hope the tradition is still kept.|\n",
      "|1384063508652851200|2021-04-19T08:37:09.000Z|@mintea AND KIDS. Who don't dare to voice out. Omg                                                                                                                                                                                                                                            |\n",
      "|1384063029076127747|2021-04-19T08:35:15.000Z|Just posted a photo @ Singapore https://t.co/wj0O49Ij6e                                                                                                                                                                                                                                       |\n",
      "|1384062369492389892|2021-04-19T08:32:38.000Z|@SheaSonia I am so heartbroken hearing about this tragic incident. I remember the memories you shared of Buncit.                                                                                                                                                                              |\n",
      "|1384062319781502977|2021-04-19T08:32:26.000Z|In MyinGyan, terrorists raided \"NgweZinYaw\" store and looted snacks in No(6) ward. These military thugs are robbing civillians' properties with the help of weapons.\n",
      "\n",
      "#Apr19Coup\n",
      "#CrimesAgainstHumanity\n",
      "#WhatsHappeningInMyanmar https://t.co/ndDt3McB2s                                      |\n",
      "+-------------------+------------------------+----------------------------------------------------------------------------------------------------------------------------------------------------------------------------------------------------------------------------------------------------------------------------------------------+\n",
      "only showing top 10 rows\n",
      "\n"
     ]
    }
   ],
   "source": [
    "# show the first 10 records\n",
    "raw_tweets.show(10,False)"
   ]
  },
  {
   "cell_type": "code",
   "execution_count": 49,
   "metadata": {},
   "outputs": [
    {
     "name": "stdout",
     "output_type": "stream",
     "text": [
      "root\n",
      " |-- id: string (nullable = true)\n",
      " |-- created_at: string (nullable = true)\n",
      " |-- text: string (nullable = true)\n",
      "\n"
     ]
    }
   ],
   "source": [
    "# the schema for raw tweets\n",
    "raw_tweets.printSchema()"
   ]
  },
  {
   "cell_type": "markdown",
   "metadata": {},
   "source": [
    "### 3.1 Prepocess"
   ]
  },
  {
   "cell_type": "code",
   "execution_count": 50,
   "metadata": {},
   "outputs": [],
   "source": [
    "# Preprocess steps\n",
    "import re\n",
    "from pyspark.sql.functions import udf\n",
    "from pyspark.sql.functions import to_timestamp\n",
    "import pyspark.sql.types as T"
   ]
  },
  {
   "cell_type": "code",
   "execution_count": 51,
   "metadata": {},
   "outputs": [],
   "source": [
    "# convert create_at column to date\n",
    "raw_tweets=raw_tweets.withColumn(\"created_date\", raw_tweets['created_at'].cast(T.DateType()))"
   ]
  },
  {
   "cell_type": "code",
   "execution_count": 52,
   "metadata": {},
   "outputs": [],
   "source": [
    "# process text column\n",
    "my_punctuation = '!\"$%&\\'()*+,-./:;<=>?[\\\\]^_`{|}~•@â'\n",
    "def remove_links(tweet):\n",
    "    tweet = re.sub(r'http\\S+', '', tweet) \n",
    "    tweet = re.sub(r'bit.ly/\\S+', '', tweet) \n",
    "    tweet = tweet.strip('[link]') \n",
    "    return tweet\n",
    "def remove_users(tweet):\n",
    "    tweet = re.sub('(RT\\s@[A-Za-z]+[A-Za-z0-9-_]+)', '', tweet) \n",
    "    tweet = re.sub('(@[A-Za-z]+[A-Za-z0-9-_]+)', '', tweet) \n",
    "    return tweet\n",
    "def remove_punctuation(tweet):\n",
    "    tweet = re.sub('['+my_punctuation + ']+', ' ', tweet) \n",
    "    return tweet\n",
    "def remove_number(tweet):\n",
    "    tweet = re.sub('([0-9]+)', '', tweet) \n",
    "    return tweet\n",
    "def remove_hashtag(tweet):\n",
    "    tweet = re.sub('(#[A-Za-z]+[A-Za-z0-9-_]+)', '', tweet) \n",
    "    return tweet"
   ]
  },
  {
   "cell_type": "code",
   "execution_count": 53,
   "metadata": {},
   "outputs": [],
   "source": [
    "# register user define function\n",
    "remove_links=udf(remove_links)\n",
    "remove_users=udf(remove_users)\n",
    "remove_punctuation=udf(remove_punctuation)\n",
    "remove_number=udf(remove_number)\n",
    "remove_hashtag=udf(remove_hashtag)"
   ]
  },
  {
   "cell_type": "code",
   "execution_count": 54,
   "metadata": {},
   "outputs": [],
   "source": [
    "raw_tweets=raw_tweets.withColumn('processed_text', remove_links(raw_tweets['text']))"
   ]
  },
  {
   "cell_type": "code",
   "execution_count": 55,
   "metadata": {},
   "outputs": [],
   "source": [
    "raw_tweets=raw_tweets.withColumn('processed_text', remove_users(raw_tweets['processed_text']))"
   ]
  },
  {
   "cell_type": "code",
   "execution_count": 56,
   "metadata": {},
   "outputs": [],
   "source": [
    "raw_tweets=raw_tweets.withColumn('processed_text', remove_punctuation(raw_tweets['processed_text']))"
   ]
  },
  {
   "cell_type": "code",
   "execution_count": 57,
   "metadata": {},
   "outputs": [],
   "source": [
    "raw_tweets=raw_tweets.withColumn('processed_text', remove_number(raw_tweets['processed_text']))"
   ]
  },
  {
   "cell_type": "code",
   "execution_count": 58,
   "metadata": {},
   "outputs": [],
   "source": [
    "raw_tweets=raw_tweets.withColumn('processed_text', remove_hashtag(raw_tweets['processed_text']))"
   ]
  },
  {
   "cell_type": "code",
   "execution_count": 59,
   "metadata": {},
   "outputs": [
    {
     "name": "stdout",
     "output_type": "stream",
     "text": [
      "+-------------------+--------------------+--------------------+------------+--------------------+\n",
      "|                 id|          created_at|                text|created_date|      processed_text|\n",
      "+-------------------+--------------------+--------------------+------------+--------------------+\n",
      "|1384064534600507392|2021-04-19T08:41:...|@hhjflrts im sorr...|  2021-04-19| im sorry if i co...|\n",
      "|1384064515759693830|2021-04-19T08:41:...|@yogezlor By now ...|  2021-04-19| By now you shoul...|\n",
      "|1384064394011709446|2021-04-19T08:40:...|Forgot about the ...|  2021-04-19|Forgot about the ...|\n",
      "|1384064393017626635|2021-04-19T08:40:...|Massive protester...|  2021-04-19|Massive protester...|\n",
      "|1384063860852678657|2021-04-19T08:38:...|Just posted a pho...|  2021-04-19|Just posted a pho...|\n",
      "|1384063582938140673|2021-04-19T08:37:...|@Ibraheema_Ykb Ok...|  2021-04-19| Ok  Times have g...|\n",
      "|1384063508652851200|2021-04-19T08:37:...|@mintea AND KIDS....|  2021-04-19| AND KIDS  Who do...|\n",
      "|1384063029076127747|2021-04-19T08:35:...|Just posted a pho...|  2021-04-19|Just posted a pho...|\n",
      "|1384062369492389892|2021-04-19T08:32:...|@SheaSonia I am s...|  2021-04-19| I am so heartbro...|\n",
      "|1384062319781502977|2021-04-19T08:32:...|In MyinGyan, terr...|  2021-04-19|In MyinGyan  terr...|\n",
      "+-------------------+--------------------+--------------------+------------+--------------------+\n",
      "only showing top 10 rows\n",
      "\n"
     ]
    }
   ],
   "source": [
    "# show the data before and after pocessed\n",
    "raw_tweets.show(10)"
   ]
  },
  {
   "cell_type": "code",
   "execution_count": 60,
   "metadata": {},
   "outputs": [
    {
     "name": "stdout",
     "output_type": "stream",
     "text": [
      "+----------------------------------------------------------------------------------------------------------------------------------------------------------------------------------------------------------------------------------------------------------------------------------------------+--------------------------------------------------------------------------------------------------------------------------------------------------------------------------------------------------------------------------------------------------------------------------------+\n",
      "|text                                                                                                                                                                                                                                                                                          |processed_text                                                                                                                                                                                                                                                                  |\n",
      "+----------------------------------------------------------------------------------------------------------------------------------------------------------------------------------------------------------------------------------------------------------------------------------------------+--------------------------------------------------------------------------------------------------------------------------------------------------------------------------------------------------------------------------------------------------------------------------------+\n",
      "|@hhjflrts im sorry if i come out as ignorant, but what's happening?\n",
      "Is it about the asian hate?                                                                                                                                                                                               | im sorry if i come out as ignorant  but what s happening \n",
      "Is it about the asian hate                                                                                                                                                                                           |\n",
      "|@yogezlor By now you should know there is a fan base for your artwork. Time to revive the damn IG gurrrrlll!!                                                                                                                                                                                 | By now you should know there is a fan base for your artwork  Time to revive the damn IG gurrrrlll                                                                                                                                                                              |\n",
      "|Forgot about the wire 🤣 (@ Tampines West MRT Station (DT31) - @sbstransit_ltd in Tampines, Singapore) https://t.co/UydN3dSCB2                                                                                                                                                                |Forgot about the wire 🤣   Tampines West MRT Station  DT     in Tampines  Singapore                                                                                                                                                                                             |\n",
      "|Massive protesters from London protesting against military dictatorship and calling out @UN to take immediate actions for Myanmar.\n",
      "#WhatsHappeningInMyanmar \n",
      "#Apr19Coup \n",
      "#R2PNow\n",
      "#WeSupportNUG https://t.co/m7CRpnoLH9                                                                        |Massive protesters from London protesting against military dictatorship and calling out  to take immediate actions for Myanmar \n",
      " \n",
      " \n",
      "\n",
      "                                                                                                                                           |\n",
      "|Just posted a photo @ Singapore First Aid Training Centre Pte Ltd https://t.co/NrynWT323f                                                                                                                                                                                                     |Just posted a photo   Singapore First Aid Training Centre Pte Ltd                                                                                                                                                                                                               |\n",
      "|@Ibraheema_Ykb Ok. Times have gone by. There used to a hanged board on display close to mango trees while approaching Jatau bridge displaying daily motivational quotes + count down to exams and when the exams starts days remaining to end of semester, I hope the tradition is still kept.| Ok  Times have gone by  There used to a hanged board on display close to mango trees while approaching Jatau bridge displaying daily motivational quotes   count down to exams and when the exams starts days remaining to end of semester  I hope the tradition is still kept |\n",
      "|@mintea AND KIDS. Who don't dare to voice out. Omg                                                                                                                                                                                                                                            | AND KIDS  Who don t dare to voice out  Omg                                                                                                                                                                                                                                     |\n",
      "|Just posted a photo @ Singapore https://t.co/wj0O49Ij6e                                                                                                                                                                                                                                       |Just posted a photo   Singapore                                                                                                                                                                                                                                                 |\n",
      "|@SheaSonia I am so heartbroken hearing about this tragic incident. I remember the memories you shared of Buncit.                                                                                                                                                                              | I am so heartbroken hearing about this tragic incident  I remember the memories you shared of Buncit                                                                                                                                                                           |\n",
      "|In MyinGyan, terrorists raided \"NgweZinYaw\" store and looted snacks in No(6) ward. These military thugs are robbing civillians' properties with the help of weapons.\n",
      "\n",
      "#Apr19Coup\n",
      "#CrimesAgainstHumanity\n",
      "#WhatsHappeningInMyanmar https://t.co/ndDt3McB2s                                      |In MyinGyan  terrorists raided  NgweZinYaw  store and looted snacks in No   ward  These military thugs are robbing civillians  properties with the help of weapons \n",
      "\n",
      "\n",
      "\n",
      "                                                                                                         |\n",
      "+----------------------------------------------------------------------------------------------------------------------------------------------------------------------------------------------------------------------------------------------------------------------------------------------+--------------------------------------------------------------------------------------------------------------------------------------------------------------------------------------------------------------------------------------------------------------------------------+\n",
      "only showing top 10 rows\n",
      "\n"
     ]
    }
   ],
   "source": [
    "raw_tweets.select('text','processed_text').show(10,False)"
   ]
  },
  {
   "cell_type": "code",
   "execution_count": 61,
   "metadata": {},
   "outputs": [],
   "source": [
    "# Create a tokenizer that Filter away tokens with length < 3, and get rid of symbols like $,#,...\n",
    "tokenizer = RegexTokenizer().setPattern(\"[\\\\W_]+\").setMinTokenLength(3).setInputCol(\"processed_text\").setOutputCol(\"tokens\")"
   ]
  },
  {
   "cell_type": "code",
   "execution_count": 62,
   "metadata": {},
   "outputs": [],
   "source": [
    "#tokenizer = RegexTokenizer().setPattern(\"^[a-zA-Z]+\\\\b\").setMinTokenLength(3).setInputCol(\"text\").setOutputCol(\"tokens\")"
   ]
  },
  {
   "cell_type": "code",
   "execution_count": 63,
   "metadata": {},
   "outputs": [],
   "source": [
    "# Tokenize tweets\n",
    "tokenized_tweets = tokenizer.transform(raw_tweets)"
   ]
  },
  {
   "cell_type": "code",
   "execution_count": 64,
   "metadata": {
    "scrolled": false
   },
   "outputs": [
    {
     "name": "stdout",
     "output_type": "stream",
     "text": [
      "+--------------------+--------------------+--------------------+\n",
      "|                text|      processed_text|              tokens|\n",
      "+--------------------+--------------------+--------------------+\n",
      "|@hhjflrts im sorr...| im sorry if i co...|[sorry, come, out...|\n",
      "|@yogezlor By now ...| By now you shoul...|[now, you, should...|\n",
      "|Forgot about the ...|Forgot about the ...|[forgot, about, t...|\n",
      "|Massive protester...|Massive protester...|[massive, protest...|\n",
      "|Just posted a pho...|Just posted a pho...|[just, posted, ph...|\n",
      "|@Ibraheema_Ykb Ok...| Ok  Times have g...|[times, have, gon...|\n",
      "|@mintea AND KIDS....| AND KIDS  Who do...|[and, kids, who, ...|\n",
      "|Just posted a pho...|Just posted a pho...|[just, posted, ph...|\n",
      "|@SheaSonia I am s...| I am so heartbro...|[heartbroken, hea...|\n",
      "|In MyinGyan, terr...|In MyinGyan  terr...|[myingyan, terror...|\n",
      "|In Myingyan, Mand...|In Myingyan  Mand...|[myingyan, mandal...|\n",
      "|        Exhausted 😣|        Exhausted 😣|         [exhausted]|\n",
      "|@HaroldYeddo Love...| Love it anak 🙏🏻♥️|        [love, anak]|\n",
      "|@umihani__ this i...| this is what i n...|  [this, what, need]|\n",
      "|Swab duty done. T...|Swab duty done  T...|[swab, duty, done...|\n",
      "|@gmuruganandi Tod...|        Today click |      [today, click]|\n",
      "|A picture speaks ...|A picture speaks ...|[picture, speaks,...|\n",
      "|@fxtyaanx Happy b...| Happy birthday kaka|[happy, birthday,...|\n",
      "|Should I make The...|Should I make The...|[should, make, th...|\n",
      "|i mean im not off...| mean im not offe...|[mean, not, offen...|\n",
      "|I'm at Bus Stop 0...|I m at Bus Stop  ...|[bus, stop, opp, ...|\n",
      "|woke up today to ...|woke up today to ...|[woke, today, sex...|\n",
      "|12 years ago I jo...| years ago I join...|[years, ago, join...|\n",
      "|@VigneshShanthi Y...| You just did wha...|[you, just, did, ...|\n",
      "|Yesterday dinner,...|Yesterday dinner ...|[yesterday, dinne...|\n",
      "|Bro im on the ver...|Bro im on the ver...|[bro, the, verge,...|\n",
      "|I'm at Genki Sush...|I m at Genki Sush...|[genki, sushi, si...|\n",
      "|@syfq_danz @Ahtop...|  OMG OMG OMG OMG...|[omg, omg, omg, o...|\n",
      "|there is no absol...|there is no absol...|[there, absolute,...|\n",
      "|@mjvito Thanks fo...| Thanks for highl...|[thanks, for, hig...|\n",
      "|Power pack statem...|Power pack statem...|[power, pack, sta...|\n",
      "|@avelokiteshvara ...| Nothing brings m...|[nothing, brings,...|\n",
      "|but god i’m so ex...|but god i’m so ex...|[but, god, exhaus...|\n",
      "|doms the next day...|doms the next day...|[doms, the, next,...|\n",
      "|Not gonna put mys...|Not gonna put mys...|[not, gonna, put,...|\n",
      "|My heart is thump...|My heart is thump...|   [heart, thumping]|\n",
      "|Honestly, heartbr...|Honestly  heartbr...|[honestly, heartb...|\n",
      "|@maria_solve @Wit...|   Mobian” parame...|[mobian, parametr...|\n",
      "|@CryptoArtistNFT ...|  Mobian” paramet...|[mobian, parametr...|\n",
      "|@PunkiesNFT \"Mobi...|  Mobian” paramet...|[mobian, parametr...|\n",
      "|@thegxuniverse \"M...|  Mobian” paramet...|[mobian, parametr...|\n",
      "|@EnzoNFT \"Mobian”...|  Mobian” paramet...|[mobian, parametr...|\n",
      "|@thefarmerskid \"M...|  Mobian” paramet...|[mobian, parametr...|\n",
      "|@BuckyBigTime \"Mo...|  Mobian” paramet...|[mobian, parametr...|\n",
      "|@BitAllstars \"Mob...|  Mobian” paramet...|[mobian, parametr...|\n",
      "|@NakoBaev \"Mobian...|  Mobian” paramet...|[mobian, parametr...|\n",
      "|Just posted a vid...|Just posted a vid...|[just, posted, vi...|\n",
      "|Power https://t.c...|              Power |             [power]|\n",
      "|Check out @FrankP...|Check out  genera...|[check, out, gene...|\n",
      "|Just posted a pho...|Just posted a pho...|[just, posted, ph...|\n",
      "+--------------------+--------------------+--------------------+\n",
      "only showing top 50 rows\n",
      "\n"
     ]
    }
   ],
   "source": [
    "# display the original text, processed text and tokenized text\n",
    "tokenized_tweets.select('text','processed_text','tokens').show(50)"
   ]
  },
  {
   "cell_type": "code",
   "execution_count": 65,
   "metadata": {},
   "outputs": [
    {
     "name": "stderr",
     "output_type": "stream",
     "text": [
      "[nltk_data] Downloading package wordnet to /home/cloudera/nltk_data...\n",
      "[nltk_data]   Package wordnet is already up-to-date!\n"
     ]
    }
   ],
   "source": [
    "# perform lemmatization using wordNetLemmatizer\n",
    "import nltk\n",
    "nltk.download('wordnet')\n",
    "from nltk.stem import WordNetLemmatizer\n",
    "#from nltk import SnowballStemmer\n",
    "from nltk.stem import PorterStemmer\n",
    "lemmatizer = WordNetLemmatizer()\n",
    "#stemmer = SnowballStemmer(\"english\")\n",
    "#stemmer=PorterStemmer()\n",
    "\n",
    "def lemmatization(row):\n",
    "    #row = [stemmer.stem(lemmatizer.lemmatize(word)) for word in row]\n",
    "    row = [lemmatizer.lemmatize(word) for word in row]\n",
    "    return row\n",
    "\n",
    "lemmatization = udf(lemmatization)\n",
    "tokenized_tweets=tokenized_tweets.withColumn('tokens_lemma', lemmatization(tokenized_tweets['tokens']))"
   ]
  },
  {
   "cell_type": "code",
   "execution_count": 66,
   "metadata": {},
   "outputs": [
    {
     "name": "stdout",
     "output_type": "stream",
     "text": [
      "+-------------------+--------------------+--------------------+------------+--------------------+--------------------+--------------------+\n",
      "|                 id|          created_at|                text|created_date|      processed_text|              tokens|        tokens_lemma|\n",
      "+-------------------+--------------------+--------------------+------------+--------------------+--------------------+--------------------+\n",
      "|1384064534600507392|2021-04-19T08:41:...|@hhjflrts im sorr...|  2021-04-19| im sorry if i co...|[sorry, come, out...|[sorry, come, out...|\n",
      "|1384064515759693830|2021-04-19T08:41:...|@yogezlor By now ...|  2021-04-19| By now you shoul...|[now, you, should...|[now, you, should...|\n",
      "|1384064394011709446|2021-04-19T08:40:...|Forgot about the ...|  2021-04-19|Forgot about the ...|[forgot, about, t...|[forgot, about, t...|\n",
      "|1384064393017626635|2021-04-19T08:40:...|Massive protester...|  2021-04-19|Massive protester...|[massive, protest...|[massive, protest...|\n",
      "|1384063860852678657|2021-04-19T08:38:...|Just posted a pho...|  2021-04-19|Just posted a pho...|[just, posted, ph...|[just, posted, ph...|\n",
      "+-------------------+--------------------+--------------------+------------+--------------------+--------------------+--------------------+\n",
      "only showing top 5 rows\n",
      "\n"
     ]
    }
   ],
   "source": [
    "tokenized_tweets.show(5)"
   ]
  },
  {
   "cell_type": "code",
   "execution_count": 67,
   "metadata": {},
   "outputs": [
    {
     "name": "stdout",
     "output_type": "stream",
     "text": [
      "+--------------------+--------------------+--------------------+\n",
      "|      processed_text|              tokens|        tokens_lemma|\n",
      "+--------------------+--------------------+--------------------+\n",
      "| im sorry if i co...|[sorry, come, out...|[sorry, come, out...|\n",
      "| By now you shoul...|[now, you, should...|[now, you, should...|\n",
      "|Forgot about the ...|[forgot, about, t...|[forgot, about, t...|\n",
      "|Massive protester...|[massive, protest...|[massive, protest...|\n",
      "|Just posted a pho...|[just, posted, ph...|[just, posted, ph...|\n",
      "| Ok  Times have g...|[times, have, gon...|[time, have, gone...|\n",
      "| AND KIDS  Who do...|[and, kids, who, ...|[and, kid, who, d...|\n",
      "|Just posted a pho...|[just, posted, ph...|[just, posted, ph...|\n",
      "| I am so heartbro...|[heartbroken, hea...|[heartbroken, hea...|\n",
      "|In MyinGyan  terr...|[myingyan, terror...|[myingyan, terror...|\n",
      "|In Myingyan  Mand...|[myingyan, mandal...|[myingyan, mandal...|\n",
      "|        Exhausted 😣|         [exhausted]|         [exhausted]|\n",
      "| Love it anak 🙏🏻♥️|        [love, anak]|        [love, anak]|\n",
      "| this is what i n...|  [this, what, need]|  [this, what, need]|\n",
      "|Swab duty done  T...|[swab, duty, done...|[swab, duty, done...|\n",
      "|        Today click |      [today, click]|      [today, click]|\n",
      "|A picture speaks ...|[picture, speaks,...|[picture, speaks,...|\n",
      "| Happy birthday kaka|[happy, birthday,...|[happy, birthday,...|\n",
      "|Should I make The...|[should, make, th...|[should, make, th...|\n",
      "| mean im not offe...|[mean, not, offen...|[mean, not, offen...|\n",
      "+--------------------+--------------------+--------------------+\n",
      "only showing top 20 rows\n",
      "\n"
     ]
    }
   ],
   "source": [
    "tokenized_tweets.select('processed_text','tokens','tokens_lemma').show(20)"
   ]
  },
  {
   "cell_type": "code",
   "execution_count": 68,
   "metadata": {},
   "outputs": [],
   "source": [
    "# create cutomized extended stop word list\n",
    "stopwordList = [\"singapore\",\"Singapore\"]\n",
    "StopWordsRemover().getStopWords()\n",
    "stopwordList.extend(StopWordsRemover().getStopWords())\n",
    "stopwordList = list(set(stopwordList))"
   ]
  },
  {
   "cell_type": "code",
   "execution_count": 69,
   "metadata": {},
   "outputs": [],
   "source": [
    "# Create a remover that Filter away stop word\n",
    "remover = StopWordsRemover(stopWords=stopwordList).setInputCol(\"tokens\").setOutputCol(\"cleaned\")"
   ]
  },
  {
   "cell_type": "code",
   "execution_count": 70,
   "metadata": {},
   "outputs": [],
   "source": [
    "# remove stopwords\n",
    "cleaned_tweets = remover.transform(tokenized_tweets)"
   ]
  },
  {
   "cell_type": "code",
   "execution_count": 71,
   "metadata": {},
   "outputs": [
    {
     "name": "stdout",
     "output_type": "stream",
     "text": [
      "+-------------------+--------------------+--------------------+------------+--------------------+--------------------+--------------------+--------------------+\n",
      "|                 id|          created_at|                text|created_date|      processed_text|              tokens|        tokens_lemma|             cleaned|\n",
      "+-------------------+--------------------+--------------------+------------+--------------------+--------------------+--------------------+--------------------+\n",
      "|1384064534600507392|2021-04-19T08:41:...|@hhjflrts im sorr...|  2021-04-19| im sorry if i co...|[sorry, come, out...|[sorry, come, out...|[sorry, come, ign...|\n",
      "|1384064515759693830|2021-04-19T08:41:...|@yogezlor By now ...|  2021-04-19| By now you shoul...|[now, you, should...|[now, you, should...|[know, fan, base,...|\n",
      "|1384064394011709446|2021-04-19T08:40:...|Forgot about the ...|  2021-04-19|Forgot about the ...|[forgot, about, t...|[forgot, about, t...|[forgot, wire, ta...|\n",
      "|1384064393017626635|2021-04-19T08:40:...|Massive protester...|  2021-04-19|Massive protester...|[massive, protest...|[massive, protest...|[massive, protest...|\n",
      "|1384063860852678657|2021-04-19T08:38:...|Just posted a pho...|  2021-04-19|Just posted a pho...|[just, posted, ph...|[just, posted, ph...|[posted, photo, f...|\n",
      "|1384063582938140673|2021-04-19T08:37:...|@Ibraheema_Ykb Ok...|  2021-04-19| Ok  Times have g...|[times, have, gon...|[time, have, gone...|[times, gone, use...|\n",
      "|1384063508652851200|2021-04-19T08:37:...|@mintea AND KIDS....|  2021-04-19| AND KIDS  Who do...|[and, kids, who, ...|[and, kid, who, d...|[kids, dare, voic...|\n",
      "|1384063029076127747|2021-04-19T08:35:...|Just posted a pho...|  2021-04-19|Just posted a pho...|[just, posted, ph...|[just, posted, ph...|     [posted, photo]|\n",
      "|1384062369492389892|2021-04-19T08:32:...|@SheaSonia I am s...|  2021-04-19| I am so heartbro...|[heartbroken, hea...|[heartbroken, hea...|[heartbroken, hea...|\n",
      "|1384062319781502977|2021-04-19T08:32:...|In MyinGyan, terr...|  2021-04-19|In MyinGyan  terr...|[myingyan, terror...|[myingyan, terror...|[myingyan, terror...|\n",
      "|1384062091493994496|2021-04-19T08:31:...|In Myingyan, Mand...|  2021-04-19|In Myingyan  Mand...|[myingyan, mandal...|[myingyan, mandal...|[myingyan, mandal...|\n",
      "|1384062077375971333|2021-04-19T08:31:...|        Exhausted 😣|  2021-04-19|        Exhausted 😣|         [exhausted]|         [exhausted]|         [exhausted]|\n",
      "|1384061831099019267|2021-04-19T08:30:...|@HaroldYeddo Love...|  2021-04-19| Love it anak 🙏🏻♥️|        [love, anak]|        [love, anak]|        [love, anak]|\n",
      "|1384061570762768387|2021-04-19T08:29:...|@umihani__ this i...|  2021-04-19| this is what i n...|  [this, what, need]|  [this, what, need]|              [need]|\n",
      "|1384061432006803461|2021-04-19T08:28:...|Swab duty done. T...|  2021-04-19|Swab duty done  T...|[swab, duty, done...|[swab, duty, done...|[swab, duty, done...|\n",
      "|1384061259235008515|2021-04-19T08:28:...|@gmuruganandi Tod...|  2021-04-19|        Today click |      [today, click]|      [today, click]|      [today, click]|\n",
      "|1384061192818151425|2021-04-19T08:27:...|A picture speaks ...|  2021-04-19|A picture speaks ...|[picture, speaks,...|[picture, speaks,...|[picture, speaks,...|\n",
      "|1384060879134547976|2021-04-19T08:26:...|@fxtyaanx Happy b...|  2021-04-19| Happy birthday kaka|[happy, birthday,...|[happy, birthday,...|[happy, birthday,...|\n",
      "|1384060750994448389|2021-04-19T08:26:...|Should I make The...|  2021-04-19|Should I make The...|[should, make, th...|[should, make, th...|[make, cookie, br...|\n",
      "|1384060657234944000|2021-04-19T08:25:...|i mean im not off...|  2021-04-19| mean im not offe...|[mean, not, offen...|[mean, not, offen...|[mean, offended, ...|\n",
      "+-------------------+--------------------+--------------------+------------+--------------------+--------------------+--------------------+--------------------+\n",
      "only showing top 20 rows\n",
      "\n"
     ]
    }
   ],
   "source": [
    "cleaned_tweets.show()"
   ]
  },
  {
   "cell_type": "code",
   "execution_count": 72,
   "metadata": {},
   "outputs": [],
   "source": [
    "# create a vector of words that at least appeared in two different tweets, and set maximum vocab size to 20000.\n",
    "vectorizer = CountVectorizer().setInputCol(\"cleaned\").setOutputCol(\"features\").setVocabSize(20000).setMinDF(2).fit(cleaned_tweets)\n",
    "wordVectors = vectorizer.transform(cleaned_tweets)#.select(\"id\", \"features\")"
   ]
  },
  {
   "cell_type": "code",
   "execution_count": 73,
   "metadata": {},
   "outputs": [
    {
     "name": "stdout",
     "output_type": "stream",
     "text": [
      "+-------------------+--------------------+--------------------+------------+--------------------+--------------------+--------------------+--------------------+--------------------+\n",
      "|                 id|          created_at|                text|created_date|      processed_text|              tokens|        tokens_lemma|             cleaned|            features|\n",
      "+-------------------+--------------------+--------------------+------------+--------------------+--------------------+--------------------+--------------------+--------------------+\n",
      "|1384064534600507392|2021-04-19T08:41:...|@hhjflrts im sorr...|  2021-04-19| im sorry if i co...|[sorry, come, out...|[sorry, come, out...|[sorry, come, ign...|(16438,[80,306,30...|\n",
      "|1384064515759693830|2021-04-19T08:41:...|@yogezlor By now ...|  2021-04-19| By now you shoul...|[now, you, should...|[now, you, should...|[know, fan, base,...|(16438,[11,24,223...|\n",
      "|1384064394011709446|2021-04-19T08:40:...|Forgot about the ...|  2021-04-19|Forgot about the ...|[forgot, about, t...|[forgot, about, t...|[forgot, wire, ta...|(16438,[581,653,7...|\n",
      "|1384064393017626635|2021-04-19T08:40:...|Massive protester...|  2021-04-19|Massive protester...|[massive, protest...|[massive, protest...|[massive, protest...|(16438,[2,17,51,7...|\n",
      "|1384063860852678657|2021-04-19T08:38:...|Just posted a pho...|  2021-04-19|Just posted a pho...|[just, posted, ph...|[just, posted, ph...|[posted, photo, f...|(16438,[0,1,49,24...|\n",
      "|1384063582938140673|2021-04-19T08:37:...|@Ibraheema_Ykb Ok...|  2021-04-19| Ok  Times have g...|[times, have, gon...|[time, have, gone...|[times, gone, use...|(16438,[23,58,87,...|\n",
      "|1384063508652851200|2021-04-19T08:37:...|@mintea AND KIDS....|  2021-04-19| AND KIDS  Who do...|[and, kids, who, ...|[and, kid, who, d...|[kids, dare, voic...|(16438,[162,390,7...|\n",
      "|1384063029076127747|2021-04-19T08:35:...|Just posted a pho...|  2021-04-19|Just posted a pho...|[just, posted, ph...|[just, posted, ph...|     [posted, photo]|(16438,[0,1],[1.0...|\n",
      "|1384062369492389892|2021-04-19T08:32:...|@SheaSonia I am s...|  2021-04-19| I am so heartbro...|[heartbroken, hea...|[heartbroken, hea...|[heartbroken, hea...|(16438,[333,1177,...|\n",
      "|1384062319781502977|2021-04-19T08:32:...|In MyinGyan, terr...|  2021-04-19|In MyinGyan  terr...|[myingyan, terror...|[myingyan, terror...|[myingyan, terror...|(16438,[2,7,83,13...|\n",
      "|1384062091493994496|2021-04-19T08:31:...|In Myingyan, Mand...|  2021-04-19|In Myingyan  Mand...|[myingyan, mandal...|[myingyan, mandal...|[myingyan, mandal...|(16438,[3,7,38,42...|\n",
      "|1384062077375971333|2021-04-19T08:31:...|        Exhausted 😣|  2021-04-19|        Exhausted 😣|         [exhausted]|         [exhausted]|         [exhausted]|(16438,[2891],[1.0])|\n",
      "|1384061831099019267|2021-04-19T08:30:...|@HaroldYeddo Love...|  2021-04-19| Love it anak 🙏🏻♥️|        [love, anak]|        [love, anak]|        [love, anak]|(16438,[13,5529],...|\n",
      "|1384061570762768387|2021-04-19T08:29:...|@umihani__ this i...|  2021-04-19| this is what i n...|  [this, what, need]|  [this, what, need]|              [need]|  (16438,[19],[1.0])|\n",
      "|1384061432006803461|2021-04-19T08:28:...|Swab duty done. T...|  2021-04-19|Swab duty done  T...|[swab, duty, done...|[swab, duty, done...|[swab, duty, done...|(16438,[99,103,55...|\n",
      "|1384061259235008515|2021-04-19T08:28:...|@gmuruganandi Tod...|  2021-04-19|        Today click |      [today, click]|      [today, click]|      [today, click]|(16438,[14,830],[...|\n",
      "|1384061192818151425|2021-04-19T08:27:...|A picture speaks ...|  2021-04-19|A picture speaks ...|[picture, speaks,...|[picture, speaks,...|[picture, speaks,...|(16438,[438,834,1...|\n",
      "|1384060879134547976|2021-04-19T08:26:...|@fxtyaanx Happy b...|  2021-04-19| Happy birthday kaka|[happy, birthday,...|[happy, birthday,...|[happy, birthday,...|(16438,[27,131,15...|\n",
      "|1384060750994448389|2021-04-19T08:26:...|Should I make The...|  2021-04-19|Should I make The...|[should, make, th...|[should, make, th...|[make, cookie, br...|(16438,[50,52,109...|\n",
      "|1384060657234944000|2021-04-19T08:25:...|i mean im not off...|  2021-04-19| mean im not offe...|[mean, not, offen...|[mean, not, offen...|[mean, offended, ...|(16438,[135,301,3...|\n",
      "+-------------------+--------------------+--------------------+------------+--------------------+--------------------+--------------------+--------------------+--------------------+\n",
      "only showing top 20 rows\n",
      "\n"
     ]
    }
   ],
   "source": [
    "wordVectors.show()"
   ]
  },
  {
   "cell_type": "code",
   "execution_count": 74,
   "metadata": {},
   "outputs": [],
   "source": [
    "# LDA\n",
    "# create Latent Dirichlet Allocation model and run it on our data with 10 iteration and 10 topics\n",
    "#lda = LDA(k=10, maxIter=10)"
   ]
  },
  {
   "cell_type": "code",
   "execution_count": 75,
   "metadata": {},
   "outputs": [],
   "source": [
    "num_topics=range(2,11)\n",
    "models=[]\n",
    "log_likeli=[]\n",
    "log_perp=[]\n",
    "for num in num_topics:\n",
    "    # LDA\n",
    "    # create Latent Dirichlet Allocation model and run it on our data with 50 iteration and selected topics number\n",
    "    lda = LDA(k=num, maxIter=50)\n",
    "    # fit the model on data\n",
    "    ldaModel = lda.fit(wordVectors)\n",
    "    models.append(ldaModel)\n",
    "    ll = ldaModel.logLikelihood(wordVectors)\n",
    "    lp = ldaModel.logPerplexity(wordVectors)\n",
    "    log_likeli.append(ll)\n",
    "    log_perp.append(lp)"
   ]
  },
  {
   "cell_type": "code",
   "execution_count": 76,
   "metadata": {},
   "outputs": [
    {
     "data": {
      "text/plain": [
       "[-2719720.3446701965,\n",
       " -2716960.7303290423,\n",
       " -2717580.1729428703,\n",
       " -2740203.9614680284,\n",
       " -2736817.4943720503,\n",
       " -2760689.2964375555,\n",
       " -2775610.285694461,\n",
       " -2813806.717420895,\n",
       " -2833213.4084595535]"
      ]
     },
     "execution_count": 76,
     "metadata": {},
     "output_type": "execute_result"
    }
   ],
   "source": [
    "log_likeli"
   ]
  },
  {
   "cell_type": "code",
   "execution_count": 77,
   "metadata": {},
   "outputs": [],
   "source": [
    "import pandas as pd\n",
    "import matplotlib.pyplot as plt\n",
    "plot_data=pd.DataFrame(list(zip(num_topics,log_likeli,log_perp)),\n",
    "            columns=['topics_num','logLikelihood','logPerplexity'])"
   ]
  },
  {
   "cell_type": "code",
   "execution_count": 78,
   "metadata": {},
   "outputs": [
    {
     "data": {
      "image/png": "[encoded data removed]",
      "text/plain": [
       "<Figure size 432x288 with 1 Axes>"
      ]
     },
     "metadata": {},
     "output_type": "display_data"
    }
   ],
   "source": [
    "plot_data.plot(x='topics_num',y='logLikelihood',kind = 'line')\n",
    "plt.show()"
   ]
  },
  {
   "cell_type": "code",
   "execution_count": 79,
   "metadata": {},
   "outputs": [
    {
     "data": {
      "image/png": "[encoded data removed]",
      "text/plain": [
       "<Figure size 432x288 with 1 Axes>"
      ]
     },
     "metadata": {},
     "output_type": "display_data"
    }
   ],
   "source": [
    "plot_data.plot(x='topics_num',y='logPerplexity',kind = 'line')\n",
    "plt.show()"
   ]
  },
  {
   "cell_type": "code",
   "execution_count": 81,
   "metadata": {},
   "outputs": [],
   "source": [
    "# extract vocabulary from CountVectorizer\n",
    "vocab = vectorizer.vocabulary"
   ]
  },
  {
   "cell_type": "code",
   "execution_count": 82,
   "metadata": {},
   "outputs": [
    {
     "name": "stdout",
     "output_type": "stream",
     "text": [
      "+-----+--------------------+--------------------+\n",
      "|topic|         termIndices|         termWeights|\n",
      "+-----+--------------------+--------------------+\n",
      "|    0|[4, 6, 1, 0, 10, ...|[0.00846225068536...|\n",
      "|    1|[0, 1, 62, 222, 3...|[0.06383983333766...|\n",
      "|    2|[44, 85, 94, 60, ...|[0.01074669493598...|\n",
      "|    3|[2, 7, 9, 15, 17,...|[0.01960256470907...|\n",
      "+-----+--------------------+--------------------+\n",
      "\n"
     ]
    }
   ],
   "source": [
    "# create topics based on LDA\n",
    "lda_topics = models[2].describeTopics()\n",
    "lda_topics.show()"
   ]
  },
  {
   "cell_type": "code",
   "execution_count": 83,
   "metadata": {},
   "outputs": [
    {
     "name": "stdout",
     "output_type": "stream",
     "text": [
      "+-----------------------------------------------------------------------------------------------------------------------------------------------------------------------------------------------------------------------------+\n",
      "|termWeights                                                                                                                                                                                                                  |\n",
      "+-----------------------------------------------------------------------------------------------------------------------------------------------------------------------------------------------------------------------------+\n",
      "|[0.008462250685363815, 0.007448548911146442, 0.007211131093966834, 0.007010697321010972, 0.0068596121310264, 0.006270512553226859, 0.0062069505683655535, 0.005968296731869272, 0.005289682164537056, 0.004995598168158378]  |\n",
      "|[0.06383983333766532, 0.05944326152847918, 0.0065398586714228435, 0.006279420130418952, 0.0050383183019385705, 0.004269443460673273, 0.004189178725007699, 0.003864243672118496, 0.003860599576085852, 0.003828999033388317] |\n",
      "|[0.010746694935982829, 0.00738781592546604, 0.006818320656733853, 0.0066097133436368105, 0.006421050352221321, 0.006202944905577704, 0.005946549878899491, 0.005899327340314669, 0.005672040811533331, 0.0051907950960276925]|\n",
      "|[0.019602564709076627, 0.015920308264429823, 0.014551475533052702, 0.010970766723778816, 0.009702201090010035, 0.008829500683028105, 0.007709224474249352, 0.007659146648996506, 0.006899100261681412, 0.006881257303185848] |\n",
      "+-----------------------------------------------------------------------------------------------------------------------------------------------------------------------------------------------------------------------------+\n",
      "\n"
     ]
    }
   ],
   "source": [
    "lda_topics.select('termWeights').show(10,False)"
   ]
  },
  {
   "cell_type": "code",
   "execution_count": 84,
   "metadata": {},
   "outputs": [
    {
     "name": "stdout",
     "output_type": "stream",
     "text": [
      "+---------------------------------------------+\n",
      "|termIndices                                  |\n",
      "+---------------------------------------------+\n",
      "|[4, 6, 1, 0, 10, 8, 11, 12, 16, 13]          |\n",
      "|[0, 1, 62, 222, 350, 182, 143, 513, 499, 514]|\n",
      "|[44, 85, 94, 60, 81, 56, 105, 114, 45, 13]   |\n",
      "|[2, 7, 9, 15, 17, 5, 33, 3, 42, 41]          |\n",
      "+---------------------------------------------+\n",
      "\n"
     ]
    }
   ],
   "source": [
    "lda_topics.select('termIndices').show(10,False)"
   ]
  },
  {
   "cell_type": "code",
   "execution_count": 85,
   "metadata": {},
   "outputs": [
    {
     "name": "stdout",
     "output_type": "stream",
     "text": [
      "topic: 0\n",
      "*************************\n",
      "like\n",
      "one\n",
      "photo\n",
      "posted\n",
      "good\n",
      "day\n",
      "time\n",
      "get\n",
      "edward\n",
      "love\n",
      "*************************\n",
      "topic: 1\n",
      "*************************\n",
      "posted\n",
      "photo\n",
      "video\n",
      "cute\n",
      "chef\n",
      "baby\n",
      "fucking\n",
      "ltd\n",
      "silver\n",
      "pte\n",
      "*************************\n",
      "topic: 2\n",
      "*************************\n",
      "part\n",
      "different\n",
      "future\n",
      "thanks\n",
      "yes\n",
      "city\n",
      "wait\n",
      "cool\n",
      "great\n",
      "love\n",
      "*************************\n",
      "topic: 3\n",
      "*************************\n",
      "military\n",
      "terrorists\n",
      "junta\n",
      "abducted\n",
      "myanmar\n",
      "people\n",
      "strike\n",
      "amp\n",
      "civilians\n",
      "yangon\n",
      "*************************\n"
     ]
    }
   ],
   "source": [
    "topics_rdd = lda_topics.rdd\n",
    "topics_words = topics_rdd\\\n",
    "       .map(lambda row: row['termIndices'])\\\n",
    "       .map(lambda idx_list: [vocab[idx] for idx in idx_list])\\\n",
    "       .collect()\n",
    "\n",
    "for idx, topic in enumerate(topics_words):\n",
    "    print(\"topic: {}\".format(idx))\n",
    "    print(\"*\"*25)\n",
    "    for word in topic:\n",
    "       print(word)\n",
    "    print(\"*\"*25)"
   ]
  },
  {
   "cell_type": "code",
   "execution_count": null,
   "metadata": {},
   "outputs": [],
   "source": [
    "model=models[2]"
   ]
  },
  {
   "cell_type": "code",
   "execution_count": 90,
   "metadata": {},
   "outputs": [
    {
     "name": "stdout",
     "output_type": "stream",
     "text": [
      "+-------------------+--------------------+--------------------+------------+--------------------+--------------------+--------------------+--------------------+--------------------+--------------------+\n",
      "|                 id|          created_at|                text|created_date|      processed_text|              tokens|        tokens_lemma|             cleaned|            features|   topicDistribution|\n",
      "+-------------------+--------------------+--------------------+------------+--------------------+--------------------+--------------------+--------------------+--------------------+--------------------+\n",
      "|1384064534600507392|2021-04-19T08:41:...|@hhjflrts im sorr...|  2021-04-19| im sorry if i co...|[sorry, come, out...|[sorry, come, out...|[sorry, come, ign...|(16438,[80,306,30...|[0.92208139430612...|\n",
      "|1384064515759693830|2021-04-19T08:41:...|@yogezlor By now ...|  2021-04-19| By now you shoul...|[now, you, should...|[now, you, should...|[know, fan, base,...|(16438,[11,24,223...|[0.79683315274790...|\n",
      "|1384064394011709446|2021-04-19T08:40:...|Forgot about the ...|  2021-04-19|Forgot about the ...|[forgot, about, t...|[forgot, about, t...|[forgot, wire, ta...|(16438,[581,653,7...|[0.93202998814271...|\n",
      "|1384064393017626635|2021-04-19T08:40:...|Massive protester...|  2021-04-19|Massive protester...|[massive, protest...|[massive, protest...|[massive, protest...|(16438,[2,17,51,7...|[0.03101415601875...|\n",
      "|1384063860852678657|2021-04-19T08:38:...|Just posted a pho...|  2021-04-19|Just posted a pho...|[just, posted, ph...|[just, posted, ph...|[posted, photo, f...|(16438,[0,1,49,24...|[0.04024921437290...|\n",
      "|1384063582938140673|2021-04-19T08:37:...|@Ibraheema_Ykb Ok...|  2021-04-19| Ok  Times have g...|[times, have, gon...|[time, have, gone...|[times, gone, use...|(16438,[23,58,87,...|[0.98080265251743...|\n",
      "|1384063508652851200|2021-04-19T08:37:...|@mintea AND KIDS....|  2021-04-19| AND KIDS  Who do...|[and, kids, who, ...|[and, kid, who, d...|[kids, dare, voic...|(16438,[162,390,7...|[0.88977480233873...|\n",
      "|1384063029076127747|2021-04-19T08:35:...|Just posted a pho...|  2021-04-19|Just posted a pho...|[just, posted, ph...|[just, posted, ph...|     [posted, photo]|(16438,[0,1],[1.0...|[0.11742471676022...|\n",
      "|1384062369492389892|2021-04-19T08:32:...|@SheaSonia I am s...|  2021-04-19| I am so heartbro...|[heartbroken, hea...|[heartbroken, hea...|[heartbroken, hea...|(16438,[333,1177,...|[0.27123386300014...|\n",
      "|1384062319781502977|2021-04-19T08:32:...|In MyinGyan, terr...|  2021-04-19|In MyinGyan  terr...|[myingyan, terror...|[myingyan, terror...|[myingyan, terror...|(16438,[2,7,83,13...|[0.02181047457522...|\n",
      "+-------------------+--------------------+--------------------+------------+--------------------+--------------------+--------------------+--------------------+--------------------+--------------------+\n",
      "only showing top 10 rows\n",
      "\n"
     ]
    }
   ],
   "source": [
    "transformed = model.transform(wordVectors)\n",
    "transformed.show(10)"
   ]
  },
  {
   "cell_type": "code",
   "execution_count": 91,
   "metadata": {},
   "outputs": [
    {
     "name": "stdout",
     "output_type": "stream",
     "text": [
      "root\n",
      " |-- id: string (nullable = true)\n",
      " |-- created_at: string (nullable = true)\n",
      " |-- text: string (nullable = true)\n",
      " |-- created_date: date (nullable = true)\n",
      " |-- processed_text: string (nullable = true)\n",
      " |-- tokens: array (nullable = true)\n",
      " |    |-- element: string (containsNull = true)\n",
      " |-- tokens_lemma: string (nullable = true)\n",
      " |-- cleaned: array (nullable = true)\n",
      " |    |-- element: string (containsNull = true)\n",
      " |-- features: vector (nullable = true)\n",
      " |-- topicDistribution: vector (nullable = true)\n",
      "\n"
     ]
    }
   ],
   "source": [
    "transformed.printSchema()"
   ]
  },
  {
   "cell_type": "code",
   "execution_count": 92,
   "metadata": {},
   "outputs": [],
   "source": [
    "to_array = udf(lambda v: v.toArray().tolist(), T.ArrayType(T.FloatType()))"
   ]
  },
  {
   "cell_type": "code",
   "execution_count": 93,
   "metadata": {},
   "outputs": [],
   "source": [
    "max_index=udf(lambda x: x.index(__builtin__.max(x)) if x is not None else None, T.IntegerType())"
   ]
  },
  {
   "cell_type": "code",
   "execution_count": 94,
   "metadata": {},
   "outputs": [],
   "source": [
    "transformed=transformed.withColumn('topicDistribution_array', to_array(transformed['topicDistribution']))\n",
    "transformed=transformed.withColumn('dominant_topic', max_index(transformed['topicDistribution_array']))"
   ]
  },
  {
   "cell_type": "code",
   "execution_count": 95,
   "metadata": {},
   "outputs": [
    {
     "data": {
      "text/plain": [
       "StructType(List(StructField(id,StringType,true),StructField(created_at,StringType,true),StructField(text,StringType,true),StructField(created_date,DateType,true),StructField(processed_text,StringType,true),StructField(tokens,ArrayType(StringType,true),true),StructField(tokens_lemma,StringType,true),StructField(cleaned,ArrayType(StringType,true),true),StructField(features,VectorUDT,true),StructField(topicDistribution,VectorUDT,true),StructField(topicDistribution_array,ArrayType(FloatType,true),true),StructField(dominant_topic,IntegerType,true)))"
      ]
     },
     "execution_count": 95,
     "metadata": {},
     "output_type": "execute_result"
    }
   ],
   "source": [
    "transformed.schema"
   ]
  },
  {
   "cell_type": "code",
   "execution_count": 96,
   "metadata": {},
   "outputs": [
    {
     "name": "stdout",
     "output_type": "stream",
     "text": [
      "+-----------------------------------------------------+--------------+\n",
      "|topicDistribution_array                              |dominant_topic|\n",
      "+-----------------------------------------------------+--------------+\n",
      "|[0.9220814, 0.023514137, 0.027993057, 0.026411412]   |0             |\n",
      "|[0.79683316, 0.02053516, 0.024348743, 0.15828295]    |0             |\n",
      "|[0.93202996, 0.020883035, 0.024034116, 0.023052858]  |0             |\n",
      "|[0.031014156, 0.0135932565, 0.016001733, 0.93939084] |3             |\n",
      "|[0.040249214, 0.9179729, 0.021430138, 0.020347709]   |1             |\n",
      "|[0.98080266, 0.005802978, 0.0068167234, 0.0065776464]|0             |\n",
      "|[0.8897748, 0.033175398, 0.039081566, 0.037968233]   |0             |\n",
      "|[0.11742472, 0.75369173, 0.06590659, 0.06297694]     |1             |\n",
      "|[0.27123386, 0.018211924, 0.6901868, 0.020367417]    |2             |\n",
      "|[0.021810474, 0.010171647, 0.0119221015, 0.95609576] |3             |\n",
      "|[0.023837287, 0.010847575, 0.012765343, 0.9525498]   |3             |\n",
      "|[0.7135662, 0.08675351, 0.10278122, 0.09689911]      |0             |\n",
      "|[0.4667914, 0.4020508, 0.06817074, 0.062987074]      |0             |\n",
      "|[0.7147942, 0.08667866, 0.10136124, 0.09716588]      |0             |\n",
      "|[0.54475784, 0.023520926, 0.405374, 0.026347226]     |0             |\n",
      "|[0.13678254, 0.056382146, 0.74312526, 0.06371007]    |2             |\n",
      "|[0.9390805, 0.01832285, 0.022161221, 0.020435462]    |0             |\n",
      "|[0.862113, 0.04193645, 0.04910829, 0.046842277]      |0             |\n",
      "|[0.70583916, 0.25200808, 0.021578355, 0.020574389]   |0             |\n",
      "|[0.047708552, 0.014853064, 0.92065656, 0.016781822]  |2             |\n",
      "+-----------------------------------------------------+--------------+\n",
      "only showing top 20 rows\n",
      "\n"
     ]
    }
   ],
   "source": [
    "transformed.select('topicDistribution_array','dominant_topic').show(20, False)"
   ]
  },
  {
   "cell_type": "code",
   "execution_count": 100,
   "metadata": {},
   "outputs": [
    {
     "name": "stdout",
     "output_type": "stream",
     "text": [
      "+------------+--------------+-----+\n",
      "|created_date|dominant_topic|count|\n",
      "+------------+--------------+-----+\n",
      "|  2021-04-01|             0|  961|\n",
      "|  2021-04-01|             1|  207|\n",
      "|  2021-04-01|             2|  204|\n",
      "|  2021-04-01|             3|  190|\n",
      "|  2021-04-02|             0|  990|\n",
      "|  2021-04-02|             1|  223|\n",
      "|  2021-04-02|             2|  245|\n",
      "|  2021-04-02|             3|  188|\n",
      "|  2021-04-03|             0| 1118|\n",
      "|  2021-04-03|             1|  229|\n",
      "|  2021-04-03|             2|  250|\n",
      "|  2021-04-03|             3|  185|\n",
      "|  2021-04-04|             0| 1142|\n",
      "|  2021-04-04|             1|  258|\n",
      "|  2021-04-04|             2|  211|\n",
      "|  2021-04-04|             3|  190|\n",
      "|  2021-04-05|             0|  910|\n",
      "|  2021-04-05|             1|  168|\n",
      "|  2021-04-05|             2|  190|\n",
      "|  2021-04-05|             3|  131|\n",
      "+------------+--------------+-----+\n",
      "only showing top 20 rows\n",
      "\n"
     ]
    }
   ],
   "source": [
    "transformed.groupBy(\"created_date\",\"dominant_topic\").count().orderBy(\"created_date\",\"dominant_topic\").show()"
   ]
  },
  {
   "cell_type": "code",
   "execution_count": 104,
   "metadata": {},
   "outputs": [
    {
     "ename": "ImportError",
     "evalue": "Pandas >= 0.23.2 must be installed; however, your version was 0.23.0.",
     "output_type": "error",
     "traceback": [
      "\u001b[0;31m---------------------------------------------------------------------------\u001b[0m",
      "\u001b[0;31mImportError\u001b[0m                               Traceback (most recent call last)",
      "\u001b[0;32m<ipython-input-104-8de03ce9d1e2>\u001b[0m in \u001b[0;36m<module>\u001b[0;34m()\u001b[0m\n\u001b[1;32m      1\u001b[0m \u001b[0;31m# save the result\u001b[0m\u001b[0;34m\u001b[0m\u001b[0;34m\u001b[0m\u001b[0m\n\u001b[0;32m----> 2\u001b[0;31m \u001b[0mtransformed\u001b[0m\u001b[0;34m.\u001b[0m\u001b[0mgroupBy\u001b[0m\u001b[0;34m(\u001b[0m\u001b[0;34m\"created_date\"\u001b[0m\u001b[0;34m,\u001b[0m\u001b[0;34m\"dominant_topic\"\u001b[0m\u001b[0;34m)\u001b[0m\u001b[0;34m.\u001b[0m\u001b[0mcount\u001b[0m\u001b[0;34m(\u001b[0m\u001b[0;34m)\u001b[0m\u001b[0;34m.\u001b[0m\u001b[0mtoPandas\u001b[0m\u001b[0;34m(\u001b[0m\u001b[0;34m)\u001b[0m\u001b[0;34m.\u001b[0m\u001b[0mto_csv\u001b[0m\u001b[0;34m(\u001b[0m\u001b[0;34m'AprTopics.csv'\u001b[0m\u001b[0;34m)\u001b[0m\u001b[0;34m\u001b[0m\u001b[0m\n\u001b[0m",
      "\u001b[0;32m~/anaconda3/lib/python3.5/site-packages/pyspark/sql/pandas/conversion.py\u001b[0m in \u001b[0;36mtoPandas\u001b[0;34m(self)\u001b[0m\n\u001b[1;32m     61\u001b[0m \u001b[0;34m\u001b[0m\u001b[0m\n\u001b[1;32m     62\u001b[0m         \u001b[0;32mfrom\u001b[0m \u001b[0mpyspark\u001b[0m\u001b[0;34m.\u001b[0m\u001b[0msql\u001b[0m\u001b[0;34m.\u001b[0m\u001b[0mpandas\u001b[0m\u001b[0;34m.\u001b[0m\u001b[0mutils\u001b[0m \u001b[0;32mimport\u001b[0m \u001b[0mrequire_minimum_pandas_version\u001b[0m\u001b[0;34m\u001b[0m\u001b[0m\n\u001b[0;32m---> 63\u001b[0;31m         \u001b[0mrequire_minimum_pandas_version\u001b[0m\u001b[0;34m(\u001b[0m\u001b[0;34m)\u001b[0m\u001b[0;34m\u001b[0m\u001b[0m\n\u001b[0m\u001b[1;32m     64\u001b[0m \u001b[0;34m\u001b[0m\u001b[0m\n\u001b[1;32m     65\u001b[0m         \u001b[0;32mimport\u001b[0m \u001b[0mnumpy\u001b[0m \u001b[0;32mas\u001b[0m \u001b[0mnp\u001b[0m\u001b[0;34m\u001b[0m\u001b[0m\n",
      "\u001b[0;32m~/anaconda3/lib/python3.5/site-packages/pyspark/sql/pandas/utils.py\u001b[0m in \u001b[0;36mrequire_minimum_pandas_version\u001b[0;34m()\u001b[0m\n\u001b[1;32m     34\u001b[0m     \u001b[0;32mif\u001b[0m \u001b[0mLooseVersion\u001b[0m\u001b[0;34m(\u001b[0m\u001b[0mpandas\u001b[0m\u001b[0;34m.\u001b[0m\u001b[0m__version__\u001b[0m\u001b[0;34m)\u001b[0m \u001b[0;34m<\u001b[0m \u001b[0mLooseVersion\u001b[0m\u001b[0;34m(\u001b[0m\u001b[0mminimum_pandas_version\u001b[0m\u001b[0;34m)\u001b[0m\u001b[0;34m:\u001b[0m\u001b[0;34m\u001b[0m\u001b[0m\n\u001b[1;32m     35\u001b[0m         raise ImportError(\"Pandas >= %s must be installed; however, \"\n\u001b[0;32m---> 36\u001b[0;31m                           \"your version was %s.\" % (minimum_pandas_version, pandas.__version__))\n\u001b[0m\u001b[1;32m     37\u001b[0m \u001b[0;34m\u001b[0m\u001b[0m\n\u001b[1;32m     38\u001b[0m \u001b[0;34m\u001b[0m\u001b[0m\n",
      "\u001b[0;31mImportError\u001b[0m: Pandas >= 0.23.2 must be installed; however, your version was 0.23.0."
     ]
    }
   ],
   "source": [
    "# save the result\n",
    "transformed.groupBy(\"created_date\",\"dominant_topic\").count().toPandas().to_csv('AprTopics.csv')"
   ]
  },
  {
   "cell_type": "code",
   "execution_count": 106,
   "metadata": {},
   "outputs": [],
   "source": [
    "transformed.groupBy(\"created_date\",\"dominant_topic\").count().write.csv('AprTopics.csv')"
   ]
  },
  {
   "cell_type": "code",
   "execution_count": null,
   "metadata": {},
   "outputs": [],
   "source": []
  }
 ],
 "metadata": {
  "kernelspec": {
   "display_name": "Python 3",
   "language": "python",
   "name": "python3"
  },
  "language_info": {
   "codemirror_mode": {
    "name": "ipython",
    "version": 3
   },
   "file_extension": ".py",
   "mimetype": "text/x-python",
   "name": "python",
   "nbconvert_exporter": "python",
   "pygments_lexer": "ipython3",
   "version": "3.5.5"
  }
 },
 "nbformat": 4,
 "nbformat_minor": 2
}
