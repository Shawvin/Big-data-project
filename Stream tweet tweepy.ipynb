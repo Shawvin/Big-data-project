{
 "cells": [
  {
   "cell_type": "code",
   "execution_count": 1,
   "metadata": {},
   "outputs": [],
   "source": [
    "# import the necessary packages\n",
    "import tweepy\n",
    "from tweepy import Stream\n",
    "from tweepy.streaming import StreamListener\n",
    "from tweepy import OAuthHandler\n",
    "import socket\n",
    "import json"
   ]
  },
  {
   "cell_type": "code",
   "execution_count": 4,
   "metadata": {},
   "outputs": [],
   "source": [
    "auth = []\n",
    "f = open(\"academic_auth\", \"r\")\n",
    "for line in f:\n",
    "    auth.append(line.strip())\n",
    "f.close()\n",
    "\n",
    "keyword=['vaccine']"
   ]
  },
  {
   "cell_type": "code",
   "execution_count": 5,
   "metadata": {},
   "outputs": [],
   "source": [
    "class TweetsListener(StreamListener):\n",
    "  # tweet object listens for the tweets\n",
    "    def __init__(self, csocket):\n",
    "        self.client_socket = csocket\n",
    "    def on_data(self, data):\n",
    "        try:  \n",
    "            msg = json.loads( data )\n",
    "            print(\"new message\")\n",
    "            # if tweet is longer than 140 characters\n",
    "            if \"extended_tweet\" in msg:\n",
    "                # add at the end of each tweet \"t_end\" \n",
    "                self.client_socket.send(str(msg['extended_tweet']['full_text']+\"t_end\").encode('utf-8'))\n",
    "                print(msg['extended_tweet']['full_text'])\n",
    "            else:\n",
    "                # add at the end of each tweet \"t_end\" \n",
    "                self.client_socket.send(str(msg['text']+\"t_end\").encode('utf-8'))\n",
    "                print(msg['text'])\n",
    "            return True\n",
    "        except BaseException as e:\n",
    "            print(\"Error on_data: %s\" % str(e))\n",
    "        return True\n",
    "\n",
    "    def on_error(self, status):\n",
    "        print(status)\n",
    "        return True"
   ]
  },
  {
   "cell_type": "code",
   "execution_count": 6,
   "metadata": {},
   "outputs": [],
   "source": [
    "def sendData(c_socket, keyword):\n",
    "    print('start sending data from Twitter to socket')\n",
    "    # authentication based on the credentials\n",
    "    auth = OAuthHandler(auth[0], auth[1])\n",
    "    auth.set_access_token(auth[2], auth[3])\n",
    "    # start sending data from the Streaming API \n",
    "    twitter_stream = Stream(auth, TweetsListener(c_socket))\n",
    "    twitter_stream.filter(track = keyword, languages=[\"en\"])\n"
   ]
  },
  {
   "cell_type": "code",
   "execution_count": null,
   "metadata": {},
   "outputs": [
    {
     "name": "stdout",
     "output_type": "stream",
     "text": [
      "socket is ready\n",
      "socket is listening\n"
     ]
    }
   ],
   "source": [
    "# server (local machine) creates listening socket\n",
    "s = socket.socket()\n",
    "host = \"0.0.0.0\"    \n",
    "port = 5555\n",
    "s.bind((host, port))\n",
    "print('socket is ready')\n",
    "# server (local machine) listens for connections\n",
    "s.listen(4)\n",
    "print('socket is listening')\n",
    "# return the socket and the address on the other side of the connection (client side)\n",
    "c_socket, addr = s.accept()\n",
    "print(\"Received request from: \" + str(addr))\n",
    "# select here the keyword for the tweet data\n",
    "sendData(c_socket, keyword)"
   ]
  },
  {
   "cell_type": "code",
   "execution_count": null,
   "metadata": {},
   "outputs": [],
   "source": []
  }
 ],
 "metadata": {
  "kernelspec": {
   "display_name": "Python 3",
   "language": "python",
   "name": "python3"
  },
  "language_info": {
   "codemirror_mode": {
    "name": "ipython",
    "version": 3
   },
   "file_extension": ".py",
   "mimetype": "text/x-python",
   "name": "python",
   "nbconvert_exporter": "python",
   "pygments_lexer": "ipython3",
   "version": "3.7.2"
  }
 },
 "nbformat": 4,
 "nbformat_minor": 2
}
